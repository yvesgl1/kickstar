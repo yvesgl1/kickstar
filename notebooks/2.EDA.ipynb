{
 "metadata": {
  "language_info": {
   "codemirror_mode": {
    "name": "ipython",
    "version": 3
   },
   "file_extension": ".py",
   "mimetype": "text/x-python",
   "name": "python",
   "nbconvert_exporter": "python",
   "pygments_lexer": "ipython3",
   "version": "3.8.5"
  },
  "orig_nbformat": 4,
  "kernelspec": {
   "name": "python3",
   "display_name": "Python 3.8.5 64-bit ('.venv': venv)"
  },
  "interpreter": {
   "hash": "c925af0cb165fe8e0b63023463d25f11f49eba423f78b573a1e352aabcf6fd44"
  }
 },
 "nbformat": 4,
 "nbformat_minor": 2,
 "cells": [
  {
   "cell_type": "code",
   "execution_count": 1,
   "metadata": {},
   "outputs": [],
   "source": [
    "import numpy as np\n",
    "import pandas as pd \n",
    "import matplotlib as plt\n",
    "import seaborn as sns\n",
    "import sklearn as sk "
   ]
  },
  {
   "cell_type": "code",
   "execution_count": 2,
   "metadata": {},
   "outputs": [
    {
     "output_type": "execute_result",
     "data": {
      "text/plain": [
       "   backers_count                                              blurb  \\\n",
       "0             47  A colorful Dia de los Muertos themed oracle de...   \n",
       "1            271  Electra's long awaited, eclectic Debut Pop/Roc...   \n",
       "2              3  The Mist of Tribunal is a turn-based card game...   \n",
       "3              3  Livng with a brain impairment, what its like t...   \n",
       "4             35  Annapolis Chamber Players is a non-for profit ...   \n",
       "\n",
       "   converted_pledged_amount country           created_at             deadline  \\\n",
       "0                      1950      US  2017-08-02 14:28:13  2017-09-09 17:00:59   \n",
       "1                     22404      US  2012-09-30 06:45:33  2013-06-12 05:03:15   \n",
       "2                       165      GB  2017-01-07 09:11:11  2017-03-13 17:22:56   \n",
       "3                      2820      US  2012-12-06 18:04:31  2013-01-09 20:32:07   \n",
       "4                      3725      US  2014-10-24 17:35:50  2015-05-02 02:25:46   \n",
       "\n",
       "   disable_communication          id  is_starrable          launched_at  ...  \\\n",
       "0                  False   928751314         False  2017-08-10 17:00:59  ...   \n",
       "1                  False   928014092         False  2013-05-13 05:03:15  ...   \n",
       "2                  False   596091328         False  2017-01-12 18:22:56  ...   \n",
       "3                  False   998516049         False  2012-12-10 20:32:07  ...   \n",
       "4                  False  1224600291         False  2015-04-02 02:25:46  ...   \n",
       "\n",
       "      state_changed_at  ratio_target  subcategy_id      subcategory  \\\n",
       "0  2017-09-09 17:00:59      1.950000           273    Playing Cards   \n",
       "1  2013-06-12 05:03:15      1.493600            43             Rock   \n",
       "2  2017-03-13 17:22:56      0.016500           273    Playing Cards   \n",
       "3  2013-01-09 20:32:07      1.007143            48       Nonfiction   \n",
       "4  2015-05-02 02:25:46      1.064286            36  Classical Music   \n",
       "\n",
       "     category  category_id  month_project weekday duration  convert_goal  \n",
       "0       games           12              8       3       30     1000.0000  \n",
       "1       music           14              5       0       30    15000.0000  \n",
       "2       games           12              1       3       59    12160.6569  \n",
       "3  publishing           18             12       0       30     2800.0000  \n",
       "4       music           14              4       3       30     3500.0000  \n",
       "\n",
       "[5 rows x 24 columns]"
      ],
      "text/html": "<div>\n<style scoped>\n    .dataframe tbody tr th:only-of-type {\n        vertical-align: middle;\n    }\n\n    .dataframe tbody tr th {\n        vertical-align: top;\n    }\n\n    .dataframe thead th {\n        text-align: right;\n    }\n</style>\n<table border=\"1\" class=\"dataframe\">\n  <thead>\n    <tr style=\"text-align: right;\">\n      <th></th>\n      <th>backers_count</th>\n      <th>blurb</th>\n      <th>converted_pledged_amount</th>\n      <th>country</th>\n      <th>created_at</th>\n      <th>deadline</th>\n      <th>disable_communication</th>\n      <th>id</th>\n      <th>is_starrable</th>\n      <th>launched_at</th>\n      <th>...</th>\n      <th>state_changed_at</th>\n      <th>ratio_target</th>\n      <th>subcategy_id</th>\n      <th>subcategory</th>\n      <th>category</th>\n      <th>category_id</th>\n      <th>month_project</th>\n      <th>weekday</th>\n      <th>duration</th>\n      <th>convert_goal</th>\n    </tr>\n  </thead>\n  <tbody>\n    <tr>\n      <th>0</th>\n      <td>47</td>\n      <td>A colorful Dia de los Muertos themed oracle de...</td>\n      <td>1950</td>\n      <td>US</td>\n      <td>2017-08-02 14:28:13</td>\n      <td>2017-09-09 17:00:59</td>\n      <td>False</td>\n      <td>928751314</td>\n      <td>False</td>\n      <td>2017-08-10 17:00:59</td>\n      <td>...</td>\n      <td>2017-09-09 17:00:59</td>\n      <td>1.950000</td>\n      <td>273</td>\n      <td>Playing Cards</td>\n      <td>games</td>\n      <td>12</td>\n      <td>8</td>\n      <td>3</td>\n      <td>30</td>\n      <td>1000.0000</td>\n    </tr>\n    <tr>\n      <th>1</th>\n      <td>271</td>\n      <td>Electra's long awaited, eclectic Debut Pop/Roc...</td>\n      <td>22404</td>\n      <td>US</td>\n      <td>2012-09-30 06:45:33</td>\n      <td>2013-06-12 05:03:15</td>\n      <td>False</td>\n      <td>928014092</td>\n      <td>False</td>\n      <td>2013-05-13 05:03:15</td>\n      <td>...</td>\n      <td>2013-06-12 05:03:15</td>\n      <td>1.493600</td>\n      <td>43</td>\n      <td>Rock</td>\n      <td>music</td>\n      <td>14</td>\n      <td>5</td>\n      <td>0</td>\n      <td>30</td>\n      <td>15000.0000</td>\n    </tr>\n    <tr>\n      <th>2</th>\n      <td>3</td>\n      <td>The Mist of Tribunal is a turn-based card game...</td>\n      <td>165</td>\n      <td>GB</td>\n      <td>2017-01-07 09:11:11</td>\n      <td>2017-03-13 17:22:56</td>\n      <td>False</td>\n      <td>596091328</td>\n      <td>False</td>\n      <td>2017-01-12 18:22:56</td>\n      <td>...</td>\n      <td>2017-03-13 17:22:56</td>\n      <td>0.016500</td>\n      <td>273</td>\n      <td>Playing Cards</td>\n      <td>games</td>\n      <td>12</td>\n      <td>1</td>\n      <td>3</td>\n      <td>59</td>\n      <td>12160.6569</td>\n    </tr>\n    <tr>\n      <th>3</th>\n      <td>3</td>\n      <td>Livng with a brain impairment, what its like t...</td>\n      <td>2820</td>\n      <td>US</td>\n      <td>2012-12-06 18:04:31</td>\n      <td>2013-01-09 20:32:07</td>\n      <td>False</td>\n      <td>998516049</td>\n      <td>False</td>\n      <td>2012-12-10 20:32:07</td>\n      <td>...</td>\n      <td>2013-01-09 20:32:07</td>\n      <td>1.007143</td>\n      <td>48</td>\n      <td>Nonfiction</td>\n      <td>publishing</td>\n      <td>18</td>\n      <td>12</td>\n      <td>0</td>\n      <td>30</td>\n      <td>2800.0000</td>\n    </tr>\n    <tr>\n      <th>4</th>\n      <td>35</td>\n      <td>Annapolis Chamber Players is a non-for profit ...</td>\n      <td>3725</td>\n      <td>US</td>\n      <td>2014-10-24 17:35:50</td>\n      <td>2015-05-02 02:25:46</td>\n      <td>False</td>\n      <td>1224600291</td>\n      <td>False</td>\n      <td>2015-04-02 02:25:46</td>\n      <td>...</td>\n      <td>2015-05-02 02:25:46</td>\n      <td>1.064286</td>\n      <td>36</td>\n      <td>Classical Music</td>\n      <td>music</td>\n      <td>14</td>\n      <td>4</td>\n      <td>3</td>\n      <td>30</td>\n      <td>3500.0000</td>\n    </tr>\n  </tbody>\n</table>\n<p>5 rows × 24 columns</p>\n</div>"
     },
     "metadata": {},
     "execution_count": 2
    }
   ],
   "source": [
    "df=pd.read_csv('/Users/chrisgilibert/neuefische/kickstar/data/data2/final_frame.csv')\n",
    "df.head()"
   ]
  },
  {
   "cell_type": "code",
   "execution_count": 4,
   "metadata": {},
   "outputs": [],
   "source": [
    "features = df.drop([\"state\"], axis=1)\n",
    "target = df[\"state\"]\n"
   ]
  },
  {
   "cell_type": "code",
   "execution_count": 6,
   "metadata": {},
   "outputs": [
    {
     "output_type": "execute_result",
     "data": {
      "text/plain": [
       "Index(['backers_count', 'blurb', 'converted_pledged_amount', 'country',\n",
       "       'created_at', 'deadline', 'disable_communication', 'id', 'is_starrable',\n",
       "       'launched_at', 'name', 'spotlight', 'staff_pick', 'state_changed_at',\n",
       "       'ratio_target', 'subcategy_id', 'subcategory', 'category',\n",
       "       'category_id', 'month_project', 'weekday', 'duration', 'convert_goal'],\n",
       "      dtype='object')"
      ]
     },
     "metadata": {},
     "execution_count": 6
    }
   ],
   "source": [
    "features.columns"
   ]
  },
  {
   "cell_type": "code",
   "execution_count": 8,
   "metadata": {},
   "outputs": [],
   "source": [
    "features_raw= features.drop([\"blurb\", 'created_at',\t'deadline' ,  'id',  'launched_at', 'name','state_changed_at', 'subcategory', 'category', ], axis=1)"
   ]
  },
  {
   "cell_type": "code",
   "execution_count": 9,
   "metadata": {},
   "outputs": [
    {
     "output_type": "stream",
     "name": "stdout",
     "text": [
      "<class 'pandas.core.frame.DataFrame'>\nRangeIndex: 168979 entries, 0 to 168978\nData columns (total 34 columns):\n #   Column                    Non-Null Count   Dtype  \n---  ------                    --------------   -----  \n 0   backers_count             168979 non-null  int64  \n 1   converted_pledged_amount  168979 non-null  int64  \n 2   disable_communication     168979 non-null  bool   \n 3   is_starrable              168979 non-null  bool   \n 4   spotlight                 168979 non-null  bool   \n 5   staff_pick                168979 non-null  bool   \n 6   ratio_target              168979 non-null  float64\n 7   subcategy_id              168979 non-null  int64  \n 8   category_id               168979 non-null  int64  \n 9   month_project             168979 non-null  int64  \n 10  weekday                   168979 non-null  int64  \n 11  duration                  168979 non-null  int64  \n 12  convert_goal              168979 non-null  float64\n 13  country_AU                168979 non-null  uint8  \n 14  country_BE                168979 non-null  uint8  \n 15  country_CA                168979 non-null  uint8  \n 16  country_CH                168979 non-null  uint8  \n 17  country_DE                168979 non-null  uint8  \n 18  country_DK                168979 non-null  uint8  \n 19  country_ES                168979 non-null  uint8  \n 20  country_FR                168979 non-null  uint8  \n 21  country_GB                168979 non-null  uint8  \n 22  country_HK                168979 non-null  uint8  \n 23  country_IE                168979 non-null  uint8  \n 24  country_IT                168979 non-null  uint8  \n 25  country_JP                168979 non-null  uint8  \n 26  country_LU                168979 non-null  uint8  \n 27  country_MX                168979 non-null  uint8  \n 28  country_NL                168979 non-null  uint8  \n 29  country_NO                168979 non-null  uint8  \n 30  country_NZ                168979 non-null  uint8  \n 31  country_SE                168979 non-null  uint8  \n 32  country_SG                168979 non-null  uint8  \n 33  country_US                168979 non-null  uint8  \ndtypes: bool(4), float64(2), int64(7), uint8(21)\nmemory usage: 15.6 MB\n"
     ]
    }
   ],
   "source": [
    "features_raw= pd.get_dummies(features_raw, drop_first=True)\n",
    "features_raw.info()\n"
   ]
  },
  {
   "cell_type": "code",
   "execution_count": 12,
   "metadata": {},
   "outputs": [
    {
     "output_type": "execute_result",
     "data": {
      "text/plain": [
       "        backers_count  converted_pledged_amount  disable_communication  \\\n",
       "0                  47                      1950                  False   \n",
       "1                 271                     22404                  False   \n",
       "2                   3                       165                  False   \n",
       "3                   3                      2820                  False   \n",
       "4                  35                      3725                  False   \n",
       "...               ...                       ...                    ...   \n",
       "168974            108                      4078                  False   \n",
       "168975             72                      5710                  False   \n",
       "168976             62                      2681                  False   \n",
       "168977             76                      5692                  False   \n",
       "168978             44                      1293                  False   \n",
       "\n",
       "        is_starrable  spotlight  staff_pick  ratio_target  subcategy_id  \\\n",
       "0              False       True       False      1.950000           273   \n",
       "1              False       True       False      1.493600            43   \n",
       "2              False      False       False      0.016500           273   \n",
       "3              False       True       False      1.007143            48   \n",
       "4              False       True       False      1.064286            36   \n",
       "...              ...        ...         ...           ...           ...   \n",
       "168974         False       True       False      1.050219            38   \n",
       "168975         False       True       False      1.142000            38   \n",
       "168976         False       True       False      1.072400            52   \n",
       "168977         False       True       False      1.034909           295   \n",
       "168978         False       True        True      1.293000            13   \n",
       "\n",
       "        category_id  month_project  weekday  duration  convert_goal  \\\n",
       "0                12              8        3        30     1000.0000   \n",
       "1                14              5        0        30    15000.0000   \n",
       "2                12              1        3        59    12160.6569   \n",
       "3                18             12        0        30     2800.0000   \n",
       "4                14              4        3        30     3500.0000   \n",
       "...             ...            ...      ...       ...           ...   \n",
       "168974           14              8        0        58     3883.0000   \n",
       "168975           14              5        6        36     5466.5002   \n",
       "168976           16              8        1        33     2500.0000   \n",
       "168977           11              3        5        30     5500.0000   \n",
       "168978           13              1        3        31     1000.0000   \n",
       "\n",
       "        country_AU  country_BE  country_CA  country_CH  country_DE  \\\n",
       "0                0           0           0           0           0   \n",
       "1                0           0           0           0           0   \n",
       "2                0           0           0           0           0   \n",
       "3                0           0           0           0           0   \n",
       "4                0           0           0           0           0   \n",
       "...            ...         ...         ...         ...         ...   \n",
       "168974           0           0           0           0           0   \n",
       "168975           0           0           0           0           0   \n",
       "168976           0           0           0           0           0   \n",
       "168977           0           0           0           0           0   \n",
       "168978           0           0           0           0           0   \n",
       "\n",
       "        country_DK  country_ES  country_FR  country_GB  country_HK  \\\n",
       "0                0           0           0           0           0   \n",
       "1                0           0           0           0           0   \n",
       "2                0           0           0           1           0   \n",
       "3                0           0           0           0           0   \n",
       "4                0           0           0           0           0   \n",
       "...            ...         ...         ...         ...         ...   \n",
       "168974           0           0           0           0           0   \n",
       "168975           0           0           0           0           0   \n",
       "168976           0           0           0           0           0   \n",
       "168977           0           0           0           0           0   \n",
       "168978           0           0           0           0           0   \n",
       "\n",
       "        country_IE  country_IT  country_JP  country_LU  country_MX  \\\n",
       "0                0           0           0           0           0   \n",
       "1                0           0           0           0           0   \n",
       "2                0           0           0           0           0   \n",
       "3                0           0           0           0           0   \n",
       "4                0           0           0           0           0   \n",
       "...            ...         ...         ...         ...         ...   \n",
       "168974           0           0           0           0           0   \n",
       "168975           0           0           0           0           0   \n",
       "168976           0           0           0           0           0   \n",
       "168977           0           0           0           0           0   \n",
       "168978           0           0           0           0           0   \n",
       "\n",
       "        country_NL  country_NO  country_NZ  country_SE  country_SG  country_US  \n",
       "0                0           0           0           0           0           1  \n",
       "1                0           0           0           0           0           1  \n",
       "2                0           0           0           0           0           0  \n",
       "3                0           0           0           0           0           1  \n",
       "4                0           0           0           0           0           1  \n",
       "...            ...         ...         ...         ...         ...         ...  \n",
       "168974           0           0           0           0           0           1  \n",
       "168975           1           0           0           0           0           0  \n",
       "168976           0           0           0           0           0           1  \n",
       "168977           0           0           0           0           0           1  \n",
       "168978           0           0           0           0           0           1  \n",
       "\n",
       "[168979 rows x 34 columns]"
      ],
      "text/html": "<div>\n<style scoped>\n    .dataframe tbody tr th:only-of-type {\n        vertical-align: middle;\n    }\n\n    .dataframe tbody tr th {\n        vertical-align: top;\n    }\n\n    .dataframe thead th {\n        text-align: right;\n    }\n</style>\n<table border=\"1\" class=\"dataframe\">\n  <thead>\n    <tr style=\"text-align: right;\">\n      <th></th>\n      <th>backers_count</th>\n      <th>converted_pledged_amount</th>\n      <th>disable_communication</th>\n      <th>is_starrable</th>\n      <th>spotlight</th>\n      <th>staff_pick</th>\n      <th>ratio_target</th>\n      <th>subcategy_id</th>\n      <th>category_id</th>\n      <th>month_project</th>\n      <th>weekday</th>\n      <th>duration</th>\n      <th>convert_goal</th>\n      <th>country_AU</th>\n      <th>country_BE</th>\n      <th>country_CA</th>\n      <th>country_CH</th>\n      <th>country_DE</th>\n      <th>country_DK</th>\n      <th>country_ES</th>\n      <th>country_FR</th>\n      <th>country_GB</th>\n      <th>country_HK</th>\n      <th>country_IE</th>\n      <th>country_IT</th>\n      <th>country_JP</th>\n      <th>country_LU</th>\n      <th>country_MX</th>\n      <th>country_NL</th>\n      <th>country_NO</th>\n      <th>country_NZ</th>\n      <th>country_SE</th>\n      <th>country_SG</th>\n      <th>country_US</th>\n    </tr>\n  </thead>\n  <tbody>\n    <tr>\n      <th>0</th>\n      <td>47</td>\n      <td>1950</td>\n      <td>False</td>\n      <td>False</td>\n      <td>True</td>\n      <td>False</td>\n      <td>1.950000</td>\n      <td>273</td>\n      <td>12</td>\n      <td>8</td>\n      <td>3</td>\n      <td>30</td>\n      <td>1000.0000</td>\n      <td>0</td>\n      <td>0</td>\n      <td>0</td>\n      <td>0</td>\n      <td>0</td>\n      <td>0</td>\n      <td>0</td>\n      <td>0</td>\n      <td>0</td>\n      <td>0</td>\n      <td>0</td>\n      <td>0</td>\n      <td>0</td>\n      <td>0</td>\n      <td>0</td>\n      <td>0</td>\n      <td>0</td>\n      <td>0</td>\n      <td>0</td>\n      <td>0</td>\n      <td>1</td>\n    </tr>\n    <tr>\n      <th>1</th>\n      <td>271</td>\n      <td>22404</td>\n      <td>False</td>\n      <td>False</td>\n      <td>True</td>\n      <td>False</td>\n      <td>1.493600</td>\n      <td>43</td>\n      <td>14</td>\n      <td>5</td>\n      <td>0</td>\n      <td>30</td>\n      <td>15000.0000</td>\n      <td>0</td>\n      <td>0</td>\n      <td>0</td>\n      <td>0</td>\n      <td>0</td>\n      <td>0</td>\n      <td>0</td>\n      <td>0</td>\n      <td>0</td>\n      <td>0</td>\n      <td>0</td>\n      <td>0</td>\n      <td>0</td>\n      <td>0</td>\n      <td>0</td>\n      <td>0</td>\n      <td>0</td>\n      <td>0</td>\n      <td>0</td>\n      <td>0</td>\n      <td>1</td>\n    </tr>\n    <tr>\n      <th>2</th>\n      <td>3</td>\n      <td>165</td>\n      <td>False</td>\n      <td>False</td>\n      <td>False</td>\n      <td>False</td>\n      <td>0.016500</td>\n      <td>273</td>\n      <td>12</td>\n      <td>1</td>\n      <td>3</td>\n      <td>59</td>\n      <td>12160.6569</td>\n      <td>0</td>\n      <td>0</td>\n      <td>0</td>\n      <td>0</td>\n      <td>0</td>\n      <td>0</td>\n      <td>0</td>\n      <td>0</td>\n      <td>1</td>\n      <td>0</td>\n      <td>0</td>\n      <td>0</td>\n      <td>0</td>\n      <td>0</td>\n      <td>0</td>\n      <td>0</td>\n      <td>0</td>\n      <td>0</td>\n      <td>0</td>\n      <td>0</td>\n      <td>0</td>\n    </tr>\n    <tr>\n      <th>3</th>\n      <td>3</td>\n      <td>2820</td>\n      <td>False</td>\n      <td>False</td>\n      <td>True</td>\n      <td>False</td>\n      <td>1.007143</td>\n      <td>48</td>\n      <td>18</td>\n      <td>12</td>\n      <td>0</td>\n      <td>30</td>\n      <td>2800.0000</td>\n      <td>0</td>\n      <td>0</td>\n      <td>0</td>\n      <td>0</td>\n      <td>0</td>\n      <td>0</td>\n      <td>0</td>\n      <td>0</td>\n      <td>0</td>\n      <td>0</td>\n      <td>0</td>\n      <td>0</td>\n      <td>0</td>\n      <td>0</td>\n      <td>0</td>\n      <td>0</td>\n      <td>0</td>\n      <td>0</td>\n      <td>0</td>\n      <td>0</td>\n      <td>1</td>\n    </tr>\n    <tr>\n      <th>4</th>\n      <td>35</td>\n      <td>3725</td>\n      <td>False</td>\n      <td>False</td>\n      <td>True</td>\n      <td>False</td>\n      <td>1.064286</td>\n      <td>36</td>\n      <td>14</td>\n      <td>4</td>\n      <td>3</td>\n      <td>30</td>\n      <td>3500.0000</td>\n      <td>0</td>\n      <td>0</td>\n      <td>0</td>\n      <td>0</td>\n      <td>0</td>\n      <td>0</td>\n      <td>0</td>\n      <td>0</td>\n      <td>0</td>\n      <td>0</td>\n      <td>0</td>\n      <td>0</td>\n      <td>0</td>\n      <td>0</td>\n      <td>0</td>\n      <td>0</td>\n      <td>0</td>\n      <td>0</td>\n      <td>0</td>\n      <td>0</td>\n      <td>1</td>\n    </tr>\n    <tr>\n      <th>...</th>\n      <td>...</td>\n      <td>...</td>\n      <td>...</td>\n      <td>...</td>\n      <td>...</td>\n      <td>...</td>\n      <td>...</td>\n      <td>...</td>\n      <td>...</td>\n      <td>...</td>\n      <td>...</td>\n      <td>...</td>\n      <td>...</td>\n      <td>...</td>\n      <td>...</td>\n      <td>...</td>\n      <td>...</td>\n      <td>...</td>\n      <td>...</td>\n      <td>...</td>\n      <td>...</td>\n      <td>...</td>\n      <td>...</td>\n      <td>...</td>\n      <td>...</td>\n      <td>...</td>\n      <td>...</td>\n      <td>...</td>\n      <td>...</td>\n      <td>...</td>\n      <td>...</td>\n      <td>...</td>\n      <td>...</td>\n      <td>...</td>\n    </tr>\n    <tr>\n      <th>168974</th>\n      <td>108</td>\n      <td>4078</td>\n      <td>False</td>\n      <td>False</td>\n      <td>True</td>\n      <td>False</td>\n      <td>1.050219</td>\n      <td>38</td>\n      <td>14</td>\n      <td>8</td>\n      <td>0</td>\n      <td>58</td>\n      <td>3883.0000</td>\n      <td>0</td>\n      <td>0</td>\n      <td>0</td>\n      <td>0</td>\n      <td>0</td>\n      <td>0</td>\n      <td>0</td>\n      <td>0</td>\n      <td>0</td>\n      <td>0</td>\n      <td>0</td>\n      <td>0</td>\n      <td>0</td>\n      <td>0</td>\n      <td>0</td>\n      <td>0</td>\n      <td>0</td>\n      <td>0</td>\n      <td>0</td>\n      <td>0</td>\n      <td>1</td>\n    </tr>\n    <tr>\n      <th>168975</th>\n      <td>72</td>\n      <td>5710</td>\n      <td>False</td>\n      <td>False</td>\n      <td>True</td>\n      <td>False</td>\n      <td>1.142000</td>\n      <td>38</td>\n      <td>14</td>\n      <td>5</td>\n      <td>6</td>\n      <td>36</td>\n      <td>5466.5002</td>\n      <td>0</td>\n      <td>0</td>\n      <td>0</td>\n      <td>0</td>\n      <td>0</td>\n      <td>0</td>\n      <td>0</td>\n      <td>0</td>\n      <td>0</td>\n      <td>0</td>\n      <td>0</td>\n      <td>0</td>\n      <td>0</td>\n      <td>0</td>\n      <td>0</td>\n      <td>1</td>\n      <td>0</td>\n      <td>0</td>\n      <td>0</td>\n      <td>0</td>\n      <td>0</td>\n    </tr>\n    <tr>\n      <th>168976</th>\n      <td>62</td>\n      <td>2681</td>\n      <td>False</td>\n      <td>False</td>\n      <td>True</td>\n      <td>False</td>\n      <td>1.072400</td>\n      <td>52</td>\n      <td>16</td>\n      <td>8</td>\n      <td>1</td>\n      <td>33</td>\n      <td>2500.0000</td>\n      <td>0</td>\n      <td>0</td>\n      <td>0</td>\n      <td>0</td>\n      <td>0</td>\n      <td>0</td>\n      <td>0</td>\n      <td>0</td>\n      <td>0</td>\n      <td>0</td>\n      <td>0</td>\n      <td>0</td>\n      <td>0</td>\n      <td>0</td>\n      <td>0</td>\n      <td>0</td>\n      <td>0</td>\n      <td>0</td>\n      <td>0</td>\n      <td>0</td>\n      <td>1</td>\n    </tr>\n    <tr>\n      <th>168977</th>\n      <td>76</td>\n      <td>5692</td>\n      <td>False</td>\n      <td>False</td>\n      <td>True</td>\n      <td>False</td>\n      <td>1.034909</td>\n      <td>295</td>\n      <td>11</td>\n      <td>3</td>\n      <td>5</td>\n      <td>30</td>\n      <td>5500.0000</td>\n      <td>0</td>\n      <td>0</td>\n      <td>0</td>\n      <td>0</td>\n      <td>0</td>\n      <td>0</td>\n      <td>0</td>\n      <td>0</td>\n      <td>0</td>\n      <td>0</td>\n      <td>0</td>\n      <td>0</td>\n      <td>0</td>\n      <td>0</td>\n      <td>0</td>\n      <td>0</td>\n      <td>0</td>\n      <td>0</td>\n      <td>0</td>\n      <td>0</td>\n      <td>1</td>\n    </tr>\n    <tr>\n      <th>168978</th>\n      <td>44</td>\n      <td>1293</td>\n      <td>False</td>\n      <td>False</td>\n      <td>True</td>\n      <td>True</td>\n      <td>1.293000</td>\n      <td>13</td>\n      <td>13</td>\n      <td>1</td>\n      <td>3</td>\n      <td>31</td>\n      <td>1000.0000</td>\n      <td>0</td>\n      <td>0</td>\n      <td>0</td>\n      <td>0</td>\n      <td>0</td>\n      <td>0</td>\n      <td>0</td>\n      <td>0</td>\n      <td>0</td>\n      <td>0</td>\n      <td>0</td>\n      <td>0</td>\n      <td>0</td>\n      <td>0</td>\n      <td>0</td>\n      <td>0</td>\n      <td>0</td>\n      <td>0</td>\n      <td>0</td>\n      <td>0</td>\n      <td>1</td>\n    </tr>\n  </tbody>\n</table>\n<p>168979 rows × 34 columns</p>\n</div>"
     },
     "metadata": {},
     "execution_count": 12
    }
   ],
   "source": [
    "features_raw\n",
    "pd.set_option(\"display.max_columns\", None)\n",
    "features_raw"
   ]
  },
  {
   "cell_type": "code",
   "execution_count": 16,
   "metadata": {},
   "outputs": [
    {
     "output_type": "execute_result",
     "data": {
      "text/plain": [
       "0         1\n",
       "1         1\n",
       "2         0\n",
       "3         1\n",
       "4         1\n",
       "         ..\n",
       "168974    1\n",
       "168975    1\n",
       "168976    1\n",
       "168977    1\n",
       "168978    1\n",
       "Name: state, Length: 168979, dtype: int64"
      ]
     },
     "metadata": {},
     "execution_count": 16
    }
   ],
   "source": [
    "target=target.replace('failed', 0).replace('successful',1)\n",
    "target"
   ]
  },
  {
   "cell_type": "code",
   "execution_count": 21,
   "metadata": {},
   "outputs": [
    {
     "output_type": "execute_result",
     "data": {
      "text/plain": [
       "['backers_count',\n",
       " 'category_id',\n",
       " 'convert_goal',\n",
       " 'converted_pledged_amount',\n",
       " 'country_AU',\n",
       " 'country_BE',\n",
       " 'country_CA',\n",
       " 'country_CH',\n",
       " 'country_DE',\n",
       " 'country_DK',\n",
       " 'country_ES',\n",
       " 'country_FR',\n",
       " 'country_GB',\n",
       " 'country_HK',\n",
       " 'country_IE',\n",
       " 'country_IT',\n",
       " 'country_JP',\n",
       " 'country_LU',\n",
       " 'country_MX',\n",
       " 'country_NL',\n",
       " 'country_NO',\n",
       " 'country_NZ',\n",
       " 'country_SE',\n",
       " 'country_SG',\n",
       " 'country_US',\n",
       " 'disable_communication',\n",
       " 'duration',\n",
       " 'is_starrable',\n",
       " 'month_project',\n",
       " 'ratio_target',\n",
       " 'spotlight',\n",
       " 'staff_pick',\n",
       " 'subcategy_id',\n",
       " 'weekday']"
      ]
     },
     "metadata": {},
     "execution_count": 21
    }
   ],
   "source": [
    "sorted(features_raw.columns)"
   ]
  },
  {
   "cell_type": "code",
   "execution_count": 22,
   "metadata": {},
   "outputs": [
    {
     "output_type": "stream",
     "name": "stdout",
     "text": [
      "Training set has 135183 samples.\nTesting set has 33796 samples.\n"
     ]
    }
   ],
   "source": [
    "from sklearn.model_selection import train_test_split\n",
    "X_train, X_test, y_train, y_test= train_test_split( features_raw, target, stratify=target, random_state=42, test_size=0.2)\n",
    "print (\"Training set has {} samples.\".format(X_train.shape[0]))\n",
    "print (\"Testing set has {} samples.\".format(X_test.shape[0]))"
   ]
  },
  {
   "source": [],
   "cell_type": "markdown",
   "metadata": {}
  }
 ]
}