{
 "metadata": {
  "language_info": {
   "codemirror_mode": {
    "name": "ipython",
    "version": 3
   },
   "file_extension": ".py",
   "mimetype": "text/x-python",
   "name": "python",
   "nbconvert_exporter": "python",
   "pygments_lexer": "ipython3",
   "version": "3.8.5"
  },
  "orig_nbformat": 4,
  "kernelspec": {
   "name": "python3",
   "display_name": "Python 3.8.5 64-bit ('.venv': venv)"
  },
  "interpreter": {
   "hash": "a9f72fa0b1589baa5178e178c1f863f1f988464296f518fdee65b94f439a406a"
  }
 },
 "nbformat": 4,
 "nbformat_minor": 2,
 "cells": [
  {
   "cell_type": "code",
   "execution_count": 1,
   "metadata": {},
   "outputs": [],
   "source": [
    "import numpy as np\n",
    "import pandas as pd \n",
    "import matplotlib as plt\n",
    "import seaborn as sns\n",
    "import sklearn as sk \n"
   ]
  },
  {
   "cell_type": "code",
   "execution_count": 8,
   "metadata": {},
   "outputs": [],
   "source": [
    "import glob\n",
    "\n",
    "path = r'/Users/julianeberek/neuefische/kickstar/data'\n",
    "all_files = glob.glob(os.path.join(path, \"*.csv\"))\n",
    "\n",
    "li = []\n",
    "\n",
    "for filename in all_files:\n",
    "    df = pd.read_csv(filename, index_col=None, header=0)\n",
    "    li.append(df)\n",
    "\n",
    "frame = pd.concat(li, axis=0, ignore_index=True)"
   ]
  },
  {
   "cell_type": "code",
   "execution_count": 10,
   "metadata": {},
   "outputs": [
    {
     "output_type": "stream",
     "name": "stdout",
     "text": [
      "<class 'pandas.core.frame.DataFrame'>\nRangeIndex: 209222 entries, 0 to 209221\nData columns (total 37 columns):\n #   Column                    Non-Null Count   Dtype  \n---  ------                    --------------   -----  \n 0   backers_count             209222 non-null  int64  \n 1   blurb                     209214 non-null  object \n 2   category                  209222 non-null  object \n 3   converted_pledged_amount  209222 non-null  int64  \n 4   country                   209222 non-null  object \n 5   created_at                209222 non-null  int64  \n 6   creator                   209222 non-null  object \n 7   currency                  209222 non-null  object \n 8   currency_symbol           209222 non-null  object \n 9   currency_trailing_code    209222 non-null  bool   \n 10  current_currency          209222 non-null  object \n 11  deadline                  209222 non-null  int64  \n 12  disable_communication     209222 non-null  bool   \n 13  friends                   300 non-null     object \n 14  fx_rate                   209222 non-null  float64\n 15  goal                      209222 non-null  float64\n 16  id                        209222 non-null  int64  \n 17  is_backing                300 non-null     object \n 18  is_starrable              209222 non-null  bool   \n 19  is_starred                300 non-null     object \n 20  launched_at               209222 non-null  int64  \n 21  location                  208996 non-null  object \n 22  name                      209222 non-null  object \n 23  permissions               300 non-null     object \n 24  photo                     209222 non-null  object \n 25  pledged                   209222 non-null  float64\n 26  profile                   209222 non-null  object \n 27  slug                      209222 non-null  object \n 28  source_url                209222 non-null  object \n 29  spotlight                 209222 non-null  bool   \n 30  staff_pick                209222 non-null  bool   \n 31  state                     209222 non-null  object \n 32  state_changed_at          209222 non-null  int64  \n 33  static_usd_rate           209222 non-null  float64\n 34  urls                      209222 non-null  object \n 35  usd_pledged               209222 non-null  float64\n 36  usd_type                  208742 non-null  object \ndtypes: bool(5), float64(5), int64(7), object(20)\nmemory usage: 52.1+ MB\n"
     ]
    }
   ],
   "source": [
    "frame.info()"
   ]
  },
  {
   "cell_type": "code",
   "execution_count": 21,
   "metadata": {},
   "outputs": [
    {
     "output_type": "execute_result",
     "data": {
      "text/plain": [
       "   backers_count                                              blurb  \\\n",
       "0            315                                      Babalus Shoes   \n",
       "1             47  A colorful Dia de los Muertos themed oracle de...   \n",
       "2            271  Electra's long awaited, eclectic Debut Pop/Roc...   \n",
       "3              3  The Mist of Tribunal is a turn-based card game...   \n",
       "4              3  Livng with a brain impairment, what its like t...   \n",
       "\n",
       "                                            category  \\\n",
       "0  {\"id\":266,\"name\":\"Footwear\",\"slug\":\"fashion/fo...   \n",
       "1  {\"id\":273,\"name\":\"Playing Cards\",\"slug\":\"games...   \n",
       "2  {\"id\":43,\"name\":\"Rock\",\"slug\":\"music/rock\",\"po...   \n",
       "3  {\"id\":273,\"name\":\"Playing Cards\",\"slug\":\"games...   \n",
       "4  {\"id\":48,\"name\":\"Nonfiction\",\"slug\":\"publishin...   \n",
       "\n",
       "   converted_pledged_amount country  created_at  \\\n",
       "0                     28645      US  1541459205   \n",
       "1                      1950      US  1501684093   \n",
       "2                     22404      US  1348987533   \n",
       "3                       165      GB  1483780271   \n",
       "4                      2820      US  1354817071   \n",
       "\n",
       "                                             creator currency currency_symbol  \\\n",
       "0  {\"id\":2094277840,\"name\":\"Lucy Conroy\",\"slug\":\"...      USD               $   \n",
       "1  {\"id\":723886115,\"name\":\"Lisa Vollrath\",\"slug\":...      USD               $   \n",
       "2  {\"id\":323849677,\"name\":\"Electra\",\"is_registere...      USD               $   \n",
       "3  {\"id\":196281496,\"name\":\"Artur Ordijanc (delete...      GBP               £   \n",
       "4  {\"id\":1178460181,\"name\":\"Dawn Johnston\",\"is_re...      USD               $   \n",
       "\n",
       "   currency_trailing_code current_currency    deadline  disable_communication  \\\n",
       "0                    True              USD  1552539775                  False   \n",
       "1                    True              USD  1504976459                  False   \n",
       "2                    True              USD  1371013395                  False   \n",
       "3                   False              USD  1489425776                  False   \n",
       "4                    True              USD  1357763527                  False   \n",
       "\n",
       "    fx_rate     goal          id  is_starrable  launched_at  \\\n",
       "0  1.000000  28000.0  2108505034         False   1548223375   \n",
       "1  1.000000   1000.0   928751314         False   1502384459   \n",
       "2  1.000000  15000.0   928014092         False   1368421395   \n",
       "3  1.308394  10000.0   596091328         False   1484245376   \n",
       "4  1.000000   2800.0   998516049         False   1355171527   \n",
       "\n",
       "                                            location  \\\n",
       "0  {\"id\":2462429,\"name\":\"Novato\",\"slug\":\"novato-c...   \n",
       "1  {\"id\":2400549,\"name\":\"Euless\",\"slug\":\"euless-t...   \n",
       "2  {\"id\":2423474,\"name\":\"Hollywood\",\"slug\":\"holly...   \n",
       "3  {\"id\":475457,\"name\":\"Kaunas\",\"slug\":\"kaunas-ka...   \n",
       "4  {\"id\":2507703,\"name\":\"Traverse City\",\"slug\":\"t...   \n",
       "\n",
       "                                                name  \\\n",
       "0                           Babalus Children's Shoes   \n",
       "1                            The Ofrenda Oracle Deck   \n",
       "2  Record Electra's Debut Album (Pop, Rock, Class...   \n",
       "3                 The Mist of Tribunal - A Card Game   \n",
       "4           Help change the face of Brain Impairment   \n",
       "\n",
       "                                               photo  pledged  \\\n",
       "0  {\"key\":\"assets/023/667/205/a565fde5382d6b53276...  28645.0   \n",
       "1  {\"key\":\"assets/017/766/989/dd9f18c773a8546d996...   1950.0   \n",
       "2  {\"key\":\"assets/011/433/681/489fd66f7861fefd8c8...  22404.0   \n",
       "3  {\"key\":\"assets/015/091/198/216fbf1bdc3739e7971...    136.0   \n",
       "4  {\"key\":\"assets/011/457/844/37ba63d35fefaba76e9...   2820.0   \n",
       "\n",
       "                                             profile  \\\n",
       "0  {\"id\":3508024,\"project_id\":3508024,\"state\":\"in...   \n",
       "1  {\"id\":3094785,\"project_id\":3094785,\"state\":\"ac...   \n",
       "2  {\"id\":359847,\"project_id\":359847,\"state\":\"inac...   \n",
       "3  {\"id\":2825329,\"project_id\":2825329,\"state\":\"in...   \n",
       "4  {\"id\":417385,\"project_id\":417385,\"state\":\"inac...   \n",
       "\n",
       "                                             slug  \\\n",
       "0                         babalus-childrens-shoes   \n",
       "1                         the-ofrenda-oracle-deck   \n",
       "2  record-electras-debut-album-pop-rock-classical   \n",
       "3                the-mist-of-tribunal-a-card-game   \n",
       "4        help-change-the-face-of-brain-impairment   \n",
       "\n",
       "                                          source_url  spotlight  staff_pick  \\\n",
       "0  https://www.kickstarter.com/discover/categorie...      False       False   \n",
       "1  https://www.kickstarter.com/discover/categorie...       True       False   \n",
       "2  https://www.kickstarter.com/discover/categorie...       True       False   \n",
       "3  https://www.kickstarter.com/discover/categorie...      False       False   \n",
       "4  https://www.kickstarter.com/discover/categorie...       True       False   \n",
       "\n",
       "        state  state_changed_at  static_usd_rate  \\\n",
       "0        live        1548223375         1.000000   \n",
       "1  successful        1504976459         1.000000   \n",
       "2  successful        1371013395         1.000000   \n",
       "3      failed        1489425776         1.216066   \n",
       "4  successful        1357763527         1.000000   \n",
       "\n",
       "                                                urls   usd_pledged  \\\n",
       "0  {\"web\":{\"project\":\"https://www.kickstarter.com...  28645.000000   \n",
       "1  {\"web\":{\"project\":\"https://www.kickstarter.com...   1950.000000   \n",
       "2  {\"web\":{\"project\":\"https://www.kickstarter.com...  22404.000000   \n",
       "3  {\"web\":{\"project\":\"https://www.kickstarter.com...    165.384934   \n",
       "4  {\"web\":{\"project\":\"https://www.kickstarter.com...   2820.000000   \n",
       "\n",
       "        usd_type  \n",
       "0  international  \n",
       "1       domestic  \n",
       "2  international  \n",
       "3       domestic  \n",
       "4       domestic  "
      ],
      "text/html": "<div>\n<style scoped>\n    .dataframe tbody tr th:only-of-type {\n        vertical-align: middle;\n    }\n\n    .dataframe tbody tr th {\n        vertical-align: top;\n    }\n\n    .dataframe thead th {\n        text-align: right;\n    }\n</style>\n<table border=\"1\" class=\"dataframe\">\n  <thead>\n    <tr style=\"text-align: right;\">\n      <th></th>\n      <th>backers_count</th>\n      <th>blurb</th>\n      <th>category</th>\n      <th>converted_pledged_amount</th>\n      <th>country</th>\n      <th>created_at</th>\n      <th>creator</th>\n      <th>currency</th>\n      <th>currency_symbol</th>\n      <th>currency_trailing_code</th>\n      <th>current_currency</th>\n      <th>deadline</th>\n      <th>disable_communication</th>\n      <th>fx_rate</th>\n      <th>goal</th>\n      <th>id</th>\n      <th>is_starrable</th>\n      <th>launched_at</th>\n      <th>location</th>\n      <th>name</th>\n      <th>photo</th>\n      <th>pledged</th>\n      <th>profile</th>\n      <th>slug</th>\n      <th>source_url</th>\n      <th>spotlight</th>\n      <th>staff_pick</th>\n      <th>state</th>\n      <th>state_changed_at</th>\n      <th>static_usd_rate</th>\n      <th>urls</th>\n      <th>usd_pledged</th>\n      <th>usd_type</th>\n    </tr>\n  </thead>\n  <tbody>\n    <tr>\n      <th>0</th>\n      <td>315</td>\n      <td>Babalus Shoes</td>\n      <td>{\"id\":266,\"name\":\"Footwear\",\"slug\":\"fashion/fo...</td>\n      <td>28645</td>\n      <td>US</td>\n      <td>1541459205</td>\n      <td>{\"id\":2094277840,\"name\":\"Lucy Conroy\",\"slug\":\"...</td>\n      <td>USD</td>\n      <td>$</td>\n      <td>True</td>\n      <td>USD</td>\n      <td>1552539775</td>\n      <td>False</td>\n      <td>1.000000</td>\n      <td>28000.0</td>\n      <td>2108505034</td>\n      <td>False</td>\n      <td>1548223375</td>\n      <td>{\"id\":2462429,\"name\":\"Novato\",\"slug\":\"novato-c...</td>\n      <td>Babalus Children's Shoes</td>\n      <td>{\"key\":\"assets/023/667/205/a565fde5382d6b53276...</td>\n      <td>28645.0</td>\n      <td>{\"id\":3508024,\"project_id\":3508024,\"state\":\"in...</td>\n      <td>babalus-childrens-shoes</td>\n      <td>https://www.kickstarter.com/discover/categorie...</td>\n      <td>False</td>\n      <td>False</td>\n      <td>live</td>\n      <td>1548223375</td>\n      <td>1.000000</td>\n      <td>{\"web\":{\"project\":\"https://www.kickstarter.com...</td>\n      <td>28645.000000</td>\n      <td>international</td>\n    </tr>\n    <tr>\n      <th>1</th>\n      <td>47</td>\n      <td>A colorful Dia de los Muertos themed oracle de...</td>\n      <td>{\"id\":273,\"name\":\"Playing Cards\",\"slug\":\"games...</td>\n      <td>1950</td>\n      <td>US</td>\n      <td>1501684093</td>\n      <td>{\"id\":723886115,\"name\":\"Lisa Vollrath\",\"slug\":...</td>\n      <td>USD</td>\n      <td>$</td>\n      <td>True</td>\n      <td>USD</td>\n      <td>1504976459</td>\n      <td>False</td>\n      <td>1.000000</td>\n      <td>1000.0</td>\n      <td>928751314</td>\n      <td>False</td>\n      <td>1502384459</td>\n      <td>{\"id\":2400549,\"name\":\"Euless\",\"slug\":\"euless-t...</td>\n      <td>The Ofrenda Oracle Deck</td>\n      <td>{\"key\":\"assets/017/766/989/dd9f18c773a8546d996...</td>\n      <td>1950.0</td>\n      <td>{\"id\":3094785,\"project_id\":3094785,\"state\":\"ac...</td>\n      <td>the-ofrenda-oracle-deck</td>\n      <td>https://www.kickstarter.com/discover/categorie...</td>\n      <td>True</td>\n      <td>False</td>\n      <td>successful</td>\n      <td>1504976459</td>\n      <td>1.000000</td>\n      <td>{\"web\":{\"project\":\"https://www.kickstarter.com...</td>\n      <td>1950.000000</td>\n      <td>domestic</td>\n    </tr>\n    <tr>\n      <th>2</th>\n      <td>271</td>\n      <td>Electra's long awaited, eclectic Debut Pop/Roc...</td>\n      <td>{\"id\":43,\"name\":\"Rock\",\"slug\":\"music/rock\",\"po...</td>\n      <td>22404</td>\n      <td>US</td>\n      <td>1348987533</td>\n      <td>{\"id\":323849677,\"name\":\"Electra\",\"is_registere...</td>\n      <td>USD</td>\n      <td>$</td>\n      <td>True</td>\n      <td>USD</td>\n      <td>1371013395</td>\n      <td>False</td>\n      <td>1.000000</td>\n      <td>15000.0</td>\n      <td>928014092</td>\n      <td>False</td>\n      <td>1368421395</td>\n      <td>{\"id\":2423474,\"name\":\"Hollywood\",\"slug\":\"holly...</td>\n      <td>Record Electra's Debut Album (Pop, Rock, Class...</td>\n      <td>{\"key\":\"assets/011/433/681/489fd66f7861fefd8c8...</td>\n      <td>22404.0</td>\n      <td>{\"id\":359847,\"project_id\":359847,\"state\":\"inac...</td>\n      <td>record-electras-debut-album-pop-rock-classical</td>\n      <td>https://www.kickstarter.com/discover/categorie...</td>\n      <td>True</td>\n      <td>False</td>\n      <td>successful</td>\n      <td>1371013395</td>\n      <td>1.000000</td>\n      <td>{\"web\":{\"project\":\"https://www.kickstarter.com...</td>\n      <td>22404.000000</td>\n      <td>international</td>\n    </tr>\n    <tr>\n      <th>3</th>\n      <td>3</td>\n      <td>The Mist of Tribunal is a turn-based card game...</td>\n      <td>{\"id\":273,\"name\":\"Playing Cards\",\"slug\":\"games...</td>\n      <td>165</td>\n      <td>GB</td>\n      <td>1483780271</td>\n      <td>{\"id\":196281496,\"name\":\"Artur Ordijanc (delete...</td>\n      <td>GBP</td>\n      <td>£</td>\n      <td>False</td>\n      <td>USD</td>\n      <td>1489425776</td>\n      <td>False</td>\n      <td>1.308394</td>\n      <td>10000.0</td>\n      <td>596091328</td>\n      <td>False</td>\n      <td>1484245376</td>\n      <td>{\"id\":475457,\"name\":\"Kaunas\",\"slug\":\"kaunas-ka...</td>\n      <td>The Mist of Tribunal - A Card Game</td>\n      <td>{\"key\":\"assets/015/091/198/216fbf1bdc3739e7971...</td>\n      <td>136.0</td>\n      <td>{\"id\":2825329,\"project_id\":2825329,\"state\":\"in...</td>\n      <td>the-mist-of-tribunal-a-card-game</td>\n      <td>https://www.kickstarter.com/discover/categorie...</td>\n      <td>False</td>\n      <td>False</td>\n      <td>failed</td>\n      <td>1489425776</td>\n      <td>1.216066</td>\n      <td>{\"web\":{\"project\":\"https://www.kickstarter.com...</td>\n      <td>165.384934</td>\n      <td>domestic</td>\n    </tr>\n    <tr>\n      <th>4</th>\n      <td>3</td>\n      <td>Livng with a brain impairment, what its like t...</td>\n      <td>{\"id\":48,\"name\":\"Nonfiction\",\"slug\":\"publishin...</td>\n      <td>2820</td>\n      <td>US</td>\n      <td>1354817071</td>\n      <td>{\"id\":1178460181,\"name\":\"Dawn Johnston\",\"is_re...</td>\n      <td>USD</td>\n      <td>$</td>\n      <td>True</td>\n      <td>USD</td>\n      <td>1357763527</td>\n      <td>False</td>\n      <td>1.000000</td>\n      <td>2800.0</td>\n      <td>998516049</td>\n      <td>False</td>\n      <td>1355171527</td>\n      <td>{\"id\":2507703,\"name\":\"Traverse City\",\"slug\":\"t...</td>\n      <td>Help change the face of Brain Impairment</td>\n      <td>{\"key\":\"assets/011/457/844/37ba63d35fefaba76e9...</td>\n      <td>2820.0</td>\n      <td>{\"id\":417385,\"project_id\":417385,\"state\":\"inac...</td>\n      <td>help-change-the-face-of-brain-impairment</td>\n      <td>https://www.kickstarter.com/discover/categorie...</td>\n      <td>True</td>\n      <td>False</td>\n      <td>successful</td>\n      <td>1357763527</td>\n      <td>1.000000</td>\n      <td>{\"web\":{\"project\":\"https://www.kickstarter.com...</td>\n      <td>2820.000000</td>\n      <td>domestic</td>\n    </tr>\n  </tbody>\n</table>\n</div>"
     },
     "metadata": {},
     "execution_count": 21
    }
   ],
   "source": [
    "pd.set_option(\"display.max_columns\", None)\n",
    "frame.head()"
   ]
  },
  {
   "cell_type": "code",
   "execution_count": 22,
   "metadata": {},
   "outputs": [
    {
     "output_type": "execute_result",
     "data": {
      "text/plain": [
       "       backers_count  converted_pledged_amount    created_at      deadline  \\\n",
       "count  209222.000000              2.092220e+05  2.092220e+05  2.092220e+05   \n",
       "mean      145.419057              1.289290e+04  1.456089e+09  1.463033e+09   \n",
       "std       885.967976              8.889414e+04  6.339711e+07  6.305618e+07   \n",
       "min         0.000000              0.000000e+00  1.240366e+09  1.241334e+09   \n",
       "25%         4.000000              1.060000e+02  1.413317e+09  1.420607e+09   \n",
       "50%        27.000000              1.537000e+03  1.457895e+09  1.464754e+09   \n",
       "75%        89.000000              6.548000e+03  1.511595e+09  1.519437e+09   \n",
       "max    105857.000000              8.596474e+06  1.552527e+09  1.557721e+09   \n",
       "\n",
       "             fx_rate          goal            id   launched_at       pledged  \\\n",
       "count  209222.000000  2.092220e+05  2.092220e+05  2.092220e+05  2.092220e+05   \n",
       "mean        0.994857  4.917604e+04  1.073222e+09  1.460206e+09  1.881403e+04   \n",
       "std         0.211654  1.179427e+06  6.198051e+08  6.309029e+07  3.229596e+05   \n",
       "min         0.008966  1.000000e-02  8.624000e+03  1.240603e+09  0.000000e+00   \n",
       "25%         1.000000  1.500000e+03  5.351054e+08  1.417639e+09  1.100000e+02   \n",
       "50%         1.000000  5.000000e+03  1.074579e+09  1.461924e+09  1.556000e+03   \n",
       "75%         1.000000  1.500000e+04  1.609369e+09  1.516694e+09  6.887200e+03   \n",
       "max         1.876033  1.000000e+08  2.147476e+09  1.552537e+09  8.103074e+07   \n",
       "\n",
       "       state_changed_at  static_usd_rate   usd_pledged  \n",
       "count      2.092220e+05    209222.000000  2.092220e+05  \n",
       "mean       1.462838e+09         1.010757  1.289213e+04  \n",
       "std        6.290421e+07         0.231893  8.890124e+04  \n",
       "min        1.241334e+09         0.008771  0.000000e+00  \n",
       "25%        1.420485e+09         1.000000  1.060014e+02  \n",
       "50%        1.464709e+09         1.000000  1.537358e+03  \n",
       "75%        1.519366e+09         1.000000  6.550000e+03  \n",
       "max        1.552537e+09         1.716408  8.596475e+06  "
      ],
      "text/html": "<div>\n<style scoped>\n    .dataframe tbody tr th:only-of-type {\n        vertical-align: middle;\n    }\n\n    .dataframe tbody tr th {\n        vertical-align: top;\n    }\n\n    .dataframe thead th {\n        text-align: right;\n    }\n</style>\n<table border=\"1\" class=\"dataframe\">\n  <thead>\n    <tr style=\"text-align: right;\">\n      <th></th>\n      <th>backers_count</th>\n      <th>converted_pledged_amount</th>\n      <th>created_at</th>\n      <th>deadline</th>\n      <th>fx_rate</th>\n      <th>goal</th>\n      <th>id</th>\n      <th>launched_at</th>\n      <th>pledged</th>\n      <th>state_changed_at</th>\n      <th>static_usd_rate</th>\n      <th>usd_pledged</th>\n    </tr>\n  </thead>\n  <tbody>\n    <tr>\n      <th>count</th>\n      <td>209222.000000</td>\n      <td>2.092220e+05</td>\n      <td>2.092220e+05</td>\n      <td>2.092220e+05</td>\n      <td>209222.000000</td>\n      <td>2.092220e+05</td>\n      <td>2.092220e+05</td>\n      <td>2.092220e+05</td>\n      <td>2.092220e+05</td>\n      <td>2.092220e+05</td>\n      <td>209222.000000</td>\n      <td>2.092220e+05</td>\n    </tr>\n    <tr>\n      <th>mean</th>\n      <td>145.419057</td>\n      <td>1.289290e+04</td>\n      <td>1.456089e+09</td>\n      <td>1.463033e+09</td>\n      <td>0.994857</td>\n      <td>4.917604e+04</td>\n      <td>1.073222e+09</td>\n      <td>1.460206e+09</td>\n      <td>1.881403e+04</td>\n      <td>1.462838e+09</td>\n      <td>1.010757</td>\n      <td>1.289213e+04</td>\n    </tr>\n    <tr>\n      <th>std</th>\n      <td>885.967976</td>\n      <td>8.889414e+04</td>\n      <td>6.339711e+07</td>\n      <td>6.305618e+07</td>\n      <td>0.211654</td>\n      <td>1.179427e+06</td>\n      <td>6.198051e+08</td>\n      <td>6.309029e+07</td>\n      <td>3.229596e+05</td>\n      <td>6.290421e+07</td>\n      <td>0.231893</td>\n      <td>8.890124e+04</td>\n    </tr>\n    <tr>\n      <th>min</th>\n      <td>0.000000</td>\n      <td>0.000000e+00</td>\n      <td>1.240366e+09</td>\n      <td>1.241334e+09</td>\n      <td>0.008966</td>\n      <td>1.000000e-02</td>\n      <td>8.624000e+03</td>\n      <td>1.240603e+09</td>\n      <td>0.000000e+00</td>\n      <td>1.241334e+09</td>\n      <td>0.008771</td>\n      <td>0.000000e+00</td>\n    </tr>\n    <tr>\n      <th>25%</th>\n      <td>4.000000</td>\n      <td>1.060000e+02</td>\n      <td>1.413317e+09</td>\n      <td>1.420607e+09</td>\n      <td>1.000000</td>\n      <td>1.500000e+03</td>\n      <td>5.351054e+08</td>\n      <td>1.417639e+09</td>\n      <td>1.100000e+02</td>\n      <td>1.420485e+09</td>\n      <td>1.000000</td>\n      <td>1.060014e+02</td>\n    </tr>\n    <tr>\n      <th>50%</th>\n      <td>27.000000</td>\n      <td>1.537000e+03</td>\n      <td>1.457895e+09</td>\n      <td>1.464754e+09</td>\n      <td>1.000000</td>\n      <td>5.000000e+03</td>\n      <td>1.074579e+09</td>\n      <td>1.461924e+09</td>\n      <td>1.556000e+03</td>\n      <td>1.464709e+09</td>\n      <td>1.000000</td>\n      <td>1.537358e+03</td>\n    </tr>\n    <tr>\n      <th>75%</th>\n      <td>89.000000</td>\n      <td>6.548000e+03</td>\n      <td>1.511595e+09</td>\n      <td>1.519437e+09</td>\n      <td>1.000000</td>\n      <td>1.500000e+04</td>\n      <td>1.609369e+09</td>\n      <td>1.516694e+09</td>\n      <td>6.887200e+03</td>\n      <td>1.519366e+09</td>\n      <td>1.000000</td>\n      <td>6.550000e+03</td>\n    </tr>\n    <tr>\n      <th>max</th>\n      <td>105857.000000</td>\n      <td>8.596474e+06</td>\n      <td>1.552527e+09</td>\n      <td>1.557721e+09</td>\n      <td>1.876033</td>\n      <td>1.000000e+08</td>\n      <td>2.147476e+09</td>\n      <td>1.552537e+09</td>\n      <td>8.103074e+07</td>\n      <td>1.552537e+09</td>\n      <td>1.716408</td>\n      <td>8.596475e+06</td>\n    </tr>\n  </tbody>\n</table>\n</div>"
     },
     "metadata": {},
     "execution_count": 22
    }
   ],
   "source": [
    "frame.describe()"
   ]
  },
  {
   "cell_type": "code",
   "execution_count": 23,
   "metadata": {},
   "outputs": [
    {
     "output_type": "error",
     "ename": "KeyError",
     "evalue": "\"['friends' 'permissions' 'is_starred' 'is_backing'] not found in axis\"",
     "traceback": [
      "\u001b[0;31m---------------------------------------------------------------------------\u001b[0m",
      "\u001b[0;31mKeyError\u001b[0m                                  Traceback (most recent call last)",
      "\u001b[0;32m<ipython-input-23-4e304df7a873>\u001b[0m in \u001b[0;36m<module>\u001b[0;34m\u001b[0m\n\u001b[1;32m      1\u001b[0m \u001b[0mremoval_list\u001b[0m \u001b[0;34m=\u001b[0m \u001b[0;34m[\u001b[0m\u001b[0;34m'friends'\u001b[0m\u001b[0;34m,\u001b[0m \u001b[0;34m'permissions'\u001b[0m\u001b[0;34m,\u001b[0m \u001b[0;34m'is_starred'\u001b[0m\u001b[0;34m,\u001b[0m \u001b[0;34m'is_backing'\u001b[0m\u001b[0;34m]\u001b[0m\u001b[0;34m\u001b[0m\u001b[0;34m\u001b[0m\u001b[0m\n\u001b[1;32m      2\u001b[0m \u001b[0;34m\u001b[0m\u001b[0m\n\u001b[0;32m----> 3\u001b[0;31m \u001b[0mframe\u001b[0m\u001b[0;34m.\u001b[0m\u001b[0mdrop\u001b[0m\u001b[0;34m(\u001b[0m\u001b[0mremoval_list\u001b[0m\u001b[0;34m,\u001b[0m \u001b[0minplace\u001b[0m\u001b[0;34m=\u001b[0m\u001b[0;32mTrue\u001b[0m\u001b[0;34m,\u001b[0m \u001b[0maxis\u001b[0m\u001b[0;34m=\u001b[0m\u001b[0;36m1\u001b[0m\u001b[0;34m)\u001b[0m\u001b[0;34m\u001b[0m\u001b[0;34m\u001b[0m\u001b[0m\n\u001b[0m",
      "\u001b[0;32m~/neuefische/kickstar/.venv/lib/python3.8/site-packages/pandas/core/frame.py\u001b[0m in \u001b[0;36mdrop\u001b[0;34m(self, labels, axis, index, columns, level, inplace, errors)\u001b[0m\n\u001b[1;32m   4303\u001b[0m                 \u001b[0mweight\u001b[0m  \u001b[0;36m1.0\u001b[0m     \u001b[0;36m0.8\u001b[0m\u001b[0;34m\u001b[0m\u001b[0;34m\u001b[0m\u001b[0m\n\u001b[1;32m   4304\u001b[0m         \"\"\"\n\u001b[0;32m-> 4305\u001b[0;31m         return super().drop(\n\u001b[0m\u001b[1;32m   4306\u001b[0m             \u001b[0mlabels\u001b[0m\u001b[0;34m=\u001b[0m\u001b[0mlabels\u001b[0m\u001b[0;34m,\u001b[0m\u001b[0;34m\u001b[0m\u001b[0;34m\u001b[0m\u001b[0m\n\u001b[1;32m   4307\u001b[0m             \u001b[0maxis\u001b[0m\u001b[0;34m=\u001b[0m\u001b[0maxis\u001b[0m\u001b[0;34m,\u001b[0m\u001b[0;34m\u001b[0m\u001b[0;34m\u001b[0m\u001b[0m\n",
      "\u001b[0;32m~/neuefische/kickstar/.venv/lib/python3.8/site-packages/pandas/core/generic.py\u001b[0m in \u001b[0;36mdrop\u001b[0;34m(self, labels, axis, index, columns, level, inplace, errors)\u001b[0m\n\u001b[1;32m   4150\u001b[0m         \u001b[0;32mfor\u001b[0m \u001b[0maxis\u001b[0m\u001b[0;34m,\u001b[0m \u001b[0mlabels\u001b[0m \u001b[0;32min\u001b[0m \u001b[0maxes\u001b[0m\u001b[0;34m.\u001b[0m\u001b[0mitems\u001b[0m\u001b[0;34m(\u001b[0m\u001b[0;34m)\u001b[0m\u001b[0;34m:\u001b[0m\u001b[0;34m\u001b[0m\u001b[0;34m\u001b[0m\u001b[0m\n\u001b[1;32m   4151\u001b[0m             \u001b[0;32mif\u001b[0m \u001b[0mlabels\u001b[0m \u001b[0;32mis\u001b[0m \u001b[0;32mnot\u001b[0m \u001b[0;32mNone\u001b[0m\u001b[0;34m:\u001b[0m\u001b[0;34m\u001b[0m\u001b[0;34m\u001b[0m\u001b[0m\n\u001b[0;32m-> 4152\u001b[0;31m                 \u001b[0mobj\u001b[0m \u001b[0;34m=\u001b[0m \u001b[0mobj\u001b[0m\u001b[0;34m.\u001b[0m\u001b[0m_drop_axis\u001b[0m\u001b[0;34m(\u001b[0m\u001b[0mlabels\u001b[0m\u001b[0;34m,\u001b[0m \u001b[0maxis\u001b[0m\u001b[0;34m,\u001b[0m \u001b[0mlevel\u001b[0m\u001b[0;34m=\u001b[0m\u001b[0mlevel\u001b[0m\u001b[0;34m,\u001b[0m \u001b[0merrors\u001b[0m\u001b[0;34m=\u001b[0m\u001b[0merrors\u001b[0m\u001b[0;34m)\u001b[0m\u001b[0;34m\u001b[0m\u001b[0;34m\u001b[0m\u001b[0m\n\u001b[0m\u001b[1;32m   4153\u001b[0m \u001b[0;34m\u001b[0m\u001b[0m\n\u001b[1;32m   4154\u001b[0m         \u001b[0;32mif\u001b[0m \u001b[0minplace\u001b[0m\u001b[0;34m:\u001b[0m\u001b[0;34m\u001b[0m\u001b[0;34m\u001b[0m\u001b[0m\n",
      "\u001b[0;32m~/neuefische/kickstar/.venv/lib/python3.8/site-packages/pandas/core/generic.py\u001b[0m in \u001b[0;36m_drop_axis\u001b[0;34m(self, labels, axis, level, errors)\u001b[0m\n\u001b[1;32m   4185\u001b[0m                 \u001b[0mnew_axis\u001b[0m \u001b[0;34m=\u001b[0m \u001b[0maxis\u001b[0m\u001b[0;34m.\u001b[0m\u001b[0mdrop\u001b[0m\u001b[0;34m(\u001b[0m\u001b[0mlabels\u001b[0m\u001b[0;34m,\u001b[0m \u001b[0mlevel\u001b[0m\u001b[0;34m=\u001b[0m\u001b[0mlevel\u001b[0m\u001b[0;34m,\u001b[0m \u001b[0merrors\u001b[0m\u001b[0;34m=\u001b[0m\u001b[0merrors\u001b[0m\u001b[0;34m)\u001b[0m\u001b[0;34m\u001b[0m\u001b[0;34m\u001b[0m\u001b[0m\n\u001b[1;32m   4186\u001b[0m             \u001b[0;32melse\u001b[0m\u001b[0;34m:\u001b[0m\u001b[0;34m\u001b[0m\u001b[0;34m\u001b[0m\u001b[0m\n\u001b[0;32m-> 4187\u001b[0;31m                 \u001b[0mnew_axis\u001b[0m \u001b[0;34m=\u001b[0m \u001b[0maxis\u001b[0m\u001b[0;34m.\u001b[0m\u001b[0mdrop\u001b[0m\u001b[0;34m(\u001b[0m\u001b[0mlabels\u001b[0m\u001b[0;34m,\u001b[0m \u001b[0merrors\u001b[0m\u001b[0;34m=\u001b[0m\u001b[0merrors\u001b[0m\u001b[0;34m)\u001b[0m\u001b[0;34m\u001b[0m\u001b[0;34m\u001b[0m\u001b[0m\n\u001b[0m\u001b[1;32m   4188\u001b[0m             \u001b[0mresult\u001b[0m \u001b[0;34m=\u001b[0m \u001b[0mself\u001b[0m\u001b[0;34m.\u001b[0m\u001b[0mreindex\u001b[0m\u001b[0;34m(\u001b[0m\u001b[0;34m**\u001b[0m\u001b[0;34m{\u001b[0m\u001b[0maxis_name\u001b[0m\u001b[0;34m:\u001b[0m \u001b[0mnew_axis\u001b[0m\u001b[0;34m}\u001b[0m\u001b[0;34m)\u001b[0m\u001b[0;34m\u001b[0m\u001b[0;34m\u001b[0m\u001b[0m\n\u001b[1;32m   4189\u001b[0m \u001b[0;34m\u001b[0m\u001b[0m\n",
      "\u001b[0;32m~/neuefische/kickstar/.venv/lib/python3.8/site-packages/pandas/core/indexes/base.py\u001b[0m in \u001b[0;36mdrop\u001b[0;34m(self, labels, errors)\u001b[0m\n\u001b[1;32m   5589\u001b[0m         \u001b[0;32mif\u001b[0m \u001b[0mmask\u001b[0m\u001b[0;34m.\u001b[0m\u001b[0many\u001b[0m\u001b[0;34m(\u001b[0m\u001b[0;34m)\u001b[0m\u001b[0;34m:\u001b[0m\u001b[0;34m\u001b[0m\u001b[0;34m\u001b[0m\u001b[0m\n\u001b[1;32m   5590\u001b[0m             \u001b[0;32mif\u001b[0m \u001b[0merrors\u001b[0m \u001b[0;34m!=\u001b[0m \u001b[0;34m\"ignore\"\u001b[0m\u001b[0;34m:\u001b[0m\u001b[0;34m\u001b[0m\u001b[0;34m\u001b[0m\u001b[0m\n\u001b[0;32m-> 5591\u001b[0;31m                 \u001b[0;32mraise\u001b[0m \u001b[0mKeyError\u001b[0m\u001b[0;34m(\u001b[0m\u001b[0;34mf\"{labels[mask]} not found in axis\"\u001b[0m\u001b[0;34m)\u001b[0m\u001b[0;34m\u001b[0m\u001b[0;34m\u001b[0m\u001b[0m\n\u001b[0m\u001b[1;32m   5592\u001b[0m             \u001b[0mindexer\u001b[0m \u001b[0;34m=\u001b[0m \u001b[0mindexer\u001b[0m\u001b[0;34m[\u001b[0m\u001b[0;34m~\u001b[0m\u001b[0mmask\u001b[0m\u001b[0;34m]\u001b[0m\u001b[0;34m\u001b[0m\u001b[0;34m\u001b[0m\u001b[0m\n\u001b[1;32m   5593\u001b[0m         \u001b[0;32mreturn\u001b[0m \u001b[0mself\u001b[0m\u001b[0;34m.\u001b[0m\u001b[0mdelete\u001b[0m\u001b[0;34m(\u001b[0m\u001b[0mindexer\u001b[0m\u001b[0;34m)\u001b[0m\u001b[0;34m\u001b[0m\u001b[0;34m\u001b[0m\u001b[0m\n",
      "\u001b[0;31mKeyError\u001b[0m: \"['friends' 'permissions' 'is_starred' 'is_backing'] not found in axis\""
     ]
    }
   ],
   "source": [
    "removal_list = ['friends', 'permissions', 'is_starred', 'is_backing']\n",
    "\n",
    "frame.drop(removal_list, inplace=True, axis=1)"
   ]
  },
  {
   "cell_type": "code",
   "execution_count": 24,
   "metadata": {},
   "outputs": [
    {
     "output_type": "stream",
     "name": "stdout",
     "text": [
      "<class 'pandas.core.frame.DataFrame'>\nRangeIndex: 209222 entries, 0 to 209221\nData columns (total 33 columns):\n #   Column                    Non-Null Count   Dtype  \n---  ------                    --------------   -----  \n 0   backers_count             209222 non-null  int64  \n 1   blurb                     209214 non-null  object \n 2   category                  209222 non-null  object \n 3   converted_pledged_amount  209222 non-null  int64  \n 4   country                   209222 non-null  object \n 5   created_at                209222 non-null  int64  \n 6   creator                   209222 non-null  object \n 7   currency                  209222 non-null  object \n 8   currency_symbol           209222 non-null  object \n 9   currency_trailing_code    209222 non-null  bool   \n 10  current_currency          209222 non-null  object \n 11  deadline                  209222 non-null  int64  \n 12  disable_communication     209222 non-null  bool   \n 13  fx_rate                   209222 non-null  float64\n 14  goal                      209222 non-null  float64\n 15  id                        209222 non-null  int64  \n 16  is_starrable              209222 non-null  bool   \n 17  launched_at               209222 non-null  int64  \n 18  location                  208996 non-null  object \n 19  name                      209222 non-null  object \n 20  photo                     209222 non-null  object \n 21  pledged                   209222 non-null  float64\n 22  profile                   209222 non-null  object \n 23  slug                      209222 non-null  object \n 24  source_url                209222 non-null  object \n 25  spotlight                 209222 non-null  bool   \n 26  staff_pick                209222 non-null  bool   \n 27  state                     209222 non-null  object \n 28  state_changed_at          209222 non-null  int64  \n 29  static_usd_rate           209222 non-null  float64\n 30  urls                      209222 non-null  object \n 31  usd_pledged               209222 non-null  float64\n 32  usd_type                  208742 non-null  object \ndtypes: bool(5), float64(5), int64(7), object(16)\nmemory usage: 45.7+ MB\n"
     ]
    }
   ],
   "source": [
    "frame.info()"
   ]
  },
  {
   "cell_type": "code",
   "execution_count": 25,
   "metadata": {},
   "outputs": [
    {
     "output_type": "execute_result",
     "data": {
      "text/plain": [
       "0         {\"id\":266,\"name\":\"Footwear\",\"slug\":\"fashion/fo...\n",
       "1         {\"id\":273,\"name\":\"Playing Cards\",\"slug\":\"games...\n",
       "2         {\"id\":43,\"name\":\"Rock\",\"slug\":\"music/rock\",\"po...\n",
       "3         {\"id\":273,\"name\":\"Playing Cards\",\"slug\":\"games...\n",
       "4         {\"id\":48,\"name\":\"Nonfiction\",\"slug\":\"publishin...\n",
       "                                ...                        \n",
       "209217    {\"id\":34,\"name\":\"Tabletop Games\",\"slug\":\"games...\n",
       "209218    {\"id\":38,\"name\":\"Electronic Music\",\"slug\":\"mus...\n",
       "209219    {\"id\":52,\"name\":\"Hardware\",\"slug\":\"technology/...\n",
       "209220    {\"id\":295,\"name\":\"Festivals\",\"slug\":\"film & vi...\n",
       "209221    {\"id\":13,\"name\":\"Journalism\",\"slug\":\"journalis...\n",
       "Name: category, Length: 209222, dtype: object"
      ]
     },
     "metadata": {},
     "execution_count": 25
    }
   ],
   "source": [
    "frame.category"
   ]
  },
  {
   "cell_type": "code",
   "execution_count": 26,
   "metadata": {},
   "outputs": [
    {
     "output_type": "execute_result",
     "data": {
      "text/plain": [
       "'{\"id\":273,\"name\":\"Playing Cards\",\"slug\":\"games/playing cards\",\"position\":4,\"parent_id\":12,\"color\":51627,\"urls\":{\"web\":{\"discover\":\"http://www.kickstarter.com/discover/categories/games/playing%20cards\"}}}'"
      ]
     },
     "metadata": {},
     "execution_count": 26
    }
   ],
   "source": [
    "frame.category[1]"
   ]
  },
  {
   "cell_type": "code",
   "execution_count": 27,
   "metadata": {},
   "outputs": [
    {
     "output_type": "execute_result",
     "data": {
      "text/plain": [
       "0         {\"id\":2094277840,\"name\":\"Lucy Conroy\",\"slug\":\"...\n",
       "1         {\"id\":723886115,\"name\":\"Lisa Vollrath\",\"slug\":...\n",
       "2         {\"id\":323849677,\"name\":\"Electra\",\"is_registere...\n",
       "3         {\"id\":196281496,\"name\":\"Artur Ordijanc (delete...\n",
       "4         {\"id\":1178460181,\"name\":\"Dawn Johnston\",\"is_re...\n",
       "                                ...                        \n",
       "209217    {\"id\":2031135231,\"name\":\"Ryan Wolfe\",\"slug\":\"0...\n",
       "209218    {\"id\":1412154830,\"name\":\"Lester Arias is ARIA ...\n",
       "209219    {\"id\":891767476,\"name\":\"Doug Stienstra\",\"is_re...\n",
       "209220    {\"id\":307076473,\"name\":\"Timothy Vernor\",\"is_re...\n",
       "209221    {\"id\":1718677513,\"name\":\"Article\",\"slug\":\"arti...\n",
       "Name: creator, Length: 209222, dtype: object"
      ]
     },
     "metadata": {},
     "execution_count": 27
    }
   ],
   "source": [
    "frame.creator"
   ]
  },
  {
   "cell_type": "code",
   "execution_count": null,
   "metadata": {},
   "outputs": [],
   "source": []
  },
  {
   "cell_type": "code",
   "execution_count": null,
   "metadata": {},
   "outputs": [],
   "source": []
  }
 ]
}