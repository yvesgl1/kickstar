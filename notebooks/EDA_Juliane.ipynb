{
 "metadata": {
  "language_info": {
   "codemirror_mode": {
    "name": "ipython",
    "version": 3
   },
   "file_extension": ".py",
   "mimetype": "text/x-python",
   "name": "python",
   "nbconvert_exporter": "python",
   "pygments_lexer": "ipython3",
   "version": "3.8.5"
  },
  "orig_nbformat": 4,
  "kernelspec": {
   "name": "python3",
   "display_name": "Python 3.8.5  ('.venv': venv)"
  },
  "interpreter": {
   "hash": "c925af0cb165fe8e0b63023463d25f11f49eba423f78b573a1e352aabcf6fd44"
  }
 },
 "nbformat": 4,
 "nbformat_minor": 2,
 "cells": [
  {
   "cell_type": "code",
   "execution_count": 1,
   "metadata": {},
   "outputs": [],
   "source": [
    "import numpy as np\n",
    "import pandas as pd \n",
    "import matplotlib as plt\n",
    "import seaborn as sns\n",
    "import sklearn as sk \n"
   ]
  },
  {
   "cell_type": "code",
   "execution_count": 2,
   "metadata": {},
   "outputs": [],
   "source": [
    "import glob\n",
    "path = r'/Users/chrisgilibert/neuefische/kickstar/data'\n",
    "all_files = glob.glob(os.path.join(path, \"*.csv\"))\n",
    "\n",
    "li = []\n",
    "\n",
    "for filename in all_files:\n",
    "    df = pd.read_csv(filename, index_col=None, header=0)\n",
    "    li.append(df)\n",
    "\n",
    "frame = pd.concat(li, axis=0, ignore_index=True)"
   ]
  },
  {
   "cell_type": "code",
   "execution_count": 3,
   "metadata": {},
   "outputs": [
    {
     "output_type": "execute_result",
     "data": {
      "text/plain": [
       "   backers_count                                              blurb  \\\n",
       "0            315                                      Babalus Shoes   \n",
       "1             47  A colorful Dia de los Muertos themed oracle de...   \n",
       "2            271  Electra's long awaited, eclectic Debut Pop/Roc...   \n",
       "3              3  The Mist of Tribunal is a turn-based card game...   \n",
       "4              3  Livng with a brain impairment, what its like t...   \n",
       "\n",
       "                                            category  \\\n",
       "0  {\"id\":266,\"name\":\"Footwear\",\"slug\":\"fashion/fo...   \n",
       "1  {\"id\":273,\"name\":\"Playing Cards\",\"slug\":\"games...   \n",
       "2  {\"id\":43,\"name\":\"Rock\",\"slug\":\"music/rock\",\"po...   \n",
       "3  {\"id\":273,\"name\":\"Playing Cards\",\"slug\":\"games...   \n",
       "4  {\"id\":48,\"name\":\"Nonfiction\",\"slug\":\"publishin...   \n",
       "\n",
       "   converted_pledged_amount country  created_at  \\\n",
       "0                     28645      US  1541459205   \n",
       "1                      1950      US  1501684093   \n",
       "2                     22404      US  1348987533   \n",
       "3                       165      GB  1483780271   \n",
       "4                      2820      US  1354817071   \n",
       "\n",
       "                                             creator currency currency_symbol  \\\n",
       "0  {\"id\":2094277840,\"name\":\"Lucy Conroy\",\"slug\":\"...      USD               $   \n",
       "1  {\"id\":723886115,\"name\":\"Lisa Vollrath\",\"slug\":...      USD               $   \n",
       "2  {\"id\":323849677,\"name\":\"Electra\",\"is_registere...      USD               $   \n",
       "3  {\"id\":196281496,\"name\":\"Artur Ordijanc (delete...      GBP               £   \n",
       "4  {\"id\":1178460181,\"name\":\"Dawn Johnston\",\"is_re...      USD               $   \n",
       "\n",
       "   currency_trailing_code current_currency    deadline  disable_communication  \\\n",
       "0                    True              USD  1552539775                  False   \n",
       "1                    True              USD  1504976459                  False   \n",
       "2                    True              USD  1371013395                  False   \n",
       "3                   False              USD  1489425776                  False   \n",
       "4                    True              USD  1357763527                  False   \n",
       "\n",
       "  friends   fx_rate     goal          id is_backing  is_starrable is_starred  \\\n",
       "0     NaN  1.000000  28000.0  2108505034        NaN         False        NaN   \n",
       "1     NaN  1.000000   1000.0   928751314        NaN         False        NaN   \n",
       "2     NaN  1.000000  15000.0   928014092        NaN         False        NaN   \n",
       "3     NaN  1.308394  10000.0   596091328        NaN         False        NaN   \n",
       "4     NaN  1.000000   2800.0   998516049        NaN         False        NaN   \n",
       "\n",
       "   launched_at                                           location  \\\n",
       "0   1548223375  {\"id\":2462429,\"name\":\"Novato\",\"slug\":\"novato-c...   \n",
       "1   1502384459  {\"id\":2400549,\"name\":\"Euless\",\"slug\":\"euless-t...   \n",
       "2   1368421395  {\"id\":2423474,\"name\":\"Hollywood\",\"slug\":\"holly...   \n",
       "3   1484245376  {\"id\":475457,\"name\":\"Kaunas\",\"slug\":\"kaunas-ka...   \n",
       "4   1355171527  {\"id\":2507703,\"name\":\"Traverse City\",\"slug\":\"t...   \n",
       "\n",
       "                                                name permissions  \\\n",
       "0                           Babalus Children's Shoes         NaN   \n",
       "1                            The Ofrenda Oracle Deck         NaN   \n",
       "2  Record Electra's Debut Album (Pop, Rock, Class...         NaN   \n",
       "3                 The Mist of Tribunal - A Card Game         NaN   \n",
       "4           Help change the face of Brain Impairment         NaN   \n",
       "\n",
       "                                               photo  pledged  \\\n",
       "0  {\"key\":\"assets/023/667/205/a565fde5382d6b53276...  28645.0   \n",
       "1  {\"key\":\"assets/017/766/989/dd9f18c773a8546d996...   1950.0   \n",
       "2  {\"key\":\"assets/011/433/681/489fd66f7861fefd8c8...  22404.0   \n",
       "3  {\"key\":\"assets/015/091/198/216fbf1bdc3739e7971...    136.0   \n",
       "4  {\"key\":\"assets/011/457/844/37ba63d35fefaba76e9...   2820.0   \n",
       "\n",
       "                                             profile  \\\n",
       "0  {\"id\":3508024,\"project_id\":3508024,\"state\":\"in...   \n",
       "1  {\"id\":3094785,\"project_id\":3094785,\"state\":\"ac...   \n",
       "2  {\"id\":359847,\"project_id\":359847,\"state\":\"inac...   \n",
       "3  {\"id\":2825329,\"project_id\":2825329,\"state\":\"in...   \n",
       "4  {\"id\":417385,\"project_id\":417385,\"state\":\"inac...   \n",
       "\n",
       "                                             slug  \\\n",
       "0                         babalus-childrens-shoes   \n",
       "1                         the-ofrenda-oracle-deck   \n",
       "2  record-electras-debut-album-pop-rock-classical   \n",
       "3                the-mist-of-tribunal-a-card-game   \n",
       "4        help-change-the-face-of-brain-impairment   \n",
       "\n",
       "                                          source_url  spotlight  staff_pick  \\\n",
       "0  https://www.kickstarter.com/discover/categorie...      False       False   \n",
       "1  https://www.kickstarter.com/discover/categorie...       True       False   \n",
       "2  https://www.kickstarter.com/discover/categorie...       True       False   \n",
       "3  https://www.kickstarter.com/discover/categorie...      False       False   \n",
       "4  https://www.kickstarter.com/discover/categorie...       True       False   \n",
       "\n",
       "        state  state_changed_at  static_usd_rate  \\\n",
       "0        live        1548223375         1.000000   \n",
       "1  successful        1504976459         1.000000   \n",
       "2  successful        1371013395         1.000000   \n",
       "3      failed        1489425776         1.216066   \n",
       "4  successful        1357763527         1.000000   \n",
       "\n",
       "                                                urls   usd_pledged  \\\n",
       "0  {\"web\":{\"project\":\"https://www.kickstarter.com...  28645.000000   \n",
       "1  {\"web\":{\"project\":\"https://www.kickstarter.com...   1950.000000   \n",
       "2  {\"web\":{\"project\":\"https://www.kickstarter.com...  22404.000000   \n",
       "3  {\"web\":{\"project\":\"https://www.kickstarter.com...    165.384934   \n",
       "4  {\"web\":{\"project\":\"https://www.kickstarter.com...   2820.000000   \n",
       "\n",
       "        usd_type  \n",
       "0  international  \n",
       "1       domestic  \n",
       "2  international  \n",
       "3       domestic  \n",
       "4       domestic  "
      ],
      "text/html": "<div>\n<style scoped>\n    .dataframe tbody tr th:only-of-type {\n        vertical-align: middle;\n    }\n\n    .dataframe tbody tr th {\n        vertical-align: top;\n    }\n\n    .dataframe thead th {\n        text-align: right;\n    }\n</style>\n<table border=\"1\" class=\"dataframe\">\n  <thead>\n    <tr style=\"text-align: right;\">\n      <th></th>\n      <th>backers_count</th>\n      <th>blurb</th>\n      <th>category</th>\n      <th>converted_pledged_amount</th>\n      <th>country</th>\n      <th>created_at</th>\n      <th>creator</th>\n      <th>currency</th>\n      <th>currency_symbol</th>\n      <th>currency_trailing_code</th>\n      <th>current_currency</th>\n      <th>deadline</th>\n      <th>disable_communication</th>\n      <th>friends</th>\n      <th>fx_rate</th>\n      <th>goal</th>\n      <th>id</th>\n      <th>is_backing</th>\n      <th>is_starrable</th>\n      <th>is_starred</th>\n      <th>launched_at</th>\n      <th>location</th>\n      <th>name</th>\n      <th>permissions</th>\n      <th>photo</th>\n      <th>pledged</th>\n      <th>profile</th>\n      <th>slug</th>\n      <th>source_url</th>\n      <th>spotlight</th>\n      <th>staff_pick</th>\n      <th>state</th>\n      <th>state_changed_at</th>\n      <th>static_usd_rate</th>\n      <th>urls</th>\n      <th>usd_pledged</th>\n      <th>usd_type</th>\n    </tr>\n  </thead>\n  <tbody>\n    <tr>\n      <th>0</th>\n      <td>315</td>\n      <td>Babalus Shoes</td>\n      <td>{\"id\":266,\"name\":\"Footwear\",\"slug\":\"fashion/fo...</td>\n      <td>28645</td>\n      <td>US</td>\n      <td>1541459205</td>\n      <td>{\"id\":2094277840,\"name\":\"Lucy Conroy\",\"slug\":\"...</td>\n      <td>USD</td>\n      <td>$</td>\n      <td>True</td>\n      <td>USD</td>\n      <td>1552539775</td>\n      <td>False</td>\n      <td>NaN</td>\n      <td>1.000000</td>\n      <td>28000.0</td>\n      <td>2108505034</td>\n      <td>NaN</td>\n      <td>False</td>\n      <td>NaN</td>\n      <td>1548223375</td>\n      <td>{\"id\":2462429,\"name\":\"Novato\",\"slug\":\"novato-c...</td>\n      <td>Babalus Children's Shoes</td>\n      <td>NaN</td>\n      <td>{\"key\":\"assets/023/667/205/a565fde5382d6b53276...</td>\n      <td>28645.0</td>\n      <td>{\"id\":3508024,\"project_id\":3508024,\"state\":\"in...</td>\n      <td>babalus-childrens-shoes</td>\n      <td>https://www.kickstarter.com/discover/categorie...</td>\n      <td>False</td>\n      <td>False</td>\n      <td>live</td>\n      <td>1548223375</td>\n      <td>1.000000</td>\n      <td>{\"web\":{\"project\":\"https://www.kickstarter.com...</td>\n      <td>28645.000000</td>\n      <td>international</td>\n    </tr>\n    <tr>\n      <th>1</th>\n      <td>47</td>\n      <td>A colorful Dia de los Muertos themed oracle de...</td>\n      <td>{\"id\":273,\"name\":\"Playing Cards\",\"slug\":\"games...</td>\n      <td>1950</td>\n      <td>US</td>\n      <td>1501684093</td>\n      <td>{\"id\":723886115,\"name\":\"Lisa Vollrath\",\"slug\":...</td>\n      <td>USD</td>\n      <td>$</td>\n      <td>True</td>\n      <td>USD</td>\n      <td>1504976459</td>\n      <td>False</td>\n      <td>NaN</td>\n      <td>1.000000</td>\n      <td>1000.0</td>\n      <td>928751314</td>\n      <td>NaN</td>\n      <td>False</td>\n      <td>NaN</td>\n      <td>1502384459</td>\n      <td>{\"id\":2400549,\"name\":\"Euless\",\"slug\":\"euless-t...</td>\n      <td>The Ofrenda Oracle Deck</td>\n      <td>NaN</td>\n      <td>{\"key\":\"assets/017/766/989/dd9f18c773a8546d996...</td>\n      <td>1950.0</td>\n      <td>{\"id\":3094785,\"project_id\":3094785,\"state\":\"ac...</td>\n      <td>the-ofrenda-oracle-deck</td>\n      <td>https://www.kickstarter.com/discover/categorie...</td>\n      <td>True</td>\n      <td>False</td>\n      <td>successful</td>\n      <td>1504976459</td>\n      <td>1.000000</td>\n      <td>{\"web\":{\"project\":\"https://www.kickstarter.com...</td>\n      <td>1950.000000</td>\n      <td>domestic</td>\n    </tr>\n    <tr>\n      <th>2</th>\n      <td>271</td>\n      <td>Electra's long awaited, eclectic Debut Pop/Roc...</td>\n      <td>{\"id\":43,\"name\":\"Rock\",\"slug\":\"music/rock\",\"po...</td>\n      <td>22404</td>\n      <td>US</td>\n      <td>1348987533</td>\n      <td>{\"id\":323849677,\"name\":\"Electra\",\"is_registere...</td>\n      <td>USD</td>\n      <td>$</td>\n      <td>True</td>\n      <td>USD</td>\n      <td>1371013395</td>\n      <td>False</td>\n      <td>NaN</td>\n      <td>1.000000</td>\n      <td>15000.0</td>\n      <td>928014092</td>\n      <td>NaN</td>\n      <td>False</td>\n      <td>NaN</td>\n      <td>1368421395</td>\n      <td>{\"id\":2423474,\"name\":\"Hollywood\",\"slug\":\"holly...</td>\n      <td>Record Electra's Debut Album (Pop, Rock, Class...</td>\n      <td>NaN</td>\n      <td>{\"key\":\"assets/011/433/681/489fd66f7861fefd8c8...</td>\n      <td>22404.0</td>\n      <td>{\"id\":359847,\"project_id\":359847,\"state\":\"inac...</td>\n      <td>record-electras-debut-album-pop-rock-classical</td>\n      <td>https://www.kickstarter.com/discover/categorie...</td>\n      <td>True</td>\n      <td>False</td>\n      <td>successful</td>\n      <td>1371013395</td>\n      <td>1.000000</td>\n      <td>{\"web\":{\"project\":\"https://www.kickstarter.com...</td>\n      <td>22404.000000</td>\n      <td>international</td>\n    </tr>\n    <tr>\n      <th>3</th>\n      <td>3</td>\n      <td>The Mist of Tribunal is a turn-based card game...</td>\n      <td>{\"id\":273,\"name\":\"Playing Cards\",\"slug\":\"games...</td>\n      <td>165</td>\n      <td>GB</td>\n      <td>1483780271</td>\n      <td>{\"id\":196281496,\"name\":\"Artur Ordijanc (delete...</td>\n      <td>GBP</td>\n      <td>£</td>\n      <td>False</td>\n      <td>USD</td>\n      <td>1489425776</td>\n      <td>False</td>\n      <td>NaN</td>\n      <td>1.308394</td>\n      <td>10000.0</td>\n      <td>596091328</td>\n      <td>NaN</td>\n      <td>False</td>\n      <td>NaN</td>\n      <td>1484245376</td>\n      <td>{\"id\":475457,\"name\":\"Kaunas\",\"slug\":\"kaunas-ka...</td>\n      <td>The Mist of Tribunal - A Card Game</td>\n      <td>NaN</td>\n      <td>{\"key\":\"assets/015/091/198/216fbf1bdc3739e7971...</td>\n      <td>136.0</td>\n      <td>{\"id\":2825329,\"project_id\":2825329,\"state\":\"in...</td>\n      <td>the-mist-of-tribunal-a-card-game</td>\n      <td>https://www.kickstarter.com/discover/categorie...</td>\n      <td>False</td>\n      <td>False</td>\n      <td>failed</td>\n      <td>1489425776</td>\n      <td>1.216066</td>\n      <td>{\"web\":{\"project\":\"https://www.kickstarter.com...</td>\n      <td>165.384934</td>\n      <td>domestic</td>\n    </tr>\n    <tr>\n      <th>4</th>\n      <td>3</td>\n      <td>Livng with a brain impairment, what its like t...</td>\n      <td>{\"id\":48,\"name\":\"Nonfiction\",\"slug\":\"publishin...</td>\n      <td>2820</td>\n      <td>US</td>\n      <td>1354817071</td>\n      <td>{\"id\":1178460181,\"name\":\"Dawn Johnston\",\"is_re...</td>\n      <td>USD</td>\n      <td>$</td>\n      <td>True</td>\n      <td>USD</td>\n      <td>1357763527</td>\n      <td>False</td>\n      <td>NaN</td>\n      <td>1.000000</td>\n      <td>2800.0</td>\n      <td>998516049</td>\n      <td>NaN</td>\n      <td>False</td>\n      <td>NaN</td>\n      <td>1355171527</td>\n      <td>{\"id\":2507703,\"name\":\"Traverse City\",\"slug\":\"t...</td>\n      <td>Help change the face of Brain Impairment</td>\n      <td>NaN</td>\n      <td>{\"key\":\"assets/011/457/844/37ba63d35fefaba76e9...</td>\n      <td>2820.0</td>\n      <td>{\"id\":417385,\"project_id\":417385,\"state\":\"inac...</td>\n      <td>help-change-the-face-of-brain-impairment</td>\n      <td>https://www.kickstarter.com/discover/categorie...</td>\n      <td>True</td>\n      <td>False</td>\n      <td>successful</td>\n      <td>1357763527</td>\n      <td>1.000000</td>\n      <td>{\"web\":{\"project\":\"https://www.kickstarter.com...</td>\n      <td>2820.000000</td>\n      <td>domestic</td>\n    </tr>\n  </tbody>\n</table>\n</div>"
     },
     "metadata": {},
     "execution_count": 3
    }
   ],
   "source": [
    "pd.set_option(\"display.max_columns\", None)\n",
    "frame.head()"
   ]
  },
  {
   "cell_type": "code",
   "execution_count": 4,
   "metadata": {},
   "outputs": [],
   "source": [
    "removal_list = ['friends', 'permissions', 'is_starred', 'is_backing']\n",
    "\n",
    "frame.drop(removal_list, inplace=True, axis=1)"
   ]
  },
  {
   "cell_type": "code",
   "execution_count": 5,
   "metadata": {},
   "outputs": [
    {
     "output_type": "execute_result",
     "data": {
      "text/plain": [
       "         id              name                    slug  position  parent_id  \\\n",
       "0       266          Footwear        fashion/footwear         5        9.0   \n",
       "1       273     Playing Cards     games/playing cards         4       12.0   \n",
       "2        43              Rock              music/rock        17       14.0   \n",
       "3       273     Playing Cards     games/playing cards         4       12.0   \n",
       "4        48        Nonfiction   publishing/nonfiction         9       18.0   \n",
       "...     ...               ...                     ...       ...        ...   \n",
       "209217   34    Tabletop Games    games/tabletop games         6       12.0   \n",
       "209218   38  Electronic Music  music/electronic music         6       14.0   \n",
       "209219   52          Hardware     technology/hardware         8       16.0   \n",
       "209220  295         Festivals  film & video/festivals         9       11.0   \n",
       "209221   13        Journalism              journalism        10        NaN   \n",
       "\n",
       "           color                                               urls  \n",
       "0       16752598  {'web': {'discover': 'http://www.kickstarter.c...  \n",
       "1          51627  {'web': {'discover': 'http://www.kickstarter.c...  \n",
       "2       10878931  {'web': {'discover': 'http://www.kickstarter.c...  \n",
       "3          51627  {'web': {'discover': 'http://www.kickstarter.c...  \n",
       "4       14867664  {'web': {'discover': 'http://www.kickstarter.c...  \n",
       "...          ...                                                ...  \n",
       "209217     51627  {'web': {'discover': 'http://www.kickstarter.c...  \n",
       "209218  10878931  {'web': {'discover': 'http://www.kickstarter.c...  \n",
       "209219   6526716  {'web': {'discover': 'http://www.kickstarter.c...  \n",
       "209220  16734574  {'web': {'discover': 'http://www.kickstarter.c...  \n",
       "209221   1228010  {'web': {'discover': 'http://www.kickstarter.c...  \n",
       "\n",
       "[209222 rows x 7 columns]"
      ],
      "text/html": "<div>\n<style scoped>\n    .dataframe tbody tr th:only-of-type {\n        vertical-align: middle;\n    }\n\n    .dataframe tbody tr th {\n        vertical-align: top;\n    }\n\n    .dataframe thead th {\n        text-align: right;\n    }\n</style>\n<table border=\"1\" class=\"dataframe\">\n  <thead>\n    <tr style=\"text-align: right;\">\n      <th></th>\n      <th>id</th>\n      <th>name</th>\n      <th>slug</th>\n      <th>position</th>\n      <th>parent_id</th>\n      <th>color</th>\n      <th>urls</th>\n    </tr>\n  </thead>\n  <tbody>\n    <tr>\n      <th>0</th>\n      <td>266</td>\n      <td>Footwear</td>\n      <td>fashion/footwear</td>\n      <td>5</td>\n      <td>9.0</td>\n      <td>16752598</td>\n      <td>{'web': {'discover': 'http://www.kickstarter.c...</td>\n    </tr>\n    <tr>\n      <th>1</th>\n      <td>273</td>\n      <td>Playing Cards</td>\n      <td>games/playing cards</td>\n      <td>4</td>\n      <td>12.0</td>\n      <td>51627</td>\n      <td>{'web': {'discover': 'http://www.kickstarter.c...</td>\n    </tr>\n    <tr>\n      <th>2</th>\n      <td>43</td>\n      <td>Rock</td>\n      <td>music/rock</td>\n      <td>17</td>\n      <td>14.0</td>\n      <td>10878931</td>\n      <td>{'web': {'discover': 'http://www.kickstarter.c...</td>\n    </tr>\n    <tr>\n      <th>3</th>\n      <td>273</td>\n      <td>Playing Cards</td>\n      <td>games/playing cards</td>\n      <td>4</td>\n      <td>12.0</td>\n      <td>51627</td>\n      <td>{'web': {'discover': 'http://www.kickstarter.c...</td>\n    </tr>\n    <tr>\n      <th>4</th>\n      <td>48</td>\n      <td>Nonfiction</td>\n      <td>publishing/nonfiction</td>\n      <td>9</td>\n      <td>18.0</td>\n      <td>14867664</td>\n      <td>{'web': {'discover': 'http://www.kickstarter.c...</td>\n    </tr>\n    <tr>\n      <th>...</th>\n      <td>...</td>\n      <td>...</td>\n      <td>...</td>\n      <td>...</td>\n      <td>...</td>\n      <td>...</td>\n      <td>...</td>\n    </tr>\n    <tr>\n      <th>209217</th>\n      <td>34</td>\n      <td>Tabletop Games</td>\n      <td>games/tabletop games</td>\n      <td>6</td>\n      <td>12.0</td>\n      <td>51627</td>\n      <td>{'web': {'discover': 'http://www.kickstarter.c...</td>\n    </tr>\n    <tr>\n      <th>209218</th>\n      <td>38</td>\n      <td>Electronic Music</td>\n      <td>music/electronic music</td>\n      <td>6</td>\n      <td>14.0</td>\n      <td>10878931</td>\n      <td>{'web': {'discover': 'http://www.kickstarter.c...</td>\n    </tr>\n    <tr>\n      <th>209219</th>\n      <td>52</td>\n      <td>Hardware</td>\n      <td>technology/hardware</td>\n      <td>8</td>\n      <td>16.0</td>\n      <td>6526716</td>\n      <td>{'web': {'discover': 'http://www.kickstarter.c...</td>\n    </tr>\n    <tr>\n      <th>209220</th>\n      <td>295</td>\n      <td>Festivals</td>\n      <td>film &amp; video/festivals</td>\n      <td>9</td>\n      <td>11.0</td>\n      <td>16734574</td>\n      <td>{'web': {'discover': 'http://www.kickstarter.c...</td>\n    </tr>\n    <tr>\n      <th>209221</th>\n      <td>13</td>\n      <td>Journalism</td>\n      <td>journalism</td>\n      <td>10</td>\n      <td>NaN</td>\n      <td>1228010</td>\n      <td>{'web': {'discover': 'http://www.kickstarter.c...</td>\n    </tr>\n  </tbody>\n</table>\n<p>209222 rows × 7 columns</p>\n</div>"
     },
     "metadata": {},
     "execution_count": 5
    }
   ],
   "source": [
    "import json\n",
    "\n",
    "stdf = frame['category'].apply(json.loads)\n",
    "stdf = pd.DataFrame(stdf.tolist())\n",
    "stdf"
   ]
  },
  {
   "cell_type": "code",
   "execution_count": 6,
   "metadata": {},
   "outputs": [],
   "source": [
    "# columns which might not contain useful information\n",
    "# Assumption: 'converted pledged amount' contains final amount in US Dollars\n",
    "\n",
    "cols_del = ['currency', 'currency_symbol', 'currency_trailing_code', 'current_currency', 'photo', 'source_url', 'usd_type', 'urls', 'slug', 'fx_rate']\n",
    "\n",
    "frame.drop(cols_del, inplace=True, axis=1)"
   ]
  },
  {
   "cell_type": "code",
   "execution_count": 7,
   "metadata": {},
   "outputs": [
    {
     "output_type": "execute_result",
     "data": {
      "text/plain": [
       "   backers_count                                              blurb  \\\n",
       "0            315                                      Babalus Shoes   \n",
       "1             47  A colorful Dia de los Muertos themed oracle de...   \n",
       "2            271  Electra's long awaited, eclectic Debut Pop/Roc...   \n",
       "3              3  The Mist of Tribunal is a turn-based card game...   \n",
       "4              3  Livng with a brain impairment, what its like t...   \n",
       "\n",
       "                                            category  \\\n",
       "0  {\"id\":266,\"name\":\"Footwear\",\"slug\":\"fashion/fo...   \n",
       "1  {\"id\":273,\"name\":\"Playing Cards\",\"slug\":\"games...   \n",
       "2  {\"id\":43,\"name\":\"Rock\",\"slug\":\"music/rock\",\"po...   \n",
       "3  {\"id\":273,\"name\":\"Playing Cards\",\"slug\":\"games...   \n",
       "4  {\"id\":48,\"name\":\"Nonfiction\",\"slug\":\"publishin...   \n",
       "\n",
       "   converted_pledged_amount country  created_at  \\\n",
       "0                     28645      US  1541459205   \n",
       "1                      1950      US  1501684093   \n",
       "2                     22404      US  1348987533   \n",
       "3                       165      GB  1483780271   \n",
       "4                      2820      US  1354817071   \n",
       "\n",
       "                                             creator    deadline  \\\n",
       "0  {\"id\":2094277840,\"name\":\"Lucy Conroy\",\"slug\":\"...  1552539775   \n",
       "1  {\"id\":723886115,\"name\":\"Lisa Vollrath\",\"slug\":...  1504976459   \n",
       "2  {\"id\":323849677,\"name\":\"Electra\",\"is_registere...  1371013395   \n",
       "3  {\"id\":196281496,\"name\":\"Artur Ordijanc (delete...  1489425776   \n",
       "4  {\"id\":1178460181,\"name\":\"Dawn Johnston\",\"is_re...  1357763527   \n",
       "\n",
       "   disable_communication     goal          id  is_starrable  launched_at  \\\n",
       "0                  False  28000.0  2108505034         False   1548223375   \n",
       "1                  False   1000.0   928751314         False   1502384459   \n",
       "2                  False  15000.0   928014092         False   1368421395   \n",
       "3                  False  10000.0   596091328         False   1484245376   \n",
       "4                  False   2800.0   998516049         False   1355171527   \n",
       "\n",
       "                                            location  \\\n",
       "0  {\"id\":2462429,\"name\":\"Novato\",\"slug\":\"novato-c...   \n",
       "1  {\"id\":2400549,\"name\":\"Euless\",\"slug\":\"euless-t...   \n",
       "2  {\"id\":2423474,\"name\":\"Hollywood\",\"slug\":\"holly...   \n",
       "3  {\"id\":475457,\"name\":\"Kaunas\",\"slug\":\"kaunas-ka...   \n",
       "4  {\"id\":2507703,\"name\":\"Traverse City\",\"slug\":\"t...   \n",
       "\n",
       "                                                name  pledged  \\\n",
       "0                           Babalus Children's Shoes  28645.0   \n",
       "1                            The Ofrenda Oracle Deck   1950.0   \n",
       "2  Record Electra's Debut Album (Pop, Rock, Class...  22404.0   \n",
       "3                 The Mist of Tribunal - A Card Game    136.0   \n",
       "4           Help change the face of Brain Impairment   2820.0   \n",
       "\n",
       "                                             profile  spotlight  staff_pick  \\\n",
       "0  {\"id\":3508024,\"project_id\":3508024,\"state\":\"in...      False       False   \n",
       "1  {\"id\":3094785,\"project_id\":3094785,\"state\":\"ac...       True       False   \n",
       "2  {\"id\":359847,\"project_id\":359847,\"state\":\"inac...       True       False   \n",
       "3  {\"id\":2825329,\"project_id\":2825329,\"state\":\"in...      False       False   \n",
       "4  {\"id\":417385,\"project_id\":417385,\"state\":\"inac...       True       False   \n",
       "\n",
       "        state  state_changed_at  static_usd_rate   usd_pledged  \n",
       "0        live        1548223375         1.000000  28645.000000  \n",
       "1  successful        1504976459         1.000000   1950.000000  \n",
       "2  successful        1371013395         1.000000  22404.000000  \n",
       "3      failed        1489425776         1.216066    165.384934  \n",
       "4  successful        1357763527         1.000000   2820.000000  "
      ],
      "text/html": "<div>\n<style scoped>\n    .dataframe tbody tr th:only-of-type {\n        vertical-align: middle;\n    }\n\n    .dataframe tbody tr th {\n        vertical-align: top;\n    }\n\n    .dataframe thead th {\n        text-align: right;\n    }\n</style>\n<table border=\"1\" class=\"dataframe\">\n  <thead>\n    <tr style=\"text-align: right;\">\n      <th></th>\n      <th>backers_count</th>\n      <th>blurb</th>\n      <th>category</th>\n      <th>converted_pledged_amount</th>\n      <th>country</th>\n      <th>created_at</th>\n      <th>creator</th>\n      <th>deadline</th>\n      <th>disable_communication</th>\n      <th>goal</th>\n      <th>id</th>\n      <th>is_starrable</th>\n      <th>launched_at</th>\n      <th>location</th>\n      <th>name</th>\n      <th>pledged</th>\n      <th>profile</th>\n      <th>spotlight</th>\n      <th>staff_pick</th>\n      <th>state</th>\n      <th>state_changed_at</th>\n      <th>static_usd_rate</th>\n      <th>usd_pledged</th>\n    </tr>\n  </thead>\n  <tbody>\n    <tr>\n      <th>0</th>\n      <td>315</td>\n      <td>Babalus Shoes</td>\n      <td>{\"id\":266,\"name\":\"Footwear\",\"slug\":\"fashion/fo...</td>\n      <td>28645</td>\n      <td>US</td>\n      <td>1541459205</td>\n      <td>{\"id\":2094277840,\"name\":\"Lucy Conroy\",\"slug\":\"...</td>\n      <td>1552539775</td>\n      <td>False</td>\n      <td>28000.0</td>\n      <td>2108505034</td>\n      <td>False</td>\n      <td>1548223375</td>\n      <td>{\"id\":2462429,\"name\":\"Novato\",\"slug\":\"novato-c...</td>\n      <td>Babalus Children's Shoes</td>\n      <td>28645.0</td>\n      <td>{\"id\":3508024,\"project_id\":3508024,\"state\":\"in...</td>\n      <td>False</td>\n      <td>False</td>\n      <td>live</td>\n      <td>1548223375</td>\n      <td>1.000000</td>\n      <td>28645.000000</td>\n    </tr>\n    <tr>\n      <th>1</th>\n      <td>47</td>\n      <td>A colorful Dia de los Muertos themed oracle de...</td>\n      <td>{\"id\":273,\"name\":\"Playing Cards\",\"slug\":\"games...</td>\n      <td>1950</td>\n      <td>US</td>\n      <td>1501684093</td>\n      <td>{\"id\":723886115,\"name\":\"Lisa Vollrath\",\"slug\":...</td>\n      <td>1504976459</td>\n      <td>False</td>\n      <td>1000.0</td>\n      <td>928751314</td>\n      <td>False</td>\n      <td>1502384459</td>\n      <td>{\"id\":2400549,\"name\":\"Euless\",\"slug\":\"euless-t...</td>\n      <td>The Ofrenda Oracle Deck</td>\n      <td>1950.0</td>\n      <td>{\"id\":3094785,\"project_id\":3094785,\"state\":\"ac...</td>\n      <td>True</td>\n      <td>False</td>\n      <td>successful</td>\n      <td>1504976459</td>\n      <td>1.000000</td>\n      <td>1950.000000</td>\n    </tr>\n    <tr>\n      <th>2</th>\n      <td>271</td>\n      <td>Electra's long awaited, eclectic Debut Pop/Roc...</td>\n      <td>{\"id\":43,\"name\":\"Rock\",\"slug\":\"music/rock\",\"po...</td>\n      <td>22404</td>\n      <td>US</td>\n      <td>1348987533</td>\n      <td>{\"id\":323849677,\"name\":\"Electra\",\"is_registere...</td>\n      <td>1371013395</td>\n      <td>False</td>\n      <td>15000.0</td>\n      <td>928014092</td>\n      <td>False</td>\n      <td>1368421395</td>\n      <td>{\"id\":2423474,\"name\":\"Hollywood\",\"slug\":\"holly...</td>\n      <td>Record Electra's Debut Album (Pop, Rock, Class...</td>\n      <td>22404.0</td>\n      <td>{\"id\":359847,\"project_id\":359847,\"state\":\"inac...</td>\n      <td>True</td>\n      <td>False</td>\n      <td>successful</td>\n      <td>1371013395</td>\n      <td>1.000000</td>\n      <td>22404.000000</td>\n    </tr>\n    <tr>\n      <th>3</th>\n      <td>3</td>\n      <td>The Mist of Tribunal is a turn-based card game...</td>\n      <td>{\"id\":273,\"name\":\"Playing Cards\",\"slug\":\"games...</td>\n      <td>165</td>\n      <td>GB</td>\n      <td>1483780271</td>\n      <td>{\"id\":196281496,\"name\":\"Artur Ordijanc (delete...</td>\n      <td>1489425776</td>\n      <td>False</td>\n      <td>10000.0</td>\n      <td>596091328</td>\n      <td>False</td>\n      <td>1484245376</td>\n      <td>{\"id\":475457,\"name\":\"Kaunas\",\"slug\":\"kaunas-ka...</td>\n      <td>The Mist of Tribunal - A Card Game</td>\n      <td>136.0</td>\n      <td>{\"id\":2825329,\"project_id\":2825329,\"state\":\"in...</td>\n      <td>False</td>\n      <td>False</td>\n      <td>failed</td>\n      <td>1489425776</td>\n      <td>1.216066</td>\n      <td>165.384934</td>\n    </tr>\n    <tr>\n      <th>4</th>\n      <td>3</td>\n      <td>Livng with a brain impairment, what its like t...</td>\n      <td>{\"id\":48,\"name\":\"Nonfiction\",\"slug\":\"publishin...</td>\n      <td>2820</td>\n      <td>US</td>\n      <td>1354817071</td>\n      <td>{\"id\":1178460181,\"name\":\"Dawn Johnston\",\"is_re...</td>\n      <td>1357763527</td>\n      <td>False</td>\n      <td>2800.0</td>\n      <td>998516049</td>\n      <td>False</td>\n      <td>1355171527</td>\n      <td>{\"id\":2507703,\"name\":\"Traverse City\",\"slug\":\"t...</td>\n      <td>Help change the face of Brain Impairment</td>\n      <td>2820.0</td>\n      <td>{\"id\":417385,\"project_id\":417385,\"state\":\"inac...</td>\n      <td>True</td>\n      <td>False</td>\n      <td>successful</td>\n      <td>1357763527</td>\n      <td>1.000000</td>\n      <td>2820.000000</td>\n    </tr>\n  </tbody>\n</table>\n</div>"
     },
     "metadata": {},
     "execution_count": 7
    }
   ],
   "source": [
    "frame.head()"
   ]
  },
  {
   "cell_type": "code",
   "execution_count": 8,
   "metadata": {},
   "outputs": [
    {
     "output_type": "stream",
     "name": "stdout",
     "text": [
      "<class 'pandas.core.frame.DataFrame'>\nRangeIndex: 209222 entries, 0 to 209221\nData columns (total 23 columns):\n #   Column                    Non-Null Count   Dtype  \n---  ------                    --------------   -----  \n 0   backers_count             209222 non-null  int64  \n 1   blurb                     209214 non-null  object \n 2   category                  209222 non-null  object \n 3   converted_pledged_amount  209222 non-null  int64  \n 4   country                   209222 non-null  object \n 5   created_at                209222 non-null  int64  \n 6   creator                   209222 non-null  object \n 7   deadline                  209222 non-null  int64  \n 8   disable_communication     209222 non-null  bool   \n 9   goal                      209222 non-null  float64\n 10  id                        209222 non-null  int64  \n 11  is_starrable              209222 non-null  bool   \n 12  launched_at               209222 non-null  int64  \n 13  location                  208996 non-null  object \n 14  name                      209222 non-null  object \n 15  pledged                   209222 non-null  float64\n 16  profile                   209222 non-null  object \n 17  spotlight                 209222 non-null  bool   \n 18  staff_pick                209222 non-null  bool   \n 19  state                     209222 non-null  object \n 20  state_changed_at          209222 non-null  int64  \n 21  static_usd_rate           209222 non-null  float64\n 22  usd_pledged               209222 non-null  float64\ndtypes: bool(4), float64(4), int64(7), object(8)\nmemory usage: 31.1+ MB\n"
     ]
    }
   ],
   "source": [
    "frame.info()"
   ]
  },
  {
   "cell_type": "code",
   "execution_count": 9,
   "metadata": {},
   "outputs": [
    {
     "output_type": "execute_result",
     "data": {
      "text/plain": [
       "   backers_count                                              blurb  \\\n",
       "0            315                                      Babalus Shoes   \n",
       "1             47  A colorful Dia de los Muertos themed oracle de...   \n",
       "2            271  Electra's long awaited, eclectic Debut Pop/Roc...   \n",
       "3              3  The Mist of Tribunal is a turn-based card game...   \n",
       "4              3  Livng with a brain impairment, what its like t...   \n",
       "\n",
       "                                            category  \\\n",
       "0  {\"id\":266,\"name\":\"Footwear\",\"slug\":\"fashion/fo...   \n",
       "1  {\"id\":273,\"name\":\"Playing Cards\",\"slug\":\"games...   \n",
       "2  {\"id\":43,\"name\":\"Rock\",\"slug\":\"music/rock\",\"po...   \n",
       "3  {\"id\":273,\"name\":\"Playing Cards\",\"slug\":\"games...   \n",
       "4  {\"id\":48,\"name\":\"Nonfiction\",\"slug\":\"publishin...   \n",
       "\n",
       "   converted_pledged_amount country  created_at  \\\n",
       "0                     28645      US  1541459205   \n",
       "1                      1950      US  1501684093   \n",
       "2                     22404      US  1348987533   \n",
       "3                       165      GB  1483780271   \n",
       "4                      2820      US  1354817071   \n",
       "\n",
       "                                             creator    deadline  \\\n",
       "0  {\"id\":2094277840,\"name\":\"Lucy Conroy\",\"slug\":\"...  1552539775   \n",
       "1  {\"id\":723886115,\"name\":\"Lisa Vollrath\",\"slug\":...  1504976459   \n",
       "2  {\"id\":323849677,\"name\":\"Electra\",\"is_registere...  1371013395   \n",
       "3  {\"id\":196281496,\"name\":\"Artur Ordijanc (delete...  1489425776   \n",
       "4  {\"id\":1178460181,\"name\":\"Dawn Johnston\",\"is_re...  1357763527   \n",
       "\n",
       "   disable_communication     goal          id  is_starrable  launched_at  \\\n",
       "0                  False  28000.0  2108505034         False   1548223375   \n",
       "1                  False   1000.0   928751314         False   1502384459   \n",
       "2                  False  15000.0   928014092         False   1368421395   \n",
       "3                  False  10000.0   596091328         False   1484245376   \n",
       "4                  False   2800.0   998516049         False   1355171527   \n",
       "\n",
       "                                            location  \\\n",
       "0  {\"id\":2462429,\"name\":\"Novato\",\"slug\":\"novato-c...   \n",
       "1  {\"id\":2400549,\"name\":\"Euless\",\"slug\":\"euless-t...   \n",
       "2  {\"id\":2423474,\"name\":\"Hollywood\",\"slug\":\"holly...   \n",
       "3  {\"id\":475457,\"name\":\"Kaunas\",\"slug\":\"kaunas-ka...   \n",
       "4  {\"id\":2507703,\"name\":\"Traverse City\",\"slug\":\"t...   \n",
       "\n",
       "                                                name  pledged  \\\n",
       "0                           Babalus Children's Shoes  28645.0   \n",
       "1                            The Ofrenda Oracle Deck   1950.0   \n",
       "2  Record Electra's Debut Album (Pop, Rock, Class...  22404.0   \n",
       "3                 The Mist of Tribunal - A Card Game    136.0   \n",
       "4           Help change the face of Brain Impairment   2820.0   \n",
       "\n",
       "                                             profile  spotlight  staff_pick  \\\n",
       "0  {\"id\":3508024,\"project_id\":3508024,\"state\":\"in...      False       False   \n",
       "1  {\"id\":3094785,\"project_id\":3094785,\"state\":\"ac...       True       False   \n",
       "2  {\"id\":359847,\"project_id\":359847,\"state\":\"inac...       True       False   \n",
       "3  {\"id\":2825329,\"project_id\":2825329,\"state\":\"in...      False       False   \n",
       "4  {\"id\":417385,\"project_id\":417385,\"state\":\"inac...       True       False   \n",
       "\n",
       "        state  state_changed_at  static_usd_rate   usd_pledged  ratio_target  \n",
       "0        live        1548223375         1.000000  28645.000000      1.023036  \n",
       "1  successful        1504976459         1.000000   1950.000000      1.950000  \n",
       "2  successful        1371013395         1.000000  22404.000000      1.493600  \n",
       "3      failed        1489425776         1.216066    165.384934      0.016500  \n",
       "4  successful        1357763527         1.000000   2820.000000      1.007143  "
      ],
      "text/html": "<div>\n<style scoped>\n    .dataframe tbody tr th:only-of-type {\n        vertical-align: middle;\n    }\n\n    .dataframe tbody tr th {\n        vertical-align: top;\n    }\n\n    .dataframe thead th {\n        text-align: right;\n    }\n</style>\n<table border=\"1\" class=\"dataframe\">\n  <thead>\n    <tr style=\"text-align: right;\">\n      <th></th>\n      <th>backers_count</th>\n      <th>blurb</th>\n      <th>category</th>\n      <th>converted_pledged_amount</th>\n      <th>country</th>\n      <th>created_at</th>\n      <th>creator</th>\n      <th>deadline</th>\n      <th>disable_communication</th>\n      <th>goal</th>\n      <th>id</th>\n      <th>is_starrable</th>\n      <th>launched_at</th>\n      <th>location</th>\n      <th>name</th>\n      <th>pledged</th>\n      <th>profile</th>\n      <th>spotlight</th>\n      <th>staff_pick</th>\n      <th>state</th>\n      <th>state_changed_at</th>\n      <th>static_usd_rate</th>\n      <th>usd_pledged</th>\n      <th>ratio_target</th>\n    </tr>\n  </thead>\n  <tbody>\n    <tr>\n      <th>0</th>\n      <td>315</td>\n      <td>Babalus Shoes</td>\n      <td>{\"id\":266,\"name\":\"Footwear\",\"slug\":\"fashion/fo...</td>\n      <td>28645</td>\n      <td>US</td>\n      <td>1541459205</td>\n      <td>{\"id\":2094277840,\"name\":\"Lucy Conroy\",\"slug\":\"...</td>\n      <td>1552539775</td>\n      <td>False</td>\n      <td>28000.0</td>\n      <td>2108505034</td>\n      <td>False</td>\n      <td>1548223375</td>\n      <td>{\"id\":2462429,\"name\":\"Novato\",\"slug\":\"novato-c...</td>\n      <td>Babalus Children's Shoes</td>\n      <td>28645.0</td>\n      <td>{\"id\":3508024,\"project_id\":3508024,\"state\":\"in...</td>\n      <td>False</td>\n      <td>False</td>\n      <td>live</td>\n      <td>1548223375</td>\n      <td>1.000000</td>\n      <td>28645.000000</td>\n      <td>1.023036</td>\n    </tr>\n    <tr>\n      <th>1</th>\n      <td>47</td>\n      <td>A colorful Dia de los Muertos themed oracle de...</td>\n      <td>{\"id\":273,\"name\":\"Playing Cards\",\"slug\":\"games...</td>\n      <td>1950</td>\n      <td>US</td>\n      <td>1501684093</td>\n      <td>{\"id\":723886115,\"name\":\"Lisa Vollrath\",\"slug\":...</td>\n      <td>1504976459</td>\n      <td>False</td>\n      <td>1000.0</td>\n      <td>928751314</td>\n      <td>False</td>\n      <td>1502384459</td>\n      <td>{\"id\":2400549,\"name\":\"Euless\",\"slug\":\"euless-t...</td>\n      <td>The Ofrenda Oracle Deck</td>\n      <td>1950.0</td>\n      <td>{\"id\":3094785,\"project_id\":3094785,\"state\":\"ac...</td>\n      <td>True</td>\n      <td>False</td>\n      <td>successful</td>\n      <td>1504976459</td>\n      <td>1.000000</td>\n      <td>1950.000000</td>\n      <td>1.950000</td>\n    </tr>\n    <tr>\n      <th>2</th>\n      <td>271</td>\n      <td>Electra's long awaited, eclectic Debut Pop/Roc...</td>\n      <td>{\"id\":43,\"name\":\"Rock\",\"slug\":\"music/rock\",\"po...</td>\n      <td>22404</td>\n      <td>US</td>\n      <td>1348987533</td>\n      <td>{\"id\":323849677,\"name\":\"Electra\",\"is_registere...</td>\n      <td>1371013395</td>\n      <td>False</td>\n      <td>15000.0</td>\n      <td>928014092</td>\n      <td>False</td>\n      <td>1368421395</td>\n      <td>{\"id\":2423474,\"name\":\"Hollywood\",\"slug\":\"holly...</td>\n      <td>Record Electra's Debut Album (Pop, Rock, Class...</td>\n      <td>22404.0</td>\n      <td>{\"id\":359847,\"project_id\":359847,\"state\":\"inac...</td>\n      <td>True</td>\n      <td>False</td>\n      <td>successful</td>\n      <td>1371013395</td>\n      <td>1.000000</td>\n      <td>22404.000000</td>\n      <td>1.493600</td>\n    </tr>\n    <tr>\n      <th>3</th>\n      <td>3</td>\n      <td>The Mist of Tribunal is a turn-based card game...</td>\n      <td>{\"id\":273,\"name\":\"Playing Cards\",\"slug\":\"games...</td>\n      <td>165</td>\n      <td>GB</td>\n      <td>1483780271</td>\n      <td>{\"id\":196281496,\"name\":\"Artur Ordijanc (delete...</td>\n      <td>1489425776</td>\n      <td>False</td>\n      <td>10000.0</td>\n      <td>596091328</td>\n      <td>False</td>\n      <td>1484245376</td>\n      <td>{\"id\":475457,\"name\":\"Kaunas\",\"slug\":\"kaunas-ka...</td>\n      <td>The Mist of Tribunal - A Card Game</td>\n      <td>136.0</td>\n      <td>{\"id\":2825329,\"project_id\":2825329,\"state\":\"in...</td>\n      <td>False</td>\n      <td>False</td>\n      <td>failed</td>\n      <td>1489425776</td>\n      <td>1.216066</td>\n      <td>165.384934</td>\n      <td>0.016500</td>\n    </tr>\n    <tr>\n      <th>4</th>\n      <td>3</td>\n      <td>Livng with a brain impairment, what its like t...</td>\n      <td>{\"id\":48,\"name\":\"Nonfiction\",\"slug\":\"publishin...</td>\n      <td>2820</td>\n      <td>US</td>\n      <td>1354817071</td>\n      <td>{\"id\":1178460181,\"name\":\"Dawn Johnston\",\"is_re...</td>\n      <td>1357763527</td>\n      <td>False</td>\n      <td>2800.0</td>\n      <td>998516049</td>\n      <td>False</td>\n      <td>1355171527</td>\n      <td>{\"id\":2507703,\"name\":\"Traverse City\",\"slug\":\"t...</td>\n      <td>Help change the face of Brain Impairment</td>\n      <td>2820.0</td>\n      <td>{\"id\":417385,\"project_id\":417385,\"state\":\"inac...</td>\n      <td>True</td>\n      <td>False</td>\n      <td>successful</td>\n      <td>1357763527</td>\n      <td>1.000000</td>\n      <td>2820.000000</td>\n      <td>1.007143</td>\n    </tr>\n  </tbody>\n</table>\n</div>"
     },
     "metadata": {},
     "execution_count": 9
    }
   ],
   "source": [
    "#define ratio between goal and pledged amount\n",
    "frame['ratio_target']= frame.eval('converted_pledged_amount / goal')\n",
    "frame.head()"
   ]
  },
  {
   "cell_type": "code",
   "execution_count": 10,
   "metadata": {},
   "outputs": [],
   "source": [
    "# conversion of dates in dataset: created_at, deadline, launched_at\n",
    "\n",
    "from datetime import datetime, date, time, timedelta"
   ]
  },
  {
   "cell_type": "code",
   "execution_count": 11,
   "metadata": {},
   "outputs": [],
   "source": [
    "to_convert = ['created_at', 'deadline', 'launched_at', 'state_changed_at']\n",
    "for i in to_convert:\n",
    "    frame[i] = pd.to_datetime(frame[i], origin='unix', unit='s')"
   ]
  },
  {
   "cell_type": "code",
   "execution_count": 12,
   "metadata": {},
   "outputs": [
    {
     "output_type": "execute_result",
     "data": {
      "text/plain": [
       "            backers_count   blurb  category  converted_pledged_amount  \\\n",
       "state                                                                   \n",
       "canceled             8624    8618      8624                      8624   \n",
       "failed              75199   75197     75199                     75199   \n",
       "live                 7311    7311      7311                      7311   \n",
       "successful         117465  117465    117465                    117465   \n",
       "suspended             623     623       623                       623   \n",
       "\n",
       "            country  created_at  creator  deadline  disable_communication  \\\n",
       "state                                                                       \n",
       "canceled       8624        8624     8624      8624                   8624   \n",
       "failed        75199       75199    75199     75199                  75199   \n",
       "live           7311        7311     7311      7311                   7311   \n",
       "successful   117465      117465   117465    117465                 117465   \n",
       "suspended       623         623      623       623                    623   \n",
       "\n",
       "              goal      id  is_starrable  launched_at  location    name  \\\n",
       "state                                                                     \n",
       "canceled      8624    8624          8624         8624      8613    8624   \n",
       "failed       75199   75199         75199        75199     75151   75199   \n",
       "live          7311    7311          7311         7311      7311    7311   \n",
       "successful  117465  117465        117465       117465    117298  117465   \n",
       "suspended      623     623           623          623       623     623   \n",
       "\n",
       "            pledged  profile  spotlight  staff_pick  state_changed_at  \\\n",
       "state                                                                   \n",
       "canceled       8624     8624       8624        8624              8624   \n",
       "failed        75199    75199      75199       75199             75199   \n",
       "live           7311     7311       7311        7311              7311   \n",
       "successful   117465   117465     117465      117465            117465   \n",
       "suspended       623      623        623         623               623   \n",
       "\n",
       "            static_usd_rate  usd_pledged  ratio_target  \n",
       "state                                                   \n",
       "canceled               8624         8624          8624  \n",
       "failed                75199        75199         75199  \n",
       "live                   7311         7311          7311  \n",
       "successful           117465       117465        117465  \n",
       "suspended               623          623           623  "
      ],
      "text/html": "<div>\n<style scoped>\n    .dataframe tbody tr th:only-of-type {\n        vertical-align: middle;\n    }\n\n    .dataframe tbody tr th {\n        vertical-align: top;\n    }\n\n    .dataframe thead th {\n        text-align: right;\n    }\n</style>\n<table border=\"1\" class=\"dataframe\">\n  <thead>\n    <tr style=\"text-align: right;\">\n      <th></th>\n      <th>backers_count</th>\n      <th>blurb</th>\n      <th>category</th>\n      <th>converted_pledged_amount</th>\n      <th>country</th>\n      <th>created_at</th>\n      <th>creator</th>\n      <th>deadline</th>\n      <th>disable_communication</th>\n      <th>goal</th>\n      <th>id</th>\n      <th>is_starrable</th>\n      <th>launched_at</th>\n      <th>location</th>\n      <th>name</th>\n      <th>pledged</th>\n      <th>profile</th>\n      <th>spotlight</th>\n      <th>staff_pick</th>\n      <th>state_changed_at</th>\n      <th>static_usd_rate</th>\n      <th>usd_pledged</th>\n      <th>ratio_target</th>\n    </tr>\n    <tr>\n      <th>state</th>\n      <th></th>\n      <th></th>\n      <th></th>\n      <th></th>\n      <th></th>\n      <th></th>\n      <th></th>\n      <th></th>\n      <th></th>\n      <th></th>\n      <th></th>\n      <th></th>\n      <th></th>\n      <th></th>\n      <th></th>\n      <th></th>\n      <th></th>\n      <th></th>\n      <th></th>\n      <th></th>\n      <th></th>\n      <th></th>\n      <th></th>\n    </tr>\n  </thead>\n  <tbody>\n    <tr>\n      <th>canceled</th>\n      <td>8624</td>\n      <td>8618</td>\n      <td>8624</td>\n      <td>8624</td>\n      <td>8624</td>\n      <td>8624</td>\n      <td>8624</td>\n      <td>8624</td>\n      <td>8624</td>\n      <td>8624</td>\n      <td>8624</td>\n      <td>8624</td>\n      <td>8624</td>\n      <td>8613</td>\n      <td>8624</td>\n      <td>8624</td>\n      <td>8624</td>\n      <td>8624</td>\n      <td>8624</td>\n      <td>8624</td>\n      <td>8624</td>\n      <td>8624</td>\n      <td>8624</td>\n    </tr>\n    <tr>\n      <th>failed</th>\n      <td>75199</td>\n      <td>75197</td>\n      <td>75199</td>\n      <td>75199</td>\n      <td>75199</td>\n      <td>75199</td>\n      <td>75199</td>\n      <td>75199</td>\n      <td>75199</td>\n      <td>75199</td>\n      <td>75199</td>\n      <td>75199</td>\n      <td>75199</td>\n      <td>75151</td>\n      <td>75199</td>\n      <td>75199</td>\n      <td>75199</td>\n      <td>75199</td>\n      <td>75199</td>\n      <td>75199</td>\n      <td>75199</td>\n      <td>75199</td>\n      <td>75199</td>\n    </tr>\n    <tr>\n      <th>live</th>\n      <td>7311</td>\n      <td>7311</td>\n      <td>7311</td>\n      <td>7311</td>\n      <td>7311</td>\n      <td>7311</td>\n      <td>7311</td>\n      <td>7311</td>\n      <td>7311</td>\n      <td>7311</td>\n      <td>7311</td>\n      <td>7311</td>\n      <td>7311</td>\n      <td>7311</td>\n      <td>7311</td>\n      <td>7311</td>\n      <td>7311</td>\n      <td>7311</td>\n      <td>7311</td>\n      <td>7311</td>\n      <td>7311</td>\n      <td>7311</td>\n      <td>7311</td>\n    </tr>\n    <tr>\n      <th>successful</th>\n      <td>117465</td>\n      <td>117465</td>\n      <td>117465</td>\n      <td>117465</td>\n      <td>117465</td>\n      <td>117465</td>\n      <td>117465</td>\n      <td>117465</td>\n      <td>117465</td>\n      <td>117465</td>\n      <td>117465</td>\n      <td>117465</td>\n      <td>117465</td>\n      <td>117298</td>\n      <td>117465</td>\n      <td>117465</td>\n      <td>117465</td>\n      <td>117465</td>\n      <td>117465</td>\n      <td>117465</td>\n      <td>117465</td>\n      <td>117465</td>\n      <td>117465</td>\n    </tr>\n    <tr>\n      <th>suspended</th>\n      <td>623</td>\n      <td>623</td>\n      <td>623</td>\n      <td>623</td>\n      <td>623</td>\n      <td>623</td>\n      <td>623</td>\n      <td>623</td>\n      <td>623</td>\n      <td>623</td>\n      <td>623</td>\n      <td>623</td>\n      <td>623</td>\n      <td>623</td>\n      <td>623</td>\n      <td>623</td>\n      <td>623</td>\n      <td>623</td>\n      <td>623</td>\n      <td>623</td>\n      <td>623</td>\n      <td>623</td>\n      <td>623</td>\n    </tr>\n  </tbody>\n</table>\n</div>"
     },
     "metadata": {},
     "execution_count": 12
    }
   ],
   "source": [
    "#what is the status of the projects\n",
    "gb_state= frame.groupby('state')\n",
    "gb_state.count()"
   ]
  },
  {
   "source": [
    "- More than 50% of the projects were successful \n",
    "- 75k failed\n",
    "- take out all projects with status: canceled, live, suspended ??"
   ],
   "cell_type": "markdown",
   "metadata": {}
  },
  {
   "cell_type": "code",
   "execution_count": 13,
   "metadata": {},
   "outputs": [
    {
     "output_type": "execute_result",
     "data": {
      "text/plain": [
       "          count  percentage\n",
       "blurb         8        0.00\n",
       "location    226        0.11"
      ],
      "text/html": "<div>\n<style scoped>\n    .dataframe tbody tr th:only-of-type {\n        vertical-align: middle;\n    }\n\n    .dataframe tbody tr th {\n        vertical-align: top;\n    }\n\n    .dataframe thead th {\n        text-align: right;\n    }\n</style>\n<table border=\"1\" class=\"dataframe\">\n  <thead>\n    <tr style=\"text-align: right;\">\n      <th></th>\n      <th>count</th>\n      <th>percentage</th>\n    </tr>\n  </thead>\n  <tbody>\n    <tr>\n      <th>blurb</th>\n      <td>8</td>\n      <td>0.00</td>\n    </tr>\n    <tr>\n      <th>location</th>\n      <td>226</td>\n      <td>0.11</td>\n    </tr>\n  </tbody>\n</table>\n</div>"
     },
     "metadata": {},
     "execution_count": 13
    }
   ],
   "source": [
    "missing_values = pd.DataFrame(frame.isnull().sum(),columns=['count'])\n",
    "missing_values['percentage'] = (missing_values['count']/frame.shape[0]*100).round(2)\n",
    "missing_values.query('count != 0')"
   ]
  },
  {
   "cell_type": "code",
   "execution_count": 14,
   "metadata": {},
   "outputs": [
    {
     "output_type": "stream",
     "name": "stdout",
     "text": [
      "<class 'pandas.core.frame.DataFrame'>\nRangeIndex: 209222 entries, 0 to 209221\nData columns (total 7 columns):\n #   Column     Non-Null Count   Dtype  \n---  ------     --------------   -----  \n 0   id         209222 non-null  int64  \n 1   name       209222 non-null  object \n 2   slug       209222 non-null  object \n 3   position   209222 non-null  int64  \n 4   parent_id  200181 non-null  float64\n 5   color      209222 non-null  int64  \n 6   urls       209222 non-null  object \ndtypes: float64(1), int64(3), object(3)\nmemory usage: 11.2+ MB\n"
     ]
    }
   ],
   "source": [
    "stdf.info()"
   ]
  },
  {
   "cell_type": "code",
   "execution_count": 15,
   "metadata": {},
   "outputs": [
    {
     "output_type": "execute_result",
     "data": {
      "text/plain": [
       "        id         name         slug  position  parent_id     color  \\\n",
       "7       14        Music        music        11        NaN  10878931   \n",
       "25      15  Photography  photography        12        NaN     58341   \n",
       "27       9      Fashion      fashion         6        NaN  16752598   \n",
       "32       9      Fashion      fashion         6        NaN  16752598   \n",
       "51      14        Music        music        11        NaN  10878931   \n",
       "...     ..          ...          ...       ...        ...       ...   \n",
       "209005  18   Publishing   publishing        13        NaN  14867664   \n",
       "209174  13   Journalism   journalism        10        NaN   1228010   \n",
       "209181  12        Games        games         9        NaN     51627   \n",
       "209209  13   Journalism   journalism        10        NaN   1228010   \n",
       "209221  13   Journalism   journalism        10        NaN   1228010   \n",
       "\n",
       "                                                     urls  \n",
       "7       {'web': {'discover': 'http://www.kickstarter.c...  \n",
       "25      {'web': {'discover': 'http://www.kickstarter.c...  \n",
       "27      {'web': {'discover': 'http://www.kickstarter.c...  \n",
       "32      {'web': {'discover': 'http://www.kickstarter.c...  \n",
       "51      {'web': {'discover': 'http://www.kickstarter.c...  \n",
       "...                                                   ...  \n",
       "209005  {'web': {'discover': 'http://www.kickstarter.c...  \n",
       "209174  {'web': {'discover': 'http://www.kickstarter.c...  \n",
       "209181  {'web': {'discover': 'http://www.kickstarter.c...  \n",
       "209209  {'web': {'discover': 'http://www.kickstarter.c...  \n",
       "209221  {'web': {'discover': 'http://www.kickstarter.c...  \n",
       "\n",
       "[9041 rows x 7 columns]"
      ],
      "text/html": "<div>\n<style scoped>\n    .dataframe tbody tr th:only-of-type {\n        vertical-align: middle;\n    }\n\n    .dataframe tbody tr th {\n        vertical-align: top;\n    }\n\n    .dataframe thead th {\n        text-align: right;\n    }\n</style>\n<table border=\"1\" class=\"dataframe\">\n  <thead>\n    <tr style=\"text-align: right;\">\n      <th></th>\n      <th>id</th>\n      <th>name</th>\n      <th>slug</th>\n      <th>position</th>\n      <th>parent_id</th>\n      <th>color</th>\n      <th>urls</th>\n    </tr>\n  </thead>\n  <tbody>\n    <tr>\n      <th>7</th>\n      <td>14</td>\n      <td>Music</td>\n      <td>music</td>\n      <td>11</td>\n      <td>NaN</td>\n      <td>10878931</td>\n      <td>{'web': {'discover': 'http://www.kickstarter.c...</td>\n    </tr>\n    <tr>\n      <th>25</th>\n      <td>15</td>\n      <td>Photography</td>\n      <td>photography</td>\n      <td>12</td>\n      <td>NaN</td>\n      <td>58341</td>\n      <td>{'web': {'discover': 'http://www.kickstarter.c...</td>\n    </tr>\n    <tr>\n      <th>27</th>\n      <td>9</td>\n      <td>Fashion</td>\n      <td>fashion</td>\n      <td>6</td>\n      <td>NaN</td>\n      <td>16752598</td>\n      <td>{'web': {'discover': 'http://www.kickstarter.c...</td>\n    </tr>\n    <tr>\n      <th>32</th>\n      <td>9</td>\n      <td>Fashion</td>\n      <td>fashion</td>\n      <td>6</td>\n      <td>NaN</td>\n      <td>16752598</td>\n      <td>{'web': {'discover': 'http://www.kickstarter.c...</td>\n    </tr>\n    <tr>\n      <th>51</th>\n      <td>14</td>\n      <td>Music</td>\n      <td>music</td>\n      <td>11</td>\n      <td>NaN</td>\n      <td>10878931</td>\n      <td>{'web': {'discover': 'http://www.kickstarter.c...</td>\n    </tr>\n    <tr>\n      <th>...</th>\n      <td>...</td>\n      <td>...</td>\n      <td>...</td>\n      <td>...</td>\n      <td>...</td>\n      <td>...</td>\n      <td>...</td>\n    </tr>\n    <tr>\n      <th>209005</th>\n      <td>18</td>\n      <td>Publishing</td>\n      <td>publishing</td>\n      <td>13</td>\n      <td>NaN</td>\n      <td>14867664</td>\n      <td>{'web': {'discover': 'http://www.kickstarter.c...</td>\n    </tr>\n    <tr>\n      <th>209174</th>\n      <td>13</td>\n      <td>Journalism</td>\n      <td>journalism</td>\n      <td>10</td>\n      <td>NaN</td>\n      <td>1228010</td>\n      <td>{'web': {'discover': 'http://www.kickstarter.c...</td>\n    </tr>\n    <tr>\n      <th>209181</th>\n      <td>12</td>\n      <td>Games</td>\n      <td>games</td>\n      <td>9</td>\n      <td>NaN</td>\n      <td>51627</td>\n      <td>{'web': {'discover': 'http://www.kickstarter.c...</td>\n    </tr>\n    <tr>\n      <th>209209</th>\n      <td>13</td>\n      <td>Journalism</td>\n      <td>journalism</td>\n      <td>10</td>\n      <td>NaN</td>\n      <td>1228010</td>\n      <td>{'web': {'discover': 'http://www.kickstarter.c...</td>\n    </tr>\n    <tr>\n      <th>209221</th>\n      <td>13</td>\n      <td>Journalism</td>\n      <td>journalism</td>\n      <td>10</td>\n      <td>NaN</td>\n      <td>1228010</td>\n      <td>{'web': {'discover': 'http://www.kickstarter.c...</td>\n    </tr>\n  </tbody>\n</table>\n<p>9041 rows × 7 columns</p>\n</div>"
     },
     "metadata": {},
     "execution_count": 15
    }
   ],
   "source": [
    "a=stdf[stdf.isna().any(axis=1)] # parent id \n",
    "a # we have to decide wether we create a '0' id or we copy the ones form the id "
   ]
  },
  {
   "cell_type": "code",
   "execution_count": 16,
   "metadata": {},
   "outputs": [],
   "source": [
    "stdf.parent_id.fillna(stdf.id,inplace=True)\n"
   ]
  },
  {
   "cell_type": "code",
   "execution_count": 17,
   "metadata": {},
   "outputs": [
    {
     "output_type": "execute_result",
     "data": {
      "text/plain": [
       "         id              name                    slug  position  parent_id  \\\n",
       "0       266          Footwear        fashion/footwear         5          9   \n",
       "1       273     Playing Cards     games/playing cards         4         12   \n",
       "2        43              Rock              music/rock        17         14   \n",
       "3       273     Playing Cards     games/playing cards         4         12   \n",
       "4        48        Nonfiction   publishing/nonfiction         9         18   \n",
       "...     ...               ...                     ...       ...        ...   \n",
       "209217   34    Tabletop Games    games/tabletop games         6         12   \n",
       "209218   38  Electronic Music  music/electronic music         6         14   \n",
       "209219   52          Hardware     technology/hardware         8         16   \n",
       "209220  295         Festivals  film & video/festivals         9         11   \n",
       "209221   13        Journalism              journalism        10         13   \n",
       "\n",
       "           color                                               urls  \n",
       "0       16752598  {'web': {'discover': 'http://www.kickstarter.c...  \n",
       "1          51627  {'web': {'discover': 'http://www.kickstarter.c...  \n",
       "2       10878931  {'web': {'discover': 'http://www.kickstarter.c...  \n",
       "3          51627  {'web': {'discover': 'http://www.kickstarter.c...  \n",
       "4       14867664  {'web': {'discover': 'http://www.kickstarter.c...  \n",
       "...          ...                                                ...  \n",
       "209217     51627  {'web': {'discover': 'http://www.kickstarter.c...  \n",
       "209218  10878931  {'web': {'discover': 'http://www.kickstarter.c...  \n",
       "209219   6526716  {'web': {'discover': 'http://www.kickstarter.c...  \n",
       "209220  16734574  {'web': {'discover': 'http://www.kickstarter.c...  \n",
       "209221   1228010  {'web': {'discover': 'http://www.kickstarter.c...  \n",
       "\n",
       "[209222 rows x 7 columns]"
      ],
      "text/html": "<div>\n<style scoped>\n    .dataframe tbody tr th:only-of-type {\n        vertical-align: middle;\n    }\n\n    .dataframe tbody tr th {\n        vertical-align: top;\n    }\n\n    .dataframe thead th {\n        text-align: right;\n    }\n</style>\n<table border=\"1\" class=\"dataframe\">\n  <thead>\n    <tr style=\"text-align: right;\">\n      <th></th>\n      <th>id</th>\n      <th>name</th>\n      <th>slug</th>\n      <th>position</th>\n      <th>parent_id</th>\n      <th>color</th>\n      <th>urls</th>\n    </tr>\n  </thead>\n  <tbody>\n    <tr>\n      <th>0</th>\n      <td>266</td>\n      <td>Footwear</td>\n      <td>fashion/footwear</td>\n      <td>5</td>\n      <td>9</td>\n      <td>16752598</td>\n      <td>{'web': {'discover': 'http://www.kickstarter.c...</td>\n    </tr>\n    <tr>\n      <th>1</th>\n      <td>273</td>\n      <td>Playing Cards</td>\n      <td>games/playing cards</td>\n      <td>4</td>\n      <td>12</td>\n      <td>51627</td>\n      <td>{'web': {'discover': 'http://www.kickstarter.c...</td>\n    </tr>\n    <tr>\n      <th>2</th>\n      <td>43</td>\n      <td>Rock</td>\n      <td>music/rock</td>\n      <td>17</td>\n      <td>14</td>\n      <td>10878931</td>\n      <td>{'web': {'discover': 'http://www.kickstarter.c...</td>\n    </tr>\n    <tr>\n      <th>3</th>\n      <td>273</td>\n      <td>Playing Cards</td>\n      <td>games/playing cards</td>\n      <td>4</td>\n      <td>12</td>\n      <td>51627</td>\n      <td>{'web': {'discover': 'http://www.kickstarter.c...</td>\n    </tr>\n    <tr>\n      <th>4</th>\n      <td>48</td>\n      <td>Nonfiction</td>\n      <td>publishing/nonfiction</td>\n      <td>9</td>\n      <td>18</td>\n      <td>14867664</td>\n      <td>{'web': {'discover': 'http://www.kickstarter.c...</td>\n    </tr>\n    <tr>\n      <th>...</th>\n      <td>...</td>\n      <td>...</td>\n      <td>...</td>\n      <td>...</td>\n      <td>...</td>\n      <td>...</td>\n      <td>...</td>\n    </tr>\n    <tr>\n      <th>209217</th>\n      <td>34</td>\n      <td>Tabletop Games</td>\n      <td>games/tabletop games</td>\n      <td>6</td>\n      <td>12</td>\n      <td>51627</td>\n      <td>{'web': {'discover': 'http://www.kickstarter.c...</td>\n    </tr>\n    <tr>\n      <th>209218</th>\n      <td>38</td>\n      <td>Electronic Music</td>\n      <td>music/electronic music</td>\n      <td>6</td>\n      <td>14</td>\n      <td>10878931</td>\n      <td>{'web': {'discover': 'http://www.kickstarter.c...</td>\n    </tr>\n    <tr>\n      <th>209219</th>\n      <td>52</td>\n      <td>Hardware</td>\n      <td>technology/hardware</td>\n      <td>8</td>\n      <td>16</td>\n      <td>6526716</td>\n      <td>{'web': {'discover': 'http://www.kickstarter.c...</td>\n    </tr>\n    <tr>\n      <th>209220</th>\n      <td>295</td>\n      <td>Festivals</td>\n      <td>film &amp; video/festivals</td>\n      <td>9</td>\n      <td>11</td>\n      <td>16734574</td>\n      <td>{'web': {'discover': 'http://www.kickstarter.c...</td>\n    </tr>\n    <tr>\n      <th>209221</th>\n      <td>13</td>\n      <td>Journalism</td>\n      <td>journalism</td>\n      <td>10</td>\n      <td>13</td>\n      <td>1228010</td>\n      <td>{'web': {'discover': 'http://www.kickstarter.c...</td>\n    </tr>\n  </tbody>\n</table>\n<p>209222 rows × 7 columns</p>\n</div>"
     },
     "metadata": {},
     "execution_count": 17
    }
   ],
   "source": [
    "stdf.parent_id= stdf.parent_id.astype(int)\n",
    "stdf"
   ]
  },
  {
   "cell_type": "code",
   "execution_count": 18,
   "metadata": {},
   "outputs": [],
   "source": [
    "f = lambda x: x['slug'].split('/')[0]\n",
    "stdf['slug'] = stdf.apply(f, axis=1)"
   ]
  },
  {
   "cell_type": "code",
   "execution_count": 19,
   "metadata": {},
   "outputs": [],
   "source": [
    "# i reviewed all the data in stdf i think we can erase  slug, position, color and urls \n",
    "\n",
    "cols_del = [ 'position', 'color',  'urls']\n",
    "\n",
    "stdf.drop(cols_del, inplace=True, axis=1)"
   ]
  },
  {
   "cell_type": "code",
   "execution_count": 20,
   "metadata": {},
   "outputs": [
    {
     "output_type": "execute_result",
     "data": {
      "text/plain": [
       "   backers_count                                              blurb  \\\n",
       "0            315                                      Babalus Shoes   \n",
       "1             47  A colorful Dia de los Muertos themed oracle de...   \n",
       "2            271  Electra's long awaited, eclectic Debut Pop/Roc...   \n",
       "3              3  The Mist of Tribunal is a turn-based card game...   \n",
       "4              3  Livng with a brain impairment, what its like t...   \n",
       "\n",
       "   converted_pledged_amount country          created_at            deadline  \\\n",
       "0                     28645      US 2018-11-05 23:06:45 2019-03-14 05:02:55   \n",
       "1                      1950      US 2017-08-02 14:28:13 2017-09-09 17:00:59   \n",
       "2                     22404      US 2012-09-30 06:45:33 2013-06-12 05:03:15   \n",
       "3                       165      GB 2017-01-07 09:11:11 2017-03-13 17:22:56   \n",
       "4                      2820      US 2012-12-06 18:04:31 2013-01-09 20:32:07   \n",
       "\n",
       "   disable_communication     goal          id  is_starrable  \\\n",
       "0                  False  28000.0  2108505034         False   \n",
       "1                  False   1000.0   928751314         False   \n",
       "2                  False  15000.0   928014092         False   \n",
       "3                  False  10000.0   596091328         False   \n",
       "4                  False   2800.0   998516049         False   \n",
       "\n",
       "          launched_at                                               name  \\\n",
       "0 2019-01-23 06:02:55                           Babalus Children's Shoes   \n",
       "1 2017-08-10 17:00:59                            The Ofrenda Oracle Deck   \n",
       "2 2013-05-13 05:03:15  Record Electra's Debut Album (Pop, Rock, Class...   \n",
       "3 2017-01-12 18:22:56                 The Mist of Tribunal - A Card Game   \n",
       "4 2012-12-10 20:32:07           Help change the face of Brain Impairment   \n",
       "\n",
       "   pledged  spotlight  staff_pick       state    state_changed_at  \\\n",
       "0  28645.0      False       False        live 2019-01-23 06:02:55   \n",
       "1   1950.0       True       False  successful 2017-09-09 17:00:59   \n",
       "2  22404.0       True       False  successful 2013-06-12 05:03:15   \n",
       "3    136.0      False       False      failed 2017-03-13 17:22:56   \n",
       "4   2820.0       True       False  successful 2013-01-09 20:32:07   \n",
       "\n",
       "   static_usd_rate   usd_pledged  ratio_target  \n",
       "0         1.000000  28645.000000      1.023036  \n",
       "1         1.000000   1950.000000      1.950000  \n",
       "2         1.000000  22404.000000      1.493600  \n",
       "3         1.216066    165.384934      0.016500  \n",
       "4         1.000000   2820.000000      1.007143  "
      ],
      "text/html": "<div>\n<style scoped>\n    .dataframe tbody tr th:only-of-type {\n        vertical-align: middle;\n    }\n\n    .dataframe tbody tr th {\n        vertical-align: top;\n    }\n\n    .dataframe thead th {\n        text-align: right;\n    }\n</style>\n<table border=\"1\" class=\"dataframe\">\n  <thead>\n    <tr style=\"text-align: right;\">\n      <th></th>\n      <th>backers_count</th>\n      <th>blurb</th>\n      <th>converted_pledged_amount</th>\n      <th>country</th>\n      <th>created_at</th>\n      <th>deadline</th>\n      <th>disable_communication</th>\n      <th>goal</th>\n      <th>id</th>\n      <th>is_starrable</th>\n      <th>launched_at</th>\n      <th>name</th>\n      <th>pledged</th>\n      <th>spotlight</th>\n      <th>staff_pick</th>\n      <th>state</th>\n      <th>state_changed_at</th>\n      <th>static_usd_rate</th>\n      <th>usd_pledged</th>\n      <th>ratio_target</th>\n    </tr>\n  </thead>\n  <tbody>\n    <tr>\n      <th>0</th>\n      <td>315</td>\n      <td>Babalus Shoes</td>\n      <td>28645</td>\n      <td>US</td>\n      <td>2018-11-05 23:06:45</td>\n      <td>2019-03-14 05:02:55</td>\n      <td>False</td>\n      <td>28000.0</td>\n      <td>2108505034</td>\n      <td>False</td>\n      <td>2019-01-23 06:02:55</td>\n      <td>Babalus Children's Shoes</td>\n      <td>28645.0</td>\n      <td>False</td>\n      <td>False</td>\n      <td>live</td>\n      <td>2019-01-23 06:02:55</td>\n      <td>1.000000</td>\n      <td>28645.000000</td>\n      <td>1.023036</td>\n    </tr>\n    <tr>\n      <th>1</th>\n      <td>47</td>\n      <td>A colorful Dia de los Muertos themed oracle de...</td>\n      <td>1950</td>\n      <td>US</td>\n      <td>2017-08-02 14:28:13</td>\n      <td>2017-09-09 17:00:59</td>\n      <td>False</td>\n      <td>1000.0</td>\n      <td>928751314</td>\n      <td>False</td>\n      <td>2017-08-10 17:00:59</td>\n      <td>The Ofrenda Oracle Deck</td>\n      <td>1950.0</td>\n      <td>True</td>\n      <td>False</td>\n      <td>successful</td>\n      <td>2017-09-09 17:00:59</td>\n      <td>1.000000</td>\n      <td>1950.000000</td>\n      <td>1.950000</td>\n    </tr>\n    <tr>\n      <th>2</th>\n      <td>271</td>\n      <td>Electra's long awaited, eclectic Debut Pop/Roc...</td>\n      <td>22404</td>\n      <td>US</td>\n      <td>2012-09-30 06:45:33</td>\n      <td>2013-06-12 05:03:15</td>\n      <td>False</td>\n      <td>15000.0</td>\n      <td>928014092</td>\n      <td>False</td>\n      <td>2013-05-13 05:03:15</td>\n      <td>Record Electra's Debut Album (Pop, Rock, Class...</td>\n      <td>22404.0</td>\n      <td>True</td>\n      <td>False</td>\n      <td>successful</td>\n      <td>2013-06-12 05:03:15</td>\n      <td>1.000000</td>\n      <td>22404.000000</td>\n      <td>1.493600</td>\n    </tr>\n    <tr>\n      <th>3</th>\n      <td>3</td>\n      <td>The Mist of Tribunal is a turn-based card game...</td>\n      <td>165</td>\n      <td>GB</td>\n      <td>2017-01-07 09:11:11</td>\n      <td>2017-03-13 17:22:56</td>\n      <td>False</td>\n      <td>10000.0</td>\n      <td>596091328</td>\n      <td>False</td>\n      <td>2017-01-12 18:22:56</td>\n      <td>The Mist of Tribunal - A Card Game</td>\n      <td>136.0</td>\n      <td>False</td>\n      <td>False</td>\n      <td>failed</td>\n      <td>2017-03-13 17:22:56</td>\n      <td>1.216066</td>\n      <td>165.384934</td>\n      <td>0.016500</td>\n    </tr>\n    <tr>\n      <th>4</th>\n      <td>3</td>\n      <td>Livng with a brain impairment, what its like t...</td>\n      <td>2820</td>\n      <td>US</td>\n      <td>2012-12-06 18:04:31</td>\n      <td>2013-01-09 20:32:07</td>\n      <td>False</td>\n      <td>2800.0</td>\n      <td>998516049</td>\n      <td>False</td>\n      <td>2012-12-10 20:32:07</td>\n      <td>Help change the face of Brain Impairment</td>\n      <td>2820.0</td>\n      <td>True</td>\n      <td>False</td>\n      <td>successful</td>\n      <td>2013-01-09 20:32:07</td>\n      <td>1.000000</td>\n      <td>2820.000000</td>\n      <td>1.007143</td>\n    </tr>\n  </tbody>\n</table>\n</div>"
     },
     "metadata": {},
     "execution_count": 20
    }
   ],
   "source": [
    "# i reviewed all the data in stdf i think we can erase  slug, position, color and urls \n",
    "\n",
    "cols_del = [ 'category', 'creator',  'profile', 'location']\n",
    "\n",
    "frame.drop(cols_del, inplace=True, axis=1)\n",
    "frame.head()"
   ]
  },
  {
   "cell_type": "code",
   "execution_count": 21,
   "metadata": {},
   "outputs": [
    {
     "output_type": "execute_result",
     "data": {
      "text/plain": [
       "        subcategy_id       subcategory      category  category_id\n",
       "0                266          Footwear       fashion            9\n",
       "1                273     Playing Cards         games           12\n",
       "2                 43              Rock         music           14\n",
       "3                273     Playing Cards         games           12\n",
       "4                 48        Nonfiction    publishing           18\n",
       "...              ...               ...           ...          ...\n",
       "209217            34    Tabletop Games         games           12\n",
       "209218            38  Electronic Music         music           14\n",
       "209219            52          Hardware    technology           16\n",
       "209220           295         Festivals  film & video           11\n",
       "209221            13        Journalism    journalism           13\n",
       "\n",
       "[209222 rows x 4 columns]"
      ],
      "text/html": "<div>\n<style scoped>\n    .dataframe tbody tr th:only-of-type {\n        vertical-align: middle;\n    }\n\n    .dataframe tbody tr th {\n        vertical-align: top;\n    }\n\n    .dataframe thead th {\n        text-align: right;\n    }\n</style>\n<table border=\"1\" class=\"dataframe\">\n  <thead>\n    <tr style=\"text-align: right;\">\n      <th></th>\n      <th>subcategy_id</th>\n      <th>subcategory</th>\n      <th>category</th>\n      <th>category_id</th>\n    </tr>\n  </thead>\n  <tbody>\n    <tr>\n      <th>0</th>\n      <td>266</td>\n      <td>Footwear</td>\n      <td>fashion</td>\n      <td>9</td>\n    </tr>\n    <tr>\n      <th>1</th>\n      <td>273</td>\n      <td>Playing Cards</td>\n      <td>games</td>\n      <td>12</td>\n    </tr>\n    <tr>\n      <th>2</th>\n      <td>43</td>\n      <td>Rock</td>\n      <td>music</td>\n      <td>14</td>\n    </tr>\n    <tr>\n      <th>3</th>\n      <td>273</td>\n      <td>Playing Cards</td>\n      <td>games</td>\n      <td>12</td>\n    </tr>\n    <tr>\n      <th>4</th>\n      <td>48</td>\n      <td>Nonfiction</td>\n      <td>publishing</td>\n      <td>18</td>\n    </tr>\n    <tr>\n      <th>...</th>\n      <td>...</td>\n      <td>...</td>\n      <td>...</td>\n      <td>...</td>\n    </tr>\n    <tr>\n      <th>209217</th>\n      <td>34</td>\n      <td>Tabletop Games</td>\n      <td>games</td>\n      <td>12</td>\n    </tr>\n    <tr>\n      <th>209218</th>\n      <td>38</td>\n      <td>Electronic Music</td>\n      <td>music</td>\n      <td>14</td>\n    </tr>\n    <tr>\n      <th>209219</th>\n      <td>52</td>\n      <td>Hardware</td>\n      <td>technology</td>\n      <td>16</td>\n    </tr>\n    <tr>\n      <th>209220</th>\n      <td>295</td>\n      <td>Festivals</td>\n      <td>film &amp; video</td>\n      <td>11</td>\n    </tr>\n    <tr>\n      <th>209221</th>\n      <td>13</td>\n      <td>Journalism</td>\n      <td>journalism</td>\n      <td>13</td>\n    </tr>\n  </tbody>\n</table>\n<p>209222 rows × 4 columns</p>\n</div>"
     },
     "metadata": {},
     "execution_count": 21
    }
   ],
   "source": [
    "stdf= stdf.rename(columns={'id': 'subcategy_id', 'name': 'subcategory', 'slug': 'category', 'parent_id' :'category_id'})\n",
    "stdf"
   ]
  },
  {
   "cell_type": "code",
   "execution_count": 22,
   "metadata": {},
   "outputs": [],
   "source": [
    "frame=pd.concat([frame, stdf], axis=1) "
   ]
  },
  {
   "cell_type": "code",
   "execution_count": 23,
   "metadata": {},
   "outputs": [
    {
     "output_type": "execute_result",
     "data": {
      "text/plain": [
       "array(['live', 'successful', 'failed', 'canceled', 'suspended'],\n",
       "      dtype=object)"
      ]
     },
     "metadata": {},
     "execution_count": 23
    }
   ],
   "source": [
    "frame.state.unique()"
   ]
  },
  {
   "cell_type": "code",
   "execution_count": 24,
   "metadata": {},
   "outputs": [],
   "source": [
    "#frame= frame.drop([('state' == 'canceled')])\n",
    "frame= frame.drop(frame[(frame.state == 'canceled')].index)\n",
    "frame= frame.drop(frame[(frame.state == 'suspended')].index)"
   ]
  },
  {
   "cell_type": "code",
   "execution_count": 25,
   "metadata": {},
   "outputs": [
    {
     "output_type": "execute_result",
     "data": {
      "text/plain": [
       "array(['live', 'successful', 'failed'], dtype=object)"
      ]
     },
     "metadata": {},
     "execution_count": 25
    }
   ],
   "source": [
    "frame.state.unique()"
   ]
  },
  {
   "cell_type": "code",
   "execution_count": 26,
   "metadata": {},
   "outputs": [
    {
     "output_type": "execute_result",
     "data": {
      "text/plain": [
       "        backers_count                                              blurb  \\\n",
       "203736             68  The BEST beef sticks, beef jerky and signature...   \n",
       "68551             338  4tec is a classic 4 in a row table top game, r...   \n",
       "162965             52  Professional graphic designers need profession...   \n",
       "171660            226  Conclave: The Papal Election LARP. You play as...   \n",
       "89589              28  Audiobook of short stories about Italian cooki...   \n",
       "...               ...                                                ...   \n",
       "137762             46  Just in time for grilling season.  An \"all pur...   \n",
       "102009              2  NudeART Book and Fineart Print for You. \\nWith...   \n",
       "201817              7  This is a project, which aims to save lives of...   \n",
       "144573             56  With your support, Movema can relocate to offi...   \n",
       "159940            709  Over 6,000 thoughtfully designed icons that ar...   \n",
       "\n",
       "        converted_pledged_amount country          created_at  \\\n",
       "203736                      3239      US 2016-05-15 18:58:21   \n",
       "68551                      15368      IE 2018-07-05 10:46:58   \n",
       "162965                      2985      US 2018-04-05 19:35:16   \n",
       "171660                      5637      US 2018-06-26 16:37:11   \n",
       "89589                       1025      US 2018-11-27 14:58:18   \n",
       "...                          ...     ...                 ...   \n",
       "137762                      1642      US 2017-06-15 13:11:35   \n",
       "102009                       241      DE 2015-07-30 16:01:10   \n",
       "201817                       252      GB 2016-03-21 18:09:51   \n",
       "144573                      4793      GB 2016-04-05 11:34:55   \n",
       "159940                     70751      US 2017-06-01 12:43:16   \n",
       "\n",
       "                  deadline  disable_communication     goal          id  \\\n",
       "203736 2016-06-30 22:34:18                  False   2500.0       39036   \n",
       "68551  2018-10-10 06:48:50                  False   5000.0       39235   \n",
       "162965 2018-06-01 18:22:31                  False   1250.0       50419   \n",
       "171660 2019-03-14 11:00:06                  False   2500.0       66579   \n",
       "89589  2019-02-03 16:50:44                  False   1000.0      188790   \n",
       "...                    ...                    ...      ...         ...   \n",
       "137762 2017-06-30 18:19:18                  False   1000.0  2147144291   \n",
       "102009 2015-08-29 17:02:41                  False    159.0  2147180546   \n",
       "201817 2016-06-01 00:35:29                  False  18500.0  2147283151   \n",
       "144573 2016-05-12 12:23:32                  False   3000.0  2147339483   \n",
       "159940 2017-08-18 18:00:00                  False  12000.0  2147345648   \n",
       "\n",
       "        is_starrable         launched_at  \\\n",
       "203736         False 2016-05-16 22:34:18   \n",
       "68551          False 2018-09-10 06:48:50   \n",
       "162965         False 2018-05-02 18:22:31   \n",
       "171660         False 2019-02-12 12:00:06   \n",
       "89589          False 2018-12-05 16:50:44   \n",
       "...              ...                 ...   \n",
       "137762         False 2017-06-15 18:19:18   \n",
       "102009         False 2015-07-30 17:02:41   \n",
       "201817         False 2016-04-02 00:35:29   \n",
       "144573         False 2016-04-12 12:23:32   \n",
       "159940         False 2017-07-26 13:13:04   \n",
       "\n",
       "                                                     name  pledged  spotlight  \\\n",
       "203736                          The Meat Candy Experience   3239.0       True   \n",
       "68551                       4tec: a New 3D Connect 4 Game  13352.0       True   \n",
       "162965     Graphic design tools for award-winning designs   2985.0       True   \n",
       "171660                                           Conclave   5637.0      False   \n",
       "89589                            Stories of Food and Life   1025.0       True   \n",
       "...                                                   ...      ...        ...   \n",
       "137762                               Jubilee Espresso Rub   1642.0       True   \n",
       "102009         NudeART - Hardcover Book and FineART Print    216.0       True   \n",
       "201817                The Call - a voice to the voiceless    172.0      False   \n",
       "144573                                Movema Dance Studio   3320.0       True   \n",
       "159940  Symbolicons Pro: Your friendly, versatile, go-...  70751.0       True   \n",
       "\n",
       "        staff_pick       state    state_changed_at  static_usd_rate  \\\n",
       "203736       False  successful 2016-06-30 22:34:18         1.000000   \n",
       "68551        False  successful 2018-10-10 06:48:51         1.156384   \n",
       "162965       False  successful 2018-06-01 18:22:31         1.000000   \n",
       "171660        True        live 2019-02-12 12:00:06         1.000000   \n",
       "89589        False  successful 2019-02-03 16:50:45         1.000000   \n",
       "...            ...         ...                 ...              ...   \n",
       "137762       False  successful 2017-06-30 18:19:19         1.000000   \n",
       "102009       False  successful 2015-08-29 17:02:41         1.107912   \n",
       "201817       False      failed 2016-06-01 00:35:29         1.434691   \n",
       "144573       False  successful 2016-05-12 12:23:32         1.412765   \n",
       "159940       False  successful 2017-08-18 18:00:00         1.000000   \n",
       "\n",
       "         usd_pledged  ratio_target  subcategy_id     subcategory     category  \\\n",
       "203736   3239.000000      1.295600           313     Small Batch         food   \n",
       "68551   15440.032893      3.073600            34  Tabletop Games        games   \n",
       "162965   2985.000000      2.388000            27  Graphic Design       design   \n",
       "171660   5637.000000      2.254800            34  Tabletop Games        games   \n",
       "89589    1025.000000      1.025000            48      Nonfiction   publishing   \n",
       "...              ...           ...           ...             ...          ...   \n",
       "137762   1642.000000      1.642000           313     Small Batch         food   \n",
       "102009    239.308929      1.515723           280      Photobooks  photography   \n",
       "201817    246.766923      0.013622           358           Photo   journalism   \n",
       "144573   4690.378505      1.597667           256          Spaces        dance   \n",
       "159940  70751.000000      5.895917            51        Software   technology   \n",
       "\n",
       "        category_id  \n",
       "203736           10  \n",
       "68551            12  \n",
       "162965            7  \n",
       "171660           12  \n",
       "89589            18  \n",
       "...             ...  \n",
       "137762           10  \n",
       "102009           15  \n",
       "201817           13  \n",
       "144573            6  \n",
       "159940           16  \n",
       "\n",
       "[26958 rows x 24 columns]"
      ],
      "text/html": "<div>\n<style scoped>\n    .dataframe tbody tr th:only-of-type {\n        vertical-align: middle;\n    }\n\n    .dataframe tbody tr th {\n        vertical-align: top;\n    }\n\n    .dataframe thead th {\n        text-align: right;\n    }\n</style>\n<table border=\"1\" class=\"dataframe\">\n  <thead>\n    <tr style=\"text-align: right;\">\n      <th></th>\n      <th>backers_count</th>\n      <th>blurb</th>\n      <th>converted_pledged_amount</th>\n      <th>country</th>\n      <th>created_at</th>\n      <th>deadline</th>\n      <th>disable_communication</th>\n      <th>goal</th>\n      <th>id</th>\n      <th>is_starrable</th>\n      <th>launched_at</th>\n      <th>name</th>\n      <th>pledged</th>\n      <th>spotlight</th>\n      <th>staff_pick</th>\n      <th>state</th>\n      <th>state_changed_at</th>\n      <th>static_usd_rate</th>\n      <th>usd_pledged</th>\n      <th>ratio_target</th>\n      <th>subcategy_id</th>\n      <th>subcategory</th>\n      <th>category</th>\n      <th>category_id</th>\n    </tr>\n  </thead>\n  <tbody>\n    <tr>\n      <th>203736</th>\n      <td>68</td>\n      <td>The BEST beef sticks, beef jerky and signature...</td>\n      <td>3239</td>\n      <td>US</td>\n      <td>2016-05-15 18:58:21</td>\n      <td>2016-06-30 22:34:18</td>\n      <td>False</td>\n      <td>2500.0</td>\n      <td>39036</td>\n      <td>False</td>\n      <td>2016-05-16 22:34:18</td>\n      <td>The Meat Candy Experience</td>\n      <td>3239.0</td>\n      <td>True</td>\n      <td>False</td>\n      <td>successful</td>\n      <td>2016-06-30 22:34:18</td>\n      <td>1.000000</td>\n      <td>3239.000000</td>\n      <td>1.295600</td>\n      <td>313</td>\n      <td>Small Batch</td>\n      <td>food</td>\n      <td>10</td>\n    </tr>\n    <tr>\n      <th>68551</th>\n      <td>338</td>\n      <td>4tec is a classic 4 in a row table top game, r...</td>\n      <td>15368</td>\n      <td>IE</td>\n      <td>2018-07-05 10:46:58</td>\n      <td>2018-10-10 06:48:50</td>\n      <td>False</td>\n      <td>5000.0</td>\n      <td>39235</td>\n      <td>False</td>\n      <td>2018-09-10 06:48:50</td>\n      <td>4tec: a New 3D Connect 4 Game</td>\n      <td>13352.0</td>\n      <td>True</td>\n      <td>False</td>\n      <td>successful</td>\n      <td>2018-10-10 06:48:51</td>\n      <td>1.156384</td>\n      <td>15440.032893</td>\n      <td>3.073600</td>\n      <td>34</td>\n      <td>Tabletop Games</td>\n      <td>games</td>\n      <td>12</td>\n    </tr>\n    <tr>\n      <th>162965</th>\n      <td>52</td>\n      <td>Professional graphic designers need profession...</td>\n      <td>2985</td>\n      <td>US</td>\n      <td>2018-04-05 19:35:16</td>\n      <td>2018-06-01 18:22:31</td>\n      <td>False</td>\n      <td>1250.0</td>\n      <td>50419</td>\n      <td>False</td>\n      <td>2018-05-02 18:22:31</td>\n      <td>Graphic design tools for award-winning designs</td>\n      <td>2985.0</td>\n      <td>True</td>\n      <td>False</td>\n      <td>successful</td>\n      <td>2018-06-01 18:22:31</td>\n      <td>1.000000</td>\n      <td>2985.000000</td>\n      <td>2.388000</td>\n      <td>27</td>\n      <td>Graphic Design</td>\n      <td>design</td>\n      <td>7</td>\n    </tr>\n    <tr>\n      <th>171660</th>\n      <td>226</td>\n      <td>Conclave: The Papal Election LARP. You play as...</td>\n      <td>5637</td>\n      <td>US</td>\n      <td>2018-06-26 16:37:11</td>\n      <td>2019-03-14 11:00:06</td>\n      <td>False</td>\n      <td>2500.0</td>\n      <td>66579</td>\n      <td>False</td>\n      <td>2019-02-12 12:00:06</td>\n      <td>Conclave</td>\n      <td>5637.0</td>\n      <td>False</td>\n      <td>True</td>\n      <td>live</td>\n      <td>2019-02-12 12:00:06</td>\n      <td>1.000000</td>\n      <td>5637.000000</td>\n      <td>2.254800</td>\n      <td>34</td>\n      <td>Tabletop Games</td>\n      <td>games</td>\n      <td>12</td>\n    </tr>\n    <tr>\n      <th>89589</th>\n      <td>28</td>\n      <td>Audiobook of short stories about Italian cooki...</td>\n      <td>1025</td>\n      <td>US</td>\n      <td>2018-11-27 14:58:18</td>\n      <td>2019-02-03 16:50:44</td>\n      <td>False</td>\n      <td>1000.0</td>\n      <td>188790</td>\n      <td>False</td>\n      <td>2018-12-05 16:50:44</td>\n      <td>Stories of Food and Life</td>\n      <td>1025.0</td>\n      <td>True</td>\n      <td>False</td>\n      <td>successful</td>\n      <td>2019-02-03 16:50:45</td>\n      <td>1.000000</td>\n      <td>1025.000000</td>\n      <td>1.025000</td>\n      <td>48</td>\n      <td>Nonfiction</td>\n      <td>publishing</td>\n      <td>18</td>\n    </tr>\n    <tr>\n      <th>...</th>\n      <td>...</td>\n      <td>...</td>\n      <td>...</td>\n      <td>...</td>\n      <td>...</td>\n      <td>...</td>\n      <td>...</td>\n      <td>...</td>\n      <td>...</td>\n      <td>...</td>\n      <td>...</td>\n      <td>...</td>\n      <td>...</td>\n      <td>...</td>\n      <td>...</td>\n      <td>...</td>\n      <td>...</td>\n      <td>...</td>\n      <td>...</td>\n      <td>...</td>\n      <td>...</td>\n      <td>...</td>\n      <td>...</td>\n      <td>...</td>\n    </tr>\n    <tr>\n      <th>137762</th>\n      <td>46</td>\n      <td>Just in time for grilling season.  An \"all pur...</td>\n      <td>1642</td>\n      <td>US</td>\n      <td>2017-06-15 13:11:35</td>\n      <td>2017-06-30 18:19:18</td>\n      <td>False</td>\n      <td>1000.0</td>\n      <td>2147144291</td>\n      <td>False</td>\n      <td>2017-06-15 18:19:18</td>\n      <td>Jubilee Espresso Rub</td>\n      <td>1642.0</td>\n      <td>True</td>\n      <td>False</td>\n      <td>successful</td>\n      <td>2017-06-30 18:19:19</td>\n      <td>1.000000</td>\n      <td>1642.000000</td>\n      <td>1.642000</td>\n      <td>313</td>\n      <td>Small Batch</td>\n      <td>food</td>\n      <td>10</td>\n    </tr>\n    <tr>\n      <th>102009</th>\n      <td>2</td>\n      <td>NudeART Book and Fineart Print for You. \\nWith...</td>\n      <td>241</td>\n      <td>DE</td>\n      <td>2015-07-30 16:01:10</td>\n      <td>2015-08-29 17:02:41</td>\n      <td>False</td>\n      <td>159.0</td>\n      <td>2147180546</td>\n      <td>False</td>\n      <td>2015-07-30 17:02:41</td>\n      <td>NudeART - Hardcover Book and FineART Print</td>\n      <td>216.0</td>\n      <td>True</td>\n      <td>False</td>\n      <td>successful</td>\n      <td>2015-08-29 17:02:41</td>\n      <td>1.107912</td>\n      <td>239.308929</td>\n      <td>1.515723</td>\n      <td>280</td>\n      <td>Photobooks</td>\n      <td>photography</td>\n      <td>15</td>\n    </tr>\n    <tr>\n      <th>201817</th>\n      <td>7</td>\n      <td>This is a project, which aims to save lives of...</td>\n      <td>252</td>\n      <td>GB</td>\n      <td>2016-03-21 18:09:51</td>\n      <td>2016-06-01 00:35:29</td>\n      <td>False</td>\n      <td>18500.0</td>\n      <td>2147283151</td>\n      <td>False</td>\n      <td>2016-04-02 00:35:29</td>\n      <td>The Call - a voice to the voiceless</td>\n      <td>172.0</td>\n      <td>False</td>\n      <td>False</td>\n      <td>failed</td>\n      <td>2016-06-01 00:35:29</td>\n      <td>1.434691</td>\n      <td>246.766923</td>\n      <td>0.013622</td>\n      <td>358</td>\n      <td>Photo</td>\n      <td>journalism</td>\n      <td>13</td>\n    </tr>\n    <tr>\n      <th>144573</th>\n      <td>56</td>\n      <td>With your support, Movema can relocate to offi...</td>\n      <td>4793</td>\n      <td>GB</td>\n      <td>2016-04-05 11:34:55</td>\n      <td>2016-05-12 12:23:32</td>\n      <td>False</td>\n      <td>3000.0</td>\n      <td>2147339483</td>\n      <td>False</td>\n      <td>2016-04-12 12:23:32</td>\n      <td>Movema Dance Studio</td>\n      <td>3320.0</td>\n      <td>True</td>\n      <td>False</td>\n      <td>successful</td>\n      <td>2016-05-12 12:23:32</td>\n      <td>1.412765</td>\n      <td>4690.378505</td>\n      <td>1.597667</td>\n      <td>256</td>\n      <td>Spaces</td>\n      <td>dance</td>\n      <td>6</td>\n    </tr>\n    <tr>\n      <th>159940</th>\n      <td>709</td>\n      <td>Over 6,000 thoughtfully designed icons that ar...</td>\n      <td>70751</td>\n      <td>US</td>\n      <td>2017-06-01 12:43:16</td>\n      <td>2017-08-18 18:00:00</td>\n      <td>False</td>\n      <td>12000.0</td>\n      <td>2147345648</td>\n      <td>False</td>\n      <td>2017-07-26 13:13:04</td>\n      <td>Symbolicons Pro: Your friendly, versatile, go-...</td>\n      <td>70751.0</td>\n      <td>True</td>\n      <td>False</td>\n      <td>successful</td>\n      <td>2017-08-18 18:00:00</td>\n      <td>1.000000</td>\n      <td>70751.000000</td>\n      <td>5.895917</td>\n      <td>51</td>\n      <td>Software</td>\n      <td>technology</td>\n      <td>16</td>\n    </tr>\n  </tbody>\n</table>\n<p>26958 rows × 24 columns</p>\n</div>"
     },
     "metadata": {},
     "execution_count": 26
    }
   ],
   "source": [
    "duplicates = frame[frame.duplicated(subset='id')]\n",
    "duplicates.sort_values(by=['id'])\n"
   ]
  },
  {
   "cell_type": "code",
   "execution_count": 27,
   "metadata": {},
   "outputs": [
    {
     "output_type": "execute_result",
     "data": {
      "text/plain": [
       "        backers_count                                              blurb  \\\n",
       "0                 315                                      Babalus Shoes   \n",
       "1                  47  A colorful Dia de los Muertos themed oracle de...   \n",
       "2                 271  Electra's long awaited, eclectic Debut Pop/Roc...   \n",
       "3                   3  The Mist of Tribunal is a turn-based card game...   \n",
       "4                   3  Livng with a brain impairment, what its like t...   \n",
       "...               ...                                                ...   \n",
       "209216            108  *PRE-SALES* for Our first Full-Length Album- c...   \n",
       "209218             72  Soul, hip-hop and sexy falsettos with an opera...   \n",
       "209219             62  What started as a homemade gift has turned int...   \n",
       "209220             76  Seattle Transmedia & Independent Film Festival...   \n",
       "209221             44  The @1000TimesYes 2009 Tweet Box is a handmade...   \n",
       "\n",
       "        converted_pledged_amount country          created_at  \\\n",
       "0                          28645      US 2018-11-05 23:06:45   \n",
       "1                           1950      US 2017-08-02 14:28:13   \n",
       "2                          22404      US 2012-09-30 06:45:33   \n",
       "3                            165      GB 2017-01-07 09:11:11   \n",
       "4                           2820      US 2012-12-06 18:04:31   \n",
       "...                          ...     ...                 ...   \n",
       "209216                      4078      US 2014-07-17 19:33:05   \n",
       "209218                      5710      NL 2017-04-24 13:46:12   \n",
       "209219                      2681      US 2012-07-03 19:29:55   \n",
       "209220                      5692      US 2015-03-02 00:42:37   \n",
       "209221                      1293      US 2010-01-11 16:05:00   \n",
       "\n",
       "                  deadline  disable_communication     goal          id  \\\n",
       "0      2019-03-14 05:02:55                  False  28000.0  2108505034   \n",
       "1      2017-09-09 17:00:59                  False   1000.0   928751314   \n",
       "2      2013-06-12 05:03:15                  False  15000.0   928014092   \n",
       "3      2017-03-13 17:22:56                  False  10000.0   596091328   \n",
       "4      2013-01-09 20:32:07                  False   2800.0   998516049   \n",
       "...                    ...                    ...      ...         ...   \n",
       "209216 2014-10-01 23:44:00                  False   3883.0   672518235   \n",
       "209218 2017-06-19 22:00:00                  False   5000.0     4607750   \n",
       "209219 2012-09-17 03:59:00                  False   2500.0    67097337   \n",
       "209220 2015-04-20 13:26:15                  False   5500.0  1031742546   \n",
       "209221 2010-02-22 04:59:00                  False   1000.0  1374988684   \n",
       "\n",
       "        is_starrable         launched_at  \\\n",
       "0              False 2019-01-23 06:02:55   \n",
       "1              False 2017-08-10 17:00:59   \n",
       "2              False 2013-05-13 05:03:15   \n",
       "3              False 2017-01-12 18:22:56   \n",
       "4              False 2012-12-10 20:32:07   \n",
       "...              ...                 ...   \n",
       "209216         False 2014-08-04 17:29:16   \n",
       "209218         False 2017-05-14 17:21:54   \n",
       "209219         False 2012-08-14 20:36:30   \n",
       "209220         False 2015-03-21 13:26:15   \n",
       "209221         False 2010-01-21 18:46:33   \n",
       "\n",
       "                                                     name   pledged  \\\n",
       "0                                Babalus Children's Shoes  28645.00   \n",
       "1                                 The Ofrenda Oracle Deck   1950.00   \n",
       "2       Record Electra's Debut Album (Pop, Rock, Class...  22404.00   \n",
       "3                      The Mist of Tribunal - A Card Game    136.00   \n",
       "4                Help change the face of Brain Impairment   2820.00   \n",
       "...                                                   ...       ...   \n",
       "209216  It Springs to Life...\"Pellucidity\" YAIMA's Fir...   4078.22   \n",
       "209218                               ARIA LESTER Debut EP   5100.00   \n",
       "209219  FlashPals: Cuddly USB Drives Save More Than Yo...   2681.00   \n",
       "209220                Transmedia Gallery Space STIFF 2015   5692.00   \n",
       "209221                   The @1000TimesYes 2009 Tweet Box   1293.00   \n",
       "\n",
       "        spotlight  staff_pick       state    state_changed_at  \\\n",
       "0           False       False        live 2019-01-23 06:02:55   \n",
       "1            True       False  successful 2017-09-09 17:00:59   \n",
       "2            True       False  successful 2013-06-12 05:03:15   \n",
       "3           False       False      failed 2017-03-13 17:22:56   \n",
       "4            True       False  successful 2013-01-09 20:32:07   \n",
       "...           ...         ...         ...                 ...   \n",
       "209216       True       False  successful 2014-10-01 23:44:00   \n",
       "209218       True       False  successful 2017-06-19 22:00:00   \n",
       "209219       True       False  successful 2012-09-17 03:59:01   \n",
       "209220       True       False  successful 2015-04-20 13:26:19   \n",
       "209221       True        True  successful 2010-02-22 05:00:15   \n",
       "\n",
       "        static_usd_rate   usd_pledged  ratio_target  subcategy_id  \\\n",
       "0              1.000000  28645.000000      1.023036           266   \n",
       "1              1.000000   1950.000000      1.950000           273   \n",
       "2              1.000000  22404.000000      1.493600            43   \n",
       "3              1.216066    165.384934      0.016500           273   \n",
       "4              1.000000   2820.000000      1.007143            48   \n",
       "...                 ...           ...           ...           ...   \n",
       "209216         1.000000   4078.220000      1.050219            38   \n",
       "209218         1.093300   5575.830204      1.142000            38   \n",
       "209219         1.000000   2681.000000      1.072400            52   \n",
       "209220         1.000000   5692.000000      1.034909           295   \n",
       "209221         1.000000   1293.000000      1.293000            13   \n",
       "\n",
       "             subcategory      category  category_id  \n",
       "0               Footwear       fashion            9  \n",
       "1          Playing Cards         games           12  \n",
       "2                   Rock         music           14  \n",
       "3          Playing Cards         games           12  \n",
       "4             Nonfiction    publishing           18  \n",
       "...                  ...           ...          ...  \n",
       "209216  Electronic Music         music           14  \n",
       "209218  Electronic Music         music           14  \n",
       "209219          Hardware    technology           16  \n",
       "209220         Festivals  film & video           11  \n",
       "209221        Journalism    journalism           13  \n",
       "\n",
       "[173017 rows x 24 columns]"
      ],
      "text/html": "<div>\n<style scoped>\n    .dataframe tbody tr th:only-of-type {\n        vertical-align: middle;\n    }\n\n    .dataframe tbody tr th {\n        vertical-align: top;\n    }\n\n    .dataframe thead th {\n        text-align: right;\n    }\n</style>\n<table border=\"1\" class=\"dataframe\">\n  <thead>\n    <tr style=\"text-align: right;\">\n      <th></th>\n      <th>backers_count</th>\n      <th>blurb</th>\n      <th>converted_pledged_amount</th>\n      <th>country</th>\n      <th>created_at</th>\n      <th>deadline</th>\n      <th>disable_communication</th>\n      <th>goal</th>\n      <th>id</th>\n      <th>is_starrable</th>\n      <th>launched_at</th>\n      <th>name</th>\n      <th>pledged</th>\n      <th>spotlight</th>\n      <th>staff_pick</th>\n      <th>state</th>\n      <th>state_changed_at</th>\n      <th>static_usd_rate</th>\n      <th>usd_pledged</th>\n      <th>ratio_target</th>\n      <th>subcategy_id</th>\n      <th>subcategory</th>\n      <th>category</th>\n      <th>category_id</th>\n    </tr>\n  </thead>\n  <tbody>\n    <tr>\n      <th>0</th>\n      <td>315</td>\n      <td>Babalus Shoes</td>\n      <td>28645</td>\n      <td>US</td>\n      <td>2018-11-05 23:06:45</td>\n      <td>2019-03-14 05:02:55</td>\n      <td>False</td>\n      <td>28000.0</td>\n      <td>2108505034</td>\n      <td>False</td>\n      <td>2019-01-23 06:02:55</td>\n      <td>Babalus Children's Shoes</td>\n      <td>28645.00</td>\n      <td>False</td>\n      <td>False</td>\n      <td>live</td>\n      <td>2019-01-23 06:02:55</td>\n      <td>1.000000</td>\n      <td>28645.000000</td>\n      <td>1.023036</td>\n      <td>266</td>\n      <td>Footwear</td>\n      <td>fashion</td>\n      <td>9</td>\n    </tr>\n    <tr>\n      <th>1</th>\n      <td>47</td>\n      <td>A colorful Dia de los Muertos themed oracle de...</td>\n      <td>1950</td>\n      <td>US</td>\n      <td>2017-08-02 14:28:13</td>\n      <td>2017-09-09 17:00:59</td>\n      <td>False</td>\n      <td>1000.0</td>\n      <td>928751314</td>\n      <td>False</td>\n      <td>2017-08-10 17:00:59</td>\n      <td>The Ofrenda Oracle Deck</td>\n      <td>1950.00</td>\n      <td>True</td>\n      <td>False</td>\n      <td>successful</td>\n      <td>2017-09-09 17:00:59</td>\n      <td>1.000000</td>\n      <td>1950.000000</td>\n      <td>1.950000</td>\n      <td>273</td>\n      <td>Playing Cards</td>\n      <td>games</td>\n      <td>12</td>\n    </tr>\n    <tr>\n      <th>2</th>\n      <td>271</td>\n      <td>Electra's long awaited, eclectic Debut Pop/Roc...</td>\n      <td>22404</td>\n      <td>US</td>\n      <td>2012-09-30 06:45:33</td>\n      <td>2013-06-12 05:03:15</td>\n      <td>False</td>\n      <td>15000.0</td>\n      <td>928014092</td>\n      <td>False</td>\n      <td>2013-05-13 05:03:15</td>\n      <td>Record Electra's Debut Album (Pop, Rock, Class...</td>\n      <td>22404.00</td>\n      <td>True</td>\n      <td>False</td>\n      <td>successful</td>\n      <td>2013-06-12 05:03:15</td>\n      <td>1.000000</td>\n      <td>22404.000000</td>\n      <td>1.493600</td>\n      <td>43</td>\n      <td>Rock</td>\n      <td>music</td>\n      <td>14</td>\n    </tr>\n    <tr>\n      <th>3</th>\n      <td>3</td>\n      <td>The Mist of Tribunal is a turn-based card game...</td>\n      <td>165</td>\n      <td>GB</td>\n      <td>2017-01-07 09:11:11</td>\n      <td>2017-03-13 17:22:56</td>\n      <td>False</td>\n      <td>10000.0</td>\n      <td>596091328</td>\n      <td>False</td>\n      <td>2017-01-12 18:22:56</td>\n      <td>The Mist of Tribunal - A Card Game</td>\n      <td>136.00</td>\n      <td>False</td>\n      <td>False</td>\n      <td>failed</td>\n      <td>2017-03-13 17:22:56</td>\n      <td>1.216066</td>\n      <td>165.384934</td>\n      <td>0.016500</td>\n      <td>273</td>\n      <td>Playing Cards</td>\n      <td>games</td>\n      <td>12</td>\n    </tr>\n    <tr>\n      <th>4</th>\n      <td>3</td>\n      <td>Livng with a brain impairment, what its like t...</td>\n      <td>2820</td>\n      <td>US</td>\n      <td>2012-12-06 18:04:31</td>\n      <td>2013-01-09 20:32:07</td>\n      <td>False</td>\n      <td>2800.0</td>\n      <td>998516049</td>\n      <td>False</td>\n      <td>2012-12-10 20:32:07</td>\n      <td>Help change the face of Brain Impairment</td>\n      <td>2820.00</td>\n      <td>True</td>\n      <td>False</td>\n      <td>successful</td>\n      <td>2013-01-09 20:32:07</td>\n      <td>1.000000</td>\n      <td>2820.000000</td>\n      <td>1.007143</td>\n      <td>48</td>\n      <td>Nonfiction</td>\n      <td>publishing</td>\n      <td>18</td>\n    </tr>\n    <tr>\n      <th>...</th>\n      <td>...</td>\n      <td>...</td>\n      <td>...</td>\n      <td>...</td>\n      <td>...</td>\n      <td>...</td>\n      <td>...</td>\n      <td>...</td>\n      <td>...</td>\n      <td>...</td>\n      <td>...</td>\n      <td>...</td>\n      <td>...</td>\n      <td>...</td>\n      <td>...</td>\n      <td>...</td>\n      <td>...</td>\n      <td>...</td>\n      <td>...</td>\n      <td>...</td>\n      <td>...</td>\n      <td>...</td>\n      <td>...</td>\n      <td>...</td>\n    </tr>\n    <tr>\n      <th>209216</th>\n      <td>108</td>\n      <td>*PRE-SALES* for Our first Full-Length Album- c...</td>\n      <td>4078</td>\n      <td>US</td>\n      <td>2014-07-17 19:33:05</td>\n      <td>2014-10-01 23:44:00</td>\n      <td>False</td>\n      <td>3883.0</td>\n      <td>672518235</td>\n      <td>False</td>\n      <td>2014-08-04 17:29:16</td>\n      <td>It Springs to Life...\"Pellucidity\" YAIMA's Fir...</td>\n      <td>4078.22</td>\n      <td>True</td>\n      <td>False</td>\n      <td>successful</td>\n      <td>2014-10-01 23:44:00</td>\n      <td>1.000000</td>\n      <td>4078.220000</td>\n      <td>1.050219</td>\n      <td>38</td>\n      <td>Electronic Music</td>\n      <td>music</td>\n      <td>14</td>\n    </tr>\n    <tr>\n      <th>209218</th>\n      <td>72</td>\n      <td>Soul, hip-hop and sexy falsettos with an opera...</td>\n      <td>5710</td>\n      <td>NL</td>\n      <td>2017-04-24 13:46:12</td>\n      <td>2017-06-19 22:00:00</td>\n      <td>False</td>\n      <td>5000.0</td>\n      <td>4607750</td>\n      <td>False</td>\n      <td>2017-05-14 17:21:54</td>\n      <td>ARIA LESTER Debut EP</td>\n      <td>5100.00</td>\n      <td>True</td>\n      <td>False</td>\n      <td>successful</td>\n      <td>2017-06-19 22:00:00</td>\n      <td>1.093300</td>\n      <td>5575.830204</td>\n      <td>1.142000</td>\n      <td>38</td>\n      <td>Electronic Music</td>\n      <td>music</td>\n      <td>14</td>\n    </tr>\n    <tr>\n      <th>209219</th>\n      <td>62</td>\n      <td>What started as a homemade gift has turned int...</td>\n      <td>2681</td>\n      <td>US</td>\n      <td>2012-07-03 19:29:55</td>\n      <td>2012-09-17 03:59:00</td>\n      <td>False</td>\n      <td>2500.0</td>\n      <td>67097337</td>\n      <td>False</td>\n      <td>2012-08-14 20:36:30</td>\n      <td>FlashPals: Cuddly USB Drives Save More Than Yo...</td>\n      <td>2681.00</td>\n      <td>True</td>\n      <td>False</td>\n      <td>successful</td>\n      <td>2012-09-17 03:59:01</td>\n      <td>1.000000</td>\n      <td>2681.000000</td>\n      <td>1.072400</td>\n      <td>52</td>\n      <td>Hardware</td>\n      <td>technology</td>\n      <td>16</td>\n    </tr>\n    <tr>\n      <th>209220</th>\n      <td>76</td>\n      <td>Seattle Transmedia &amp; Independent Film Festival...</td>\n      <td>5692</td>\n      <td>US</td>\n      <td>2015-03-02 00:42:37</td>\n      <td>2015-04-20 13:26:15</td>\n      <td>False</td>\n      <td>5500.0</td>\n      <td>1031742546</td>\n      <td>False</td>\n      <td>2015-03-21 13:26:15</td>\n      <td>Transmedia Gallery Space STIFF 2015</td>\n      <td>5692.00</td>\n      <td>True</td>\n      <td>False</td>\n      <td>successful</td>\n      <td>2015-04-20 13:26:19</td>\n      <td>1.000000</td>\n      <td>5692.000000</td>\n      <td>1.034909</td>\n      <td>295</td>\n      <td>Festivals</td>\n      <td>film &amp; video</td>\n      <td>11</td>\n    </tr>\n    <tr>\n      <th>209221</th>\n      <td>44</td>\n      <td>The @1000TimesYes 2009 Tweet Box is a handmade...</td>\n      <td>1293</td>\n      <td>US</td>\n      <td>2010-01-11 16:05:00</td>\n      <td>2010-02-22 04:59:00</td>\n      <td>False</td>\n      <td>1000.0</td>\n      <td>1374988684</td>\n      <td>False</td>\n      <td>2010-01-21 18:46:33</td>\n      <td>The @1000TimesYes 2009 Tweet Box</td>\n      <td>1293.00</td>\n      <td>True</td>\n      <td>True</td>\n      <td>successful</td>\n      <td>2010-02-22 05:00:15</td>\n      <td>1.000000</td>\n      <td>1293.000000</td>\n      <td>1.293000</td>\n      <td>13</td>\n      <td>Journalism</td>\n      <td>journalism</td>\n      <td>13</td>\n    </tr>\n  </tbody>\n</table>\n<p>173017 rows × 24 columns</p>\n</div>"
     },
     "metadata": {},
     "execution_count": 27
    }
   ],
   "source": [
    "frame= frame.drop_duplicates(subset='id')\n",
    "frame"
   ]
  },
  {
   "source": [
    "## Hypothesis\n",
    "### 1.Creators who have open communication are more likely to achieve the goal \n",
    "### 2.Creators who are open to get rated are more likely to achieve the goal\n",
    "### 3.Creators who have bigger deadlines are more likely to achieve the goal \n",
    "### 4.Projects with not so high goals are more likely to achieve it\n",
    "### 5.Creators who launched in a specific month are more likely to achieve the goal \n",
    "### 6.Creators who launched in a specific day (weekday) are more likely to achieve the goal \n",
    "### 9.Creators who made their spotlight page are more likely to achieve the goal \n",
    "### 10.Projects that get featured by kickstarter are more likely to achieve the goal \n",
    "### 11.Projects should be from a specific country to achieve the goal\n",
    "### 12.Projects that are from games, technology and publishing are more likely to achieve the goal \n",
    "### 13.Projects that which have a subcategory are more likely to achieve the goal \n",
    "\n",
    "\n",
    "\n",
    "\n",
    "\n"
   ],
   "cell_type": "markdown",
   "metadata": {}
  },
  {
   "cell_type": "code",
   "execution_count": 28,
   "metadata": {},
   "outputs": [
    {
     "output_type": "stream",
     "name": "stdout",
     "text": [
      "<class 'pandas.core.frame.DataFrame'>\nInt64Index: 173017 entries, 0 to 209221\nData columns (total 26 columns):\n #   Column                    Non-Null Count   Dtype         \n---  ------                    --------------   -----         \n 0   backers_count             173017 non-null  int64         \n 1   blurb                     173015 non-null  object        \n 2   converted_pledged_amount  173017 non-null  int64         \n 3   country                   173017 non-null  object        \n 4   created_at                173017 non-null  datetime64[ns]\n 5   deadline                  173017 non-null  datetime64[ns]\n 6   disable_communication     173017 non-null  bool          \n 7   goal                      173017 non-null  float64       \n 8   id                        173017 non-null  int64         \n 9   is_starrable              173017 non-null  bool          \n 10  launched_at               173017 non-null  datetime64[ns]\n 11  name                      173017 non-null  object        \n 12  pledged                   173017 non-null  float64       \n 13  spotlight                 173017 non-null  bool          \n 14  staff_pick                173017 non-null  bool          \n 15  state                     173017 non-null  object        \n 16  state_changed_at          173017 non-null  datetime64[ns]\n 17  static_usd_rate           173017 non-null  float64       \n 18  usd_pledged               173017 non-null  float64       \n 19  ratio_target              173017 non-null  float64       \n 20  subcategy_id              173017 non-null  int64         \n 21  subcategory               173017 non-null  object        \n 22  category                  173017 non-null  object        \n 23  category_id               173017 non-null  int64         \n 24  month_project             173017 non-null  int64         \n 25  weekday                   173017 non-null  int64         \ndtypes: bool(4), datetime64[ns](4), float64(5), int64(7), object(6)\nmemory usage: 31.0+ MB\n"
     ]
    }
   ],
   "source": [
    "frame['month_project'] = pd.DatetimeIndex(frame['launched_at']).month\n",
    "frame['weekday'] = frame['launched_at'].dt.dayofweek\n",
    "frame.info()"
   ]
  },
  {
   "cell_type": "code",
   "execution_count": 29,
   "metadata": {},
   "outputs": [],
   "source": [
    "frame['duration'] = (frame['deadline']- frame['launched_at']).dt.days\n",
    "#frame['duration'] = frame['duration']"
   ]
  },
  {
   "cell_type": "code",
   "execution_count": 30,
   "metadata": {},
   "outputs": [],
   "source": [
    "frame['convert_goal'] = frame['goal']* frame['static_usd_rate']"
   ]
  },
  {
   "cell_type": "code",
   "execution_count": 31,
   "metadata": {},
   "outputs": [
    {
     "output_type": "execute_result",
     "data": {
      "text/plain": [
       "   backers_count                                              blurb  \\\n",
       "0            315                                      Babalus Shoes   \n",
       "1             47  A colorful Dia de los Muertos themed oracle de...   \n",
       "2            271  Electra's long awaited, eclectic Debut Pop/Roc...   \n",
       "3              3  The Mist of Tribunal is a turn-based card game...   \n",
       "4              3  Livng with a brain impairment, what its like t...   \n",
       "\n",
       "   converted_pledged_amount country          created_at            deadline  \\\n",
       "0                     28645      US 2018-11-05 23:06:45 2019-03-14 05:02:55   \n",
       "1                      1950      US 2017-08-02 14:28:13 2017-09-09 17:00:59   \n",
       "2                     22404      US 2012-09-30 06:45:33 2013-06-12 05:03:15   \n",
       "3                       165      GB 2017-01-07 09:11:11 2017-03-13 17:22:56   \n",
       "4                      2820      US 2012-12-06 18:04:31 2013-01-09 20:32:07   \n",
       "\n",
       "   disable_communication     goal          id  is_starrable  \\\n",
       "0                  False  28000.0  2108505034         False   \n",
       "1                  False   1000.0   928751314         False   \n",
       "2                  False  15000.0   928014092         False   \n",
       "3                  False  10000.0   596091328         False   \n",
       "4                  False   2800.0   998516049         False   \n",
       "\n",
       "          launched_at                                               name  \\\n",
       "0 2019-01-23 06:02:55                           Babalus Children's Shoes   \n",
       "1 2017-08-10 17:00:59                            The Ofrenda Oracle Deck   \n",
       "2 2013-05-13 05:03:15  Record Electra's Debut Album (Pop, Rock, Class...   \n",
       "3 2017-01-12 18:22:56                 The Mist of Tribunal - A Card Game   \n",
       "4 2012-12-10 20:32:07           Help change the face of Brain Impairment   \n",
       "\n",
       "   pledged  spotlight  staff_pick       state    state_changed_at  \\\n",
       "0  28645.0      False       False        live 2019-01-23 06:02:55   \n",
       "1   1950.0       True       False  successful 2017-09-09 17:00:59   \n",
       "2  22404.0       True       False  successful 2013-06-12 05:03:15   \n",
       "3    136.0      False       False      failed 2017-03-13 17:22:56   \n",
       "4   2820.0       True       False  successful 2013-01-09 20:32:07   \n",
       "\n",
       "   static_usd_rate   usd_pledged  ratio_target  subcategy_id    subcategory  \\\n",
       "0         1.000000  28645.000000      1.023036           266       Footwear   \n",
       "1         1.000000   1950.000000      1.950000           273  Playing Cards   \n",
       "2         1.000000  22404.000000      1.493600            43           Rock   \n",
       "3         1.216066    165.384934      0.016500           273  Playing Cards   \n",
       "4         1.000000   2820.000000      1.007143            48     Nonfiction   \n",
       "\n",
       "     category  category_id  month_project  weekday  duration  convert_goal  \n",
       "0     fashion            9              1        2        49    28000.0000  \n",
       "1       games           12              8        3        30     1000.0000  \n",
       "2       music           14              5        0        30    15000.0000  \n",
       "3       games           12              1        3        59    12160.6569  \n",
       "4  publishing           18             12        0        30     2800.0000  "
      ],
      "text/html": "<div>\n<style scoped>\n    .dataframe tbody tr th:only-of-type {\n        vertical-align: middle;\n    }\n\n    .dataframe tbody tr th {\n        vertical-align: top;\n    }\n\n    .dataframe thead th {\n        text-align: right;\n    }\n</style>\n<table border=\"1\" class=\"dataframe\">\n  <thead>\n    <tr style=\"text-align: right;\">\n      <th></th>\n      <th>backers_count</th>\n      <th>blurb</th>\n      <th>converted_pledged_amount</th>\n      <th>country</th>\n      <th>created_at</th>\n      <th>deadline</th>\n      <th>disable_communication</th>\n      <th>goal</th>\n      <th>id</th>\n      <th>is_starrable</th>\n      <th>launched_at</th>\n      <th>name</th>\n      <th>pledged</th>\n      <th>spotlight</th>\n      <th>staff_pick</th>\n      <th>state</th>\n      <th>state_changed_at</th>\n      <th>static_usd_rate</th>\n      <th>usd_pledged</th>\n      <th>ratio_target</th>\n      <th>subcategy_id</th>\n      <th>subcategory</th>\n      <th>category</th>\n      <th>category_id</th>\n      <th>month_project</th>\n      <th>weekday</th>\n      <th>duration</th>\n      <th>convert_goal</th>\n    </tr>\n  </thead>\n  <tbody>\n    <tr>\n      <th>0</th>\n      <td>315</td>\n      <td>Babalus Shoes</td>\n      <td>28645</td>\n      <td>US</td>\n      <td>2018-11-05 23:06:45</td>\n      <td>2019-03-14 05:02:55</td>\n      <td>False</td>\n      <td>28000.0</td>\n      <td>2108505034</td>\n      <td>False</td>\n      <td>2019-01-23 06:02:55</td>\n      <td>Babalus Children's Shoes</td>\n      <td>28645.0</td>\n      <td>False</td>\n      <td>False</td>\n      <td>live</td>\n      <td>2019-01-23 06:02:55</td>\n      <td>1.000000</td>\n      <td>28645.000000</td>\n      <td>1.023036</td>\n      <td>266</td>\n      <td>Footwear</td>\n      <td>fashion</td>\n      <td>9</td>\n      <td>1</td>\n      <td>2</td>\n      <td>49</td>\n      <td>28000.0000</td>\n    </tr>\n    <tr>\n      <th>1</th>\n      <td>47</td>\n      <td>A colorful Dia de los Muertos themed oracle de...</td>\n      <td>1950</td>\n      <td>US</td>\n      <td>2017-08-02 14:28:13</td>\n      <td>2017-09-09 17:00:59</td>\n      <td>False</td>\n      <td>1000.0</td>\n      <td>928751314</td>\n      <td>False</td>\n      <td>2017-08-10 17:00:59</td>\n      <td>The Ofrenda Oracle Deck</td>\n      <td>1950.0</td>\n      <td>True</td>\n      <td>False</td>\n      <td>successful</td>\n      <td>2017-09-09 17:00:59</td>\n      <td>1.000000</td>\n      <td>1950.000000</td>\n      <td>1.950000</td>\n      <td>273</td>\n      <td>Playing Cards</td>\n      <td>games</td>\n      <td>12</td>\n      <td>8</td>\n      <td>3</td>\n      <td>30</td>\n      <td>1000.0000</td>\n    </tr>\n    <tr>\n      <th>2</th>\n      <td>271</td>\n      <td>Electra's long awaited, eclectic Debut Pop/Roc...</td>\n      <td>22404</td>\n      <td>US</td>\n      <td>2012-09-30 06:45:33</td>\n      <td>2013-06-12 05:03:15</td>\n      <td>False</td>\n      <td>15000.0</td>\n      <td>928014092</td>\n      <td>False</td>\n      <td>2013-05-13 05:03:15</td>\n      <td>Record Electra's Debut Album (Pop, Rock, Class...</td>\n      <td>22404.0</td>\n      <td>True</td>\n      <td>False</td>\n      <td>successful</td>\n      <td>2013-06-12 05:03:15</td>\n      <td>1.000000</td>\n      <td>22404.000000</td>\n      <td>1.493600</td>\n      <td>43</td>\n      <td>Rock</td>\n      <td>music</td>\n      <td>14</td>\n      <td>5</td>\n      <td>0</td>\n      <td>30</td>\n      <td>15000.0000</td>\n    </tr>\n    <tr>\n      <th>3</th>\n      <td>3</td>\n      <td>The Mist of Tribunal is a turn-based card game...</td>\n      <td>165</td>\n      <td>GB</td>\n      <td>2017-01-07 09:11:11</td>\n      <td>2017-03-13 17:22:56</td>\n      <td>False</td>\n      <td>10000.0</td>\n      <td>596091328</td>\n      <td>False</td>\n      <td>2017-01-12 18:22:56</td>\n      <td>The Mist of Tribunal - A Card Game</td>\n      <td>136.0</td>\n      <td>False</td>\n      <td>False</td>\n      <td>failed</td>\n      <td>2017-03-13 17:22:56</td>\n      <td>1.216066</td>\n      <td>165.384934</td>\n      <td>0.016500</td>\n      <td>273</td>\n      <td>Playing Cards</td>\n      <td>games</td>\n      <td>12</td>\n      <td>1</td>\n      <td>3</td>\n      <td>59</td>\n      <td>12160.6569</td>\n    </tr>\n    <tr>\n      <th>4</th>\n      <td>3</td>\n      <td>Livng with a brain impairment, what its like t...</td>\n      <td>2820</td>\n      <td>US</td>\n      <td>2012-12-06 18:04:31</td>\n      <td>2013-01-09 20:32:07</td>\n      <td>False</td>\n      <td>2800.0</td>\n      <td>998516049</td>\n      <td>False</td>\n      <td>2012-12-10 20:32:07</td>\n      <td>Help change the face of Brain Impairment</td>\n      <td>2820.0</td>\n      <td>True</td>\n      <td>False</td>\n      <td>successful</td>\n      <td>2013-01-09 20:32:07</td>\n      <td>1.000000</td>\n      <td>2820.000000</td>\n      <td>1.007143</td>\n      <td>48</td>\n      <td>Nonfiction</td>\n      <td>publishing</td>\n      <td>18</td>\n      <td>12</td>\n      <td>0</td>\n      <td>30</td>\n      <td>2800.0000</td>\n    </tr>\n  </tbody>\n</table>\n</div>"
     },
     "metadata": {},
     "execution_count": 31
    }
   ],
   "source": [
    "frame.head()\n"
   ]
  },
  {
   "cell_type": "code",
   "execution_count": 32,
   "metadata": {},
   "outputs": [],
   "source": [
    "\n",
    "cols_del = ['goal', 'static_usd_rate', 'pledged', 'usd_pledged']\n",
    "\n",
    "frame.drop(cols_del, inplace=True, axis=1)"
   ]
  },
  {
   "cell_type": "code",
   "execution_count": 33,
   "metadata": {},
   "outputs": [
    {
     "output_type": "stream",
     "name": "stdout",
     "text": [
      "<class 'pandas.core.frame.DataFrame'>\nInt64Index: 173017 entries, 0 to 209221\nData columns (total 24 columns):\n #   Column                    Non-Null Count   Dtype         \n---  ------                    --------------   -----         \n 0   backers_count             173017 non-null  int64         \n 1   blurb                     173015 non-null  object        \n 2   converted_pledged_amount  173017 non-null  int64         \n 3   country                   173017 non-null  object        \n 4   created_at                173017 non-null  datetime64[ns]\n 5   deadline                  173017 non-null  datetime64[ns]\n 6   disable_communication     173017 non-null  bool          \n 7   id                        173017 non-null  int64         \n 8   is_starrable              173017 non-null  bool          \n 9   launched_at               173017 non-null  datetime64[ns]\n 10  name                      173017 non-null  object        \n 11  spotlight                 173017 non-null  bool          \n 12  staff_pick                173017 non-null  bool          \n 13  state                     173017 non-null  object        \n 14  state_changed_at          173017 non-null  datetime64[ns]\n 15  ratio_target              173017 non-null  float64       \n 16  subcategy_id              173017 non-null  int64         \n 17  subcategory               173017 non-null  object        \n 18  category                  173017 non-null  object        \n 19  category_id               173017 non-null  int64         \n 20  month_project             173017 non-null  int64         \n 21  weekday                   173017 non-null  int64         \n 22  duration                  173017 non-null  int64         \n 23  convert_goal              173017 non-null  float64       \ndtypes: bool(4), datetime64[ns](4), float64(2), int64(8), object(6)\nmemory usage: 28.4+ MB\n"
     ]
    }
   ],
   "source": [
    "frame.info()\n"
   ]
  },
  {
   "cell_type": "code",
   "execution_count": 34,
   "metadata": {},
   "outputs": [
    {
     "output_type": "execute_result",
     "data": {
      "text/plain": [
       "        backers_count                                              blurb  \\\n",
       "0                 315                                      Babalus Shoes   \n",
       "12                  5  A body of work that praises the melanin skin. ...   \n",
       "27                 41  A wrist watch with a Swiss movement, made as a...   \n",
       "59                  5  We are expanding a 63 year old shoe repair sho...   \n",
       "72                  4  RevengeLover Artist pack for PHX Night Market ...   \n",
       "...               ...                                                ...   \n",
       "207420             16  Fefe, a 16 year old girl, tries VR counselling...   \n",
       "207624              1  Mean Clean Petz shampoo is a pet shampoo with ...   \n",
       "207676             51  A dark comedy pilot based on the on stage pers...   \n",
       "208058              1  A series of hard enamel pins inspired by sushi...   \n",
       "208115              1  Custom made floral shadow boxes, customized do...   \n",
       "\n",
       "        converted_pledged_amount country          created_at  \\\n",
       "0                          28645      US 2018-11-05 23:06:45   \n",
       "12                            47      US 2019-01-31 17:53:02   \n",
       "27                         21161      GB 2019-02-28 09:23:07   \n",
       "59                           171      US 2019-02-27 15:10:19   \n",
       "72                            41      US 2019-01-24 23:09:56   \n",
       "...                          ...     ...                 ...   \n",
       "207420                       544      GB 2019-01-19 12:06:00   \n",
       "207624                         1      US 2019-01-12 00:53:44   \n",
       "207676                      2905      US 2018-10-08 20:29:20   \n",
       "208058                         1      US 2019-02-11 16:34:33   \n",
       "208115                         1      US 2019-01-25 21:24:59   \n",
       "\n",
       "                  deadline  disable_communication          id  is_starrable  \\\n",
       "0      2019-03-14 05:02:55                  False  2108505034         False   \n",
       "12     2019-04-02 06:59:00                  False   602018854          True   \n",
       "27     2019-04-05 18:59:50                  False  1889386358          True   \n",
       "59     2019-04-10 19:59:54                  False  1758821068          True   \n",
       "72     2019-03-14 16:37:41                  False  1028481629         False   \n",
       "...                    ...                    ...         ...           ...   \n",
       "207420 2019-04-01 11:00:00                  False   736004837          True   \n",
       "207624 2019-03-17 14:42:04                  False  1849734123          True   \n",
       "207676 2019-04-09 00:40:34                  False  1789932195          True   \n",
       "208058 2019-03-26 15:00:00                  False  1181433300          True   \n",
       "208115 2019-03-29 18:20:34                  False   810101150          True   \n",
       "\n",
       "               launched_at                                               name  \\\n",
       "0      2019-01-23 06:02:55                           Babalus Children's Shoes   \n",
       "12     2019-02-11 08:24:54                                   House of Melanin   \n",
       "27     2019-03-06 18:59:50                               William Walker Watch   \n",
       "59     2019-03-11 19:59:54             63 Year Old Shoe Repair Shop Expansion   \n",
       "72     2019-02-12 17:37:41                   Kain Tayo (Let's Eat!) Swag Pack   \n",
       "...                    ...                                                ...   \n",
       "207420 2019-02-16 11:39:03                                      The Red Dress   \n",
       "207624 2019-01-16 15:42:04                                    Mean Clean Petz   \n",
       "207676 2019-02-08 01:40:34                                The Mick Chronicles   \n",
       "208058 2019-02-13 19:46:33                                         Sushi Cats   \n",
       "208115 2019-01-28 19:20:34  All That Glitters - Custom made floral shadow ...   \n",
       "\n",
       "        spotlight  staff_pick state    state_changed_at  ratio_target  \\\n",
       "0           False       False  live 2019-01-23 06:02:55      1.023036   \n",
       "12          False       False  live 2019-02-11 08:24:54      0.004700   \n",
       "27          False       False  live 2019-03-06 18:59:51      1.058050   \n",
       "59          False       False  live 2019-03-11 19:59:55      0.011400   \n",
       "72          False       False  live 2019-02-12 17:37:42      0.041000   \n",
       "...           ...         ...   ...                 ...           ...   \n",
       "207420      False       False  live 2019-02-16 11:39:03      1.088000   \n",
       "207624      False       False  live 2019-01-16 15:42:04      0.000100   \n",
       "207676      False       False  live 2019-02-08 01:40:35      0.581000   \n",
       "208058      False       False  live 2019-02-13 19:46:34      0.002326   \n",
       "208115      False       False  live 2019-01-28 19:20:35      0.001333   \n",
       "\n",
       "        subcategy_id   subcategory      category  category_id  month_project  \\\n",
       "0                266      Footwear       fashion            9              1   \n",
       "12                54   Mixed Media           art            1              2   \n",
       "27                 9       Fashion       fashion            9              3   \n",
       "59                 9       Fashion       fashion            9              3   \n",
       "72               263       Apparel       fashion            9              2   \n",
       "...              ...           ...           ...          ...            ...   \n",
       "207420            11  Film & Video  film & video           11              2   \n",
       "207624            26        Crafts        crafts           26              1   \n",
       "207676           292        Comedy  film & video           11              2   \n",
       "208058             1           Art           art            1              2   \n",
       "208115             1           Art           art            1              1   \n",
       "\n",
       "        weekday  duration  convert_goal  \n",
       "0             2        49  28000.000000  \n",
       "12            0        49  10000.000000  \n",
       "27            2        30  26319.910600  \n",
       "59            0        30  15000.000000  \n",
       "72            1        29   1000.000000  \n",
       "...         ...       ...           ...  \n",
       "207420        5        43    639.986895  \n",
       "207624        2        59  10000.000000  \n",
       "207676        4        59   5000.000000  \n",
       "208058        2        40    430.000000  \n",
       "208115        0        59    750.000000  \n",
       "\n",
       "[4038 rows x 24 columns]"
      ],
      "text/html": "<div>\n<style scoped>\n    .dataframe tbody tr th:only-of-type {\n        vertical-align: middle;\n    }\n\n    .dataframe tbody tr th {\n        vertical-align: top;\n    }\n\n    .dataframe thead th {\n        text-align: right;\n    }\n</style>\n<table border=\"1\" class=\"dataframe\">\n  <thead>\n    <tr style=\"text-align: right;\">\n      <th></th>\n      <th>backers_count</th>\n      <th>blurb</th>\n      <th>converted_pledged_amount</th>\n      <th>country</th>\n      <th>created_at</th>\n      <th>deadline</th>\n      <th>disable_communication</th>\n      <th>id</th>\n      <th>is_starrable</th>\n      <th>launched_at</th>\n      <th>name</th>\n      <th>spotlight</th>\n      <th>staff_pick</th>\n      <th>state</th>\n      <th>state_changed_at</th>\n      <th>ratio_target</th>\n      <th>subcategy_id</th>\n      <th>subcategory</th>\n      <th>category</th>\n      <th>category_id</th>\n      <th>month_project</th>\n      <th>weekday</th>\n      <th>duration</th>\n      <th>convert_goal</th>\n    </tr>\n  </thead>\n  <tbody>\n    <tr>\n      <th>0</th>\n      <td>315</td>\n      <td>Babalus Shoes</td>\n      <td>28645</td>\n      <td>US</td>\n      <td>2018-11-05 23:06:45</td>\n      <td>2019-03-14 05:02:55</td>\n      <td>False</td>\n      <td>2108505034</td>\n      <td>False</td>\n      <td>2019-01-23 06:02:55</td>\n      <td>Babalus Children's Shoes</td>\n      <td>False</td>\n      <td>False</td>\n      <td>live</td>\n      <td>2019-01-23 06:02:55</td>\n      <td>1.023036</td>\n      <td>266</td>\n      <td>Footwear</td>\n      <td>fashion</td>\n      <td>9</td>\n      <td>1</td>\n      <td>2</td>\n      <td>49</td>\n      <td>28000.000000</td>\n    </tr>\n    <tr>\n      <th>12</th>\n      <td>5</td>\n      <td>A body of work that praises the melanin skin. ...</td>\n      <td>47</td>\n      <td>US</td>\n      <td>2019-01-31 17:53:02</td>\n      <td>2019-04-02 06:59:00</td>\n      <td>False</td>\n      <td>602018854</td>\n      <td>True</td>\n      <td>2019-02-11 08:24:54</td>\n      <td>House of Melanin</td>\n      <td>False</td>\n      <td>False</td>\n      <td>live</td>\n      <td>2019-02-11 08:24:54</td>\n      <td>0.004700</td>\n      <td>54</td>\n      <td>Mixed Media</td>\n      <td>art</td>\n      <td>1</td>\n      <td>2</td>\n      <td>0</td>\n      <td>49</td>\n      <td>10000.000000</td>\n    </tr>\n    <tr>\n      <th>27</th>\n      <td>41</td>\n      <td>A wrist watch with a Swiss movement, made as a...</td>\n      <td>21161</td>\n      <td>GB</td>\n      <td>2019-02-28 09:23:07</td>\n      <td>2019-04-05 18:59:50</td>\n      <td>False</td>\n      <td>1889386358</td>\n      <td>True</td>\n      <td>2019-03-06 18:59:50</td>\n      <td>William Walker Watch</td>\n      <td>False</td>\n      <td>False</td>\n      <td>live</td>\n      <td>2019-03-06 18:59:51</td>\n      <td>1.058050</td>\n      <td>9</td>\n      <td>Fashion</td>\n      <td>fashion</td>\n      <td>9</td>\n      <td>3</td>\n      <td>2</td>\n      <td>30</td>\n      <td>26319.910600</td>\n    </tr>\n    <tr>\n      <th>59</th>\n      <td>5</td>\n      <td>We are expanding a 63 year old shoe repair sho...</td>\n      <td>171</td>\n      <td>US</td>\n      <td>2019-02-27 15:10:19</td>\n      <td>2019-04-10 19:59:54</td>\n      <td>False</td>\n      <td>1758821068</td>\n      <td>True</td>\n      <td>2019-03-11 19:59:54</td>\n      <td>63 Year Old Shoe Repair Shop Expansion</td>\n      <td>False</td>\n      <td>False</td>\n      <td>live</td>\n      <td>2019-03-11 19:59:55</td>\n      <td>0.011400</td>\n      <td>9</td>\n      <td>Fashion</td>\n      <td>fashion</td>\n      <td>9</td>\n      <td>3</td>\n      <td>0</td>\n      <td>30</td>\n      <td>15000.000000</td>\n    </tr>\n    <tr>\n      <th>72</th>\n      <td>4</td>\n      <td>RevengeLover Artist pack for PHX Night Market ...</td>\n      <td>41</td>\n      <td>US</td>\n      <td>2019-01-24 23:09:56</td>\n      <td>2019-03-14 16:37:41</td>\n      <td>False</td>\n      <td>1028481629</td>\n      <td>False</td>\n      <td>2019-02-12 17:37:41</td>\n      <td>Kain Tayo (Let's Eat!) Swag Pack</td>\n      <td>False</td>\n      <td>False</td>\n      <td>live</td>\n      <td>2019-02-12 17:37:42</td>\n      <td>0.041000</td>\n      <td>263</td>\n      <td>Apparel</td>\n      <td>fashion</td>\n      <td>9</td>\n      <td>2</td>\n      <td>1</td>\n      <td>29</td>\n      <td>1000.000000</td>\n    </tr>\n    <tr>\n      <th>...</th>\n      <td>...</td>\n      <td>...</td>\n      <td>...</td>\n      <td>...</td>\n      <td>...</td>\n      <td>...</td>\n      <td>...</td>\n      <td>...</td>\n      <td>...</td>\n      <td>...</td>\n      <td>...</td>\n      <td>...</td>\n      <td>...</td>\n      <td>...</td>\n      <td>...</td>\n      <td>...</td>\n      <td>...</td>\n      <td>...</td>\n      <td>...</td>\n      <td>...</td>\n      <td>...</td>\n      <td>...</td>\n      <td>...</td>\n      <td>...</td>\n    </tr>\n    <tr>\n      <th>207420</th>\n      <td>16</td>\n      <td>Fefe, a 16 year old girl, tries VR counselling...</td>\n      <td>544</td>\n      <td>GB</td>\n      <td>2019-01-19 12:06:00</td>\n      <td>2019-04-01 11:00:00</td>\n      <td>False</td>\n      <td>736004837</td>\n      <td>True</td>\n      <td>2019-02-16 11:39:03</td>\n      <td>The Red Dress</td>\n      <td>False</td>\n      <td>False</td>\n      <td>live</td>\n      <td>2019-02-16 11:39:03</td>\n      <td>1.088000</td>\n      <td>11</td>\n      <td>Film &amp; Video</td>\n      <td>film &amp; video</td>\n      <td>11</td>\n      <td>2</td>\n      <td>5</td>\n      <td>43</td>\n      <td>639.986895</td>\n    </tr>\n    <tr>\n      <th>207624</th>\n      <td>1</td>\n      <td>Mean Clean Petz shampoo is a pet shampoo with ...</td>\n      <td>1</td>\n      <td>US</td>\n      <td>2019-01-12 00:53:44</td>\n      <td>2019-03-17 14:42:04</td>\n      <td>False</td>\n      <td>1849734123</td>\n      <td>True</td>\n      <td>2019-01-16 15:42:04</td>\n      <td>Mean Clean Petz</td>\n      <td>False</td>\n      <td>False</td>\n      <td>live</td>\n      <td>2019-01-16 15:42:04</td>\n      <td>0.000100</td>\n      <td>26</td>\n      <td>Crafts</td>\n      <td>crafts</td>\n      <td>26</td>\n      <td>1</td>\n      <td>2</td>\n      <td>59</td>\n      <td>10000.000000</td>\n    </tr>\n    <tr>\n      <th>207676</th>\n      <td>51</td>\n      <td>A dark comedy pilot based on the on stage pers...</td>\n      <td>2905</td>\n      <td>US</td>\n      <td>2018-10-08 20:29:20</td>\n      <td>2019-04-09 00:40:34</td>\n      <td>False</td>\n      <td>1789932195</td>\n      <td>True</td>\n      <td>2019-02-08 01:40:34</td>\n      <td>The Mick Chronicles</td>\n      <td>False</td>\n      <td>False</td>\n      <td>live</td>\n      <td>2019-02-08 01:40:35</td>\n      <td>0.581000</td>\n      <td>292</td>\n      <td>Comedy</td>\n      <td>film &amp; video</td>\n      <td>11</td>\n      <td>2</td>\n      <td>4</td>\n      <td>59</td>\n      <td>5000.000000</td>\n    </tr>\n    <tr>\n      <th>208058</th>\n      <td>1</td>\n      <td>A series of hard enamel pins inspired by sushi...</td>\n      <td>1</td>\n      <td>US</td>\n      <td>2019-02-11 16:34:33</td>\n      <td>2019-03-26 15:00:00</td>\n      <td>False</td>\n      <td>1181433300</td>\n      <td>True</td>\n      <td>2019-02-13 19:46:33</td>\n      <td>Sushi Cats</td>\n      <td>False</td>\n      <td>False</td>\n      <td>live</td>\n      <td>2019-02-13 19:46:34</td>\n      <td>0.002326</td>\n      <td>1</td>\n      <td>Art</td>\n      <td>art</td>\n      <td>1</td>\n      <td>2</td>\n      <td>2</td>\n      <td>40</td>\n      <td>430.000000</td>\n    </tr>\n    <tr>\n      <th>208115</th>\n      <td>1</td>\n      <td>Custom made floral shadow boxes, customized do...</td>\n      <td>1</td>\n      <td>US</td>\n      <td>2019-01-25 21:24:59</td>\n      <td>2019-03-29 18:20:34</td>\n      <td>False</td>\n      <td>810101150</td>\n      <td>True</td>\n      <td>2019-01-28 19:20:34</td>\n      <td>All That Glitters - Custom made floral shadow ...</td>\n      <td>False</td>\n      <td>False</td>\n      <td>live</td>\n      <td>2019-01-28 19:20:35</td>\n      <td>0.001333</td>\n      <td>1</td>\n      <td>Art</td>\n      <td>art</td>\n      <td>1</td>\n      <td>1</td>\n      <td>0</td>\n      <td>59</td>\n      <td>750.000000</td>\n    </tr>\n  </tbody>\n</table>\n<p>4038 rows × 24 columns</p>\n</div>"
     },
     "metadata": {},
     "execution_count": 34
    }
   ],
   "source": [
    "x= frame[frame['state']== 'live']\n",
    "frame= frame.drop(frame[(frame.state == 'live')].index)\n",
    "x"
   ]
  },
  {
   "cell_type": "code",
   "execution_count": 35,
   "metadata": {},
   "outputs": [
    {
     "output_type": "stream",
     "name": "stdout",
     "text": [
      "2009-05-03 06:59:59\n2019-03-04 22:27:12\n"
     ]
    }
   ],
   "source": [
    "print(frame.deadline.min())\n",
    "print(frame.created_at.max())"
   ]
  },
  {
   "cell_type": "code",
   "execution_count": 37,
   "metadata": {},
   "outputs": [],
   "source": [
    "frame.to_csv(r'/Users/chrisgilibert/neuefische/kickstar/data/data2/final_frame.csv', index=False  )\n",
    "x.to_csv(r'/Users/chrisgilibert/neuefische/kickstar/data/data2/live.csv', index=False )"
   ]
  },
  {
   "cell_type": "code",
   "execution_count": null,
   "metadata": {},
   "outputs": [],
   "source": []
  }
 ]
}