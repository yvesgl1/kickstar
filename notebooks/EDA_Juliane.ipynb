{
 "metadata": {
  "language_info": {
   "codemirror_mode": {
    "name": "ipython",
    "version": 3
   },
   "file_extension": ".py",
   "mimetype": "text/x-python",
   "name": "python",
   "nbconvert_exporter": "python",
   "pygments_lexer": "ipython3",
   "version": "3.8.5"
  },
  "orig_nbformat": 4,
  "kernelspec": {
   "name": "python3",
   "display_name": "Python 3.8.5 64-bit ('.venv': venv)"
  },
  "interpreter": {
   "hash": "a9f72fa0b1589baa5178e178c1f863f1f988464296f518fdee65b94f439a406a"
  }
 },
 "nbformat": 4,
 "nbformat_minor": 2,
 "cells": [
  {
   "cell_type": "code",
   "execution_count": 26,
   "metadata": {},
   "outputs": [],
   "source": [
    "import numpy as np\n",
    "import pandas as pd \n",
    "import matplotlib as plt\n",
    "import seaborn as sns\n",
    "import sklearn as sk \n"
   ]
  },
  {
   "cell_type": "code",
   "execution_count": 27,
   "metadata": {},
   "outputs": [],
   "source": [
    "import glob\n",
    "\n",
    "path = r'/Users/julianeberek/neuefische/kickstar/data'\n",
    "all_files = glob.glob(os.path.join(path, \"*.csv\"))\n",
    "\n",
    "li = []\n",
    "\n",
    "for filename in all_files:\n",
    "    df = pd.read_csv(filename, index_col=None, header=0)\n",
    "    li.append(df)\n",
    "\n",
    "frame = pd.concat(li, axis=0, ignore_index=True)"
   ]
  },
  {
   "cell_type": "code",
   "execution_count": 28,
   "metadata": {},
   "outputs": [
    {
     "output_type": "execute_result",
     "data": {
      "text/plain": [
       "   backers_count                                              blurb  \\\n",
       "0            315                                      Babalus Shoes   \n",
       "1             47  A colorful Dia de los Muertos themed oracle de...   \n",
       "2            271  Electra's long awaited, eclectic Debut Pop/Roc...   \n",
       "3              3  The Mist of Tribunal is a turn-based card game...   \n",
       "4              3  Livng with a brain impairment, what its like t...   \n",
       "\n",
       "                                            category  \\\n",
       "0  {\"id\":266,\"name\":\"Footwear\",\"slug\":\"fashion/fo...   \n",
       "1  {\"id\":273,\"name\":\"Playing Cards\",\"slug\":\"games...   \n",
       "2  {\"id\":43,\"name\":\"Rock\",\"slug\":\"music/rock\",\"po...   \n",
       "3  {\"id\":273,\"name\":\"Playing Cards\",\"slug\":\"games...   \n",
       "4  {\"id\":48,\"name\":\"Nonfiction\",\"slug\":\"publishin...   \n",
       "\n",
       "   converted_pledged_amount country  created_at  \\\n",
       "0                     28645      US  1541459205   \n",
       "1                      1950      US  1501684093   \n",
       "2                     22404      US  1348987533   \n",
       "3                       165      GB  1483780271   \n",
       "4                      2820      US  1354817071   \n",
       "\n",
       "                                             creator currency currency_symbol  \\\n",
       "0  {\"id\":2094277840,\"name\":\"Lucy Conroy\",\"slug\":\"...      USD               $   \n",
       "1  {\"id\":723886115,\"name\":\"Lisa Vollrath\",\"slug\":...      USD               $   \n",
       "2  {\"id\":323849677,\"name\":\"Electra\",\"is_registere...      USD               $   \n",
       "3  {\"id\":196281496,\"name\":\"Artur Ordijanc (delete...      GBP               £   \n",
       "4  {\"id\":1178460181,\"name\":\"Dawn Johnston\",\"is_re...      USD               $   \n",
       "\n",
       "   currency_trailing_code current_currency    deadline  disable_communication  \\\n",
       "0                    True              USD  1552539775                  False   \n",
       "1                    True              USD  1504976459                  False   \n",
       "2                    True              USD  1371013395                  False   \n",
       "3                   False              USD  1489425776                  False   \n",
       "4                    True              USD  1357763527                  False   \n",
       "\n",
       "  friends   fx_rate     goal          id is_backing  is_starrable is_starred  \\\n",
       "0     NaN  1.000000  28000.0  2108505034        NaN         False        NaN   \n",
       "1     NaN  1.000000   1000.0   928751314        NaN         False        NaN   \n",
       "2     NaN  1.000000  15000.0   928014092        NaN         False        NaN   \n",
       "3     NaN  1.308394  10000.0   596091328        NaN         False        NaN   \n",
       "4     NaN  1.000000   2800.0   998516049        NaN         False        NaN   \n",
       "\n",
       "   launched_at                                           location  \\\n",
       "0   1548223375  {\"id\":2462429,\"name\":\"Novato\",\"slug\":\"novato-c...   \n",
       "1   1502384459  {\"id\":2400549,\"name\":\"Euless\",\"slug\":\"euless-t...   \n",
       "2   1368421395  {\"id\":2423474,\"name\":\"Hollywood\",\"slug\":\"holly...   \n",
       "3   1484245376  {\"id\":475457,\"name\":\"Kaunas\",\"slug\":\"kaunas-ka...   \n",
       "4   1355171527  {\"id\":2507703,\"name\":\"Traverse City\",\"slug\":\"t...   \n",
       "\n",
       "                                                name permissions  \\\n",
       "0                           Babalus Children's Shoes         NaN   \n",
       "1                            The Ofrenda Oracle Deck         NaN   \n",
       "2  Record Electra's Debut Album (Pop, Rock, Class...         NaN   \n",
       "3                 The Mist of Tribunal - A Card Game         NaN   \n",
       "4           Help change the face of Brain Impairment         NaN   \n",
       "\n",
       "                                               photo  pledged  \\\n",
       "0  {\"key\":\"assets/023/667/205/a565fde5382d6b53276...  28645.0   \n",
       "1  {\"key\":\"assets/017/766/989/dd9f18c773a8546d996...   1950.0   \n",
       "2  {\"key\":\"assets/011/433/681/489fd66f7861fefd8c8...  22404.0   \n",
       "3  {\"key\":\"assets/015/091/198/216fbf1bdc3739e7971...    136.0   \n",
       "4  {\"key\":\"assets/011/457/844/37ba63d35fefaba76e9...   2820.0   \n",
       "\n",
       "                                             profile  \\\n",
       "0  {\"id\":3508024,\"project_id\":3508024,\"state\":\"in...   \n",
       "1  {\"id\":3094785,\"project_id\":3094785,\"state\":\"ac...   \n",
       "2  {\"id\":359847,\"project_id\":359847,\"state\":\"inac...   \n",
       "3  {\"id\":2825329,\"project_id\":2825329,\"state\":\"in...   \n",
       "4  {\"id\":417385,\"project_id\":417385,\"state\":\"inac...   \n",
       "\n",
       "                                             slug  \\\n",
       "0                         babalus-childrens-shoes   \n",
       "1                         the-ofrenda-oracle-deck   \n",
       "2  record-electras-debut-album-pop-rock-classical   \n",
       "3                the-mist-of-tribunal-a-card-game   \n",
       "4        help-change-the-face-of-brain-impairment   \n",
       "\n",
       "                                          source_url  spotlight  staff_pick  \\\n",
       "0  https://www.kickstarter.com/discover/categorie...      False       False   \n",
       "1  https://www.kickstarter.com/discover/categorie...       True       False   \n",
       "2  https://www.kickstarter.com/discover/categorie...       True       False   \n",
       "3  https://www.kickstarter.com/discover/categorie...      False       False   \n",
       "4  https://www.kickstarter.com/discover/categorie...       True       False   \n",
       "\n",
       "        state  state_changed_at  static_usd_rate  \\\n",
       "0        live        1548223375         1.000000   \n",
       "1  successful        1504976459         1.000000   \n",
       "2  successful        1371013395         1.000000   \n",
       "3      failed        1489425776         1.216066   \n",
       "4  successful        1357763527         1.000000   \n",
       "\n",
       "                                                urls   usd_pledged  \\\n",
       "0  {\"web\":{\"project\":\"https://www.kickstarter.com...  28645.000000   \n",
       "1  {\"web\":{\"project\":\"https://www.kickstarter.com...   1950.000000   \n",
       "2  {\"web\":{\"project\":\"https://www.kickstarter.com...  22404.000000   \n",
       "3  {\"web\":{\"project\":\"https://www.kickstarter.com...    165.384934   \n",
       "4  {\"web\":{\"project\":\"https://www.kickstarter.com...   2820.000000   \n",
       "\n",
       "        usd_type  \n",
       "0  international  \n",
       "1       domestic  \n",
       "2  international  \n",
       "3       domestic  \n",
       "4       domestic  "
      ],
      "text/html": "<div>\n<style scoped>\n    .dataframe tbody tr th:only-of-type {\n        vertical-align: middle;\n    }\n\n    .dataframe tbody tr th {\n        vertical-align: top;\n    }\n\n    .dataframe thead th {\n        text-align: right;\n    }\n</style>\n<table border=\"1\" class=\"dataframe\">\n  <thead>\n    <tr style=\"text-align: right;\">\n      <th></th>\n      <th>backers_count</th>\n      <th>blurb</th>\n      <th>category</th>\n      <th>converted_pledged_amount</th>\n      <th>country</th>\n      <th>created_at</th>\n      <th>creator</th>\n      <th>currency</th>\n      <th>currency_symbol</th>\n      <th>currency_trailing_code</th>\n      <th>current_currency</th>\n      <th>deadline</th>\n      <th>disable_communication</th>\n      <th>friends</th>\n      <th>fx_rate</th>\n      <th>goal</th>\n      <th>id</th>\n      <th>is_backing</th>\n      <th>is_starrable</th>\n      <th>is_starred</th>\n      <th>launched_at</th>\n      <th>location</th>\n      <th>name</th>\n      <th>permissions</th>\n      <th>photo</th>\n      <th>pledged</th>\n      <th>profile</th>\n      <th>slug</th>\n      <th>source_url</th>\n      <th>spotlight</th>\n      <th>staff_pick</th>\n      <th>state</th>\n      <th>state_changed_at</th>\n      <th>static_usd_rate</th>\n      <th>urls</th>\n      <th>usd_pledged</th>\n      <th>usd_type</th>\n    </tr>\n  </thead>\n  <tbody>\n    <tr>\n      <th>0</th>\n      <td>315</td>\n      <td>Babalus Shoes</td>\n      <td>{\"id\":266,\"name\":\"Footwear\",\"slug\":\"fashion/fo...</td>\n      <td>28645</td>\n      <td>US</td>\n      <td>1541459205</td>\n      <td>{\"id\":2094277840,\"name\":\"Lucy Conroy\",\"slug\":\"...</td>\n      <td>USD</td>\n      <td>$</td>\n      <td>True</td>\n      <td>USD</td>\n      <td>1552539775</td>\n      <td>False</td>\n      <td>NaN</td>\n      <td>1.000000</td>\n      <td>28000.0</td>\n      <td>2108505034</td>\n      <td>NaN</td>\n      <td>False</td>\n      <td>NaN</td>\n      <td>1548223375</td>\n      <td>{\"id\":2462429,\"name\":\"Novato\",\"slug\":\"novato-c...</td>\n      <td>Babalus Children's Shoes</td>\n      <td>NaN</td>\n      <td>{\"key\":\"assets/023/667/205/a565fde5382d6b53276...</td>\n      <td>28645.0</td>\n      <td>{\"id\":3508024,\"project_id\":3508024,\"state\":\"in...</td>\n      <td>babalus-childrens-shoes</td>\n      <td>https://www.kickstarter.com/discover/categorie...</td>\n      <td>False</td>\n      <td>False</td>\n      <td>live</td>\n      <td>1548223375</td>\n      <td>1.000000</td>\n      <td>{\"web\":{\"project\":\"https://www.kickstarter.com...</td>\n      <td>28645.000000</td>\n      <td>international</td>\n    </tr>\n    <tr>\n      <th>1</th>\n      <td>47</td>\n      <td>A colorful Dia de los Muertos themed oracle de...</td>\n      <td>{\"id\":273,\"name\":\"Playing Cards\",\"slug\":\"games...</td>\n      <td>1950</td>\n      <td>US</td>\n      <td>1501684093</td>\n      <td>{\"id\":723886115,\"name\":\"Lisa Vollrath\",\"slug\":...</td>\n      <td>USD</td>\n      <td>$</td>\n      <td>True</td>\n      <td>USD</td>\n      <td>1504976459</td>\n      <td>False</td>\n      <td>NaN</td>\n      <td>1.000000</td>\n      <td>1000.0</td>\n      <td>928751314</td>\n      <td>NaN</td>\n      <td>False</td>\n      <td>NaN</td>\n      <td>1502384459</td>\n      <td>{\"id\":2400549,\"name\":\"Euless\",\"slug\":\"euless-t...</td>\n      <td>The Ofrenda Oracle Deck</td>\n      <td>NaN</td>\n      <td>{\"key\":\"assets/017/766/989/dd9f18c773a8546d996...</td>\n      <td>1950.0</td>\n      <td>{\"id\":3094785,\"project_id\":3094785,\"state\":\"ac...</td>\n      <td>the-ofrenda-oracle-deck</td>\n      <td>https://www.kickstarter.com/discover/categorie...</td>\n      <td>True</td>\n      <td>False</td>\n      <td>successful</td>\n      <td>1504976459</td>\n      <td>1.000000</td>\n      <td>{\"web\":{\"project\":\"https://www.kickstarter.com...</td>\n      <td>1950.000000</td>\n      <td>domestic</td>\n    </tr>\n    <tr>\n      <th>2</th>\n      <td>271</td>\n      <td>Electra's long awaited, eclectic Debut Pop/Roc...</td>\n      <td>{\"id\":43,\"name\":\"Rock\",\"slug\":\"music/rock\",\"po...</td>\n      <td>22404</td>\n      <td>US</td>\n      <td>1348987533</td>\n      <td>{\"id\":323849677,\"name\":\"Electra\",\"is_registere...</td>\n      <td>USD</td>\n      <td>$</td>\n      <td>True</td>\n      <td>USD</td>\n      <td>1371013395</td>\n      <td>False</td>\n      <td>NaN</td>\n      <td>1.000000</td>\n      <td>15000.0</td>\n      <td>928014092</td>\n      <td>NaN</td>\n      <td>False</td>\n      <td>NaN</td>\n      <td>1368421395</td>\n      <td>{\"id\":2423474,\"name\":\"Hollywood\",\"slug\":\"holly...</td>\n      <td>Record Electra's Debut Album (Pop, Rock, Class...</td>\n      <td>NaN</td>\n      <td>{\"key\":\"assets/011/433/681/489fd66f7861fefd8c8...</td>\n      <td>22404.0</td>\n      <td>{\"id\":359847,\"project_id\":359847,\"state\":\"inac...</td>\n      <td>record-electras-debut-album-pop-rock-classical</td>\n      <td>https://www.kickstarter.com/discover/categorie...</td>\n      <td>True</td>\n      <td>False</td>\n      <td>successful</td>\n      <td>1371013395</td>\n      <td>1.000000</td>\n      <td>{\"web\":{\"project\":\"https://www.kickstarter.com...</td>\n      <td>22404.000000</td>\n      <td>international</td>\n    </tr>\n    <tr>\n      <th>3</th>\n      <td>3</td>\n      <td>The Mist of Tribunal is a turn-based card game...</td>\n      <td>{\"id\":273,\"name\":\"Playing Cards\",\"slug\":\"games...</td>\n      <td>165</td>\n      <td>GB</td>\n      <td>1483780271</td>\n      <td>{\"id\":196281496,\"name\":\"Artur Ordijanc (delete...</td>\n      <td>GBP</td>\n      <td>£</td>\n      <td>False</td>\n      <td>USD</td>\n      <td>1489425776</td>\n      <td>False</td>\n      <td>NaN</td>\n      <td>1.308394</td>\n      <td>10000.0</td>\n      <td>596091328</td>\n      <td>NaN</td>\n      <td>False</td>\n      <td>NaN</td>\n      <td>1484245376</td>\n      <td>{\"id\":475457,\"name\":\"Kaunas\",\"slug\":\"kaunas-ka...</td>\n      <td>The Mist of Tribunal - A Card Game</td>\n      <td>NaN</td>\n      <td>{\"key\":\"assets/015/091/198/216fbf1bdc3739e7971...</td>\n      <td>136.0</td>\n      <td>{\"id\":2825329,\"project_id\":2825329,\"state\":\"in...</td>\n      <td>the-mist-of-tribunal-a-card-game</td>\n      <td>https://www.kickstarter.com/discover/categorie...</td>\n      <td>False</td>\n      <td>False</td>\n      <td>failed</td>\n      <td>1489425776</td>\n      <td>1.216066</td>\n      <td>{\"web\":{\"project\":\"https://www.kickstarter.com...</td>\n      <td>165.384934</td>\n      <td>domestic</td>\n    </tr>\n    <tr>\n      <th>4</th>\n      <td>3</td>\n      <td>Livng with a brain impairment, what its like t...</td>\n      <td>{\"id\":48,\"name\":\"Nonfiction\",\"slug\":\"publishin...</td>\n      <td>2820</td>\n      <td>US</td>\n      <td>1354817071</td>\n      <td>{\"id\":1178460181,\"name\":\"Dawn Johnston\",\"is_re...</td>\n      <td>USD</td>\n      <td>$</td>\n      <td>True</td>\n      <td>USD</td>\n      <td>1357763527</td>\n      <td>False</td>\n      <td>NaN</td>\n      <td>1.000000</td>\n      <td>2800.0</td>\n      <td>998516049</td>\n      <td>NaN</td>\n      <td>False</td>\n      <td>NaN</td>\n      <td>1355171527</td>\n      <td>{\"id\":2507703,\"name\":\"Traverse City\",\"slug\":\"t...</td>\n      <td>Help change the face of Brain Impairment</td>\n      <td>NaN</td>\n      <td>{\"key\":\"assets/011/457/844/37ba63d35fefaba76e9...</td>\n      <td>2820.0</td>\n      <td>{\"id\":417385,\"project_id\":417385,\"state\":\"inac...</td>\n      <td>help-change-the-face-of-brain-impairment</td>\n      <td>https://www.kickstarter.com/discover/categorie...</td>\n      <td>True</td>\n      <td>False</td>\n      <td>successful</td>\n      <td>1357763527</td>\n      <td>1.000000</td>\n      <td>{\"web\":{\"project\":\"https://www.kickstarter.com...</td>\n      <td>2820.000000</td>\n      <td>domestic</td>\n    </tr>\n  </tbody>\n</table>\n</div>"
     },
     "metadata": {},
     "execution_count": 28
    }
   ],
   "source": [
    "pd.set_option(\"display.max_columns\", None)\n",
    "frame.head()"
   ]
  },
  {
   "cell_type": "code",
   "execution_count": 29,
   "metadata": {},
   "outputs": [],
   "source": [
    "removal_list = ['friends', 'permissions', 'is_starred', 'is_backing']\n",
    "\n",
    "frame.drop(removal_list, inplace=True, axis=1)"
   ]
  },
  {
   "cell_type": "code",
   "execution_count": 30,
   "metadata": {},
   "outputs": [
    {
     "output_type": "execute_result",
     "data": {
      "text/plain": [
       "         id              name                    slug  position  parent_id  \\\n",
       "0       266          Footwear        fashion/footwear         5        9.0   \n",
       "1       273     Playing Cards     games/playing cards         4       12.0   \n",
       "2        43              Rock              music/rock        17       14.0   \n",
       "3       273     Playing Cards     games/playing cards         4       12.0   \n",
       "4        48        Nonfiction   publishing/nonfiction         9       18.0   \n",
       "...     ...               ...                     ...       ...        ...   \n",
       "209217   34    Tabletop Games    games/tabletop games         6       12.0   \n",
       "209218   38  Electronic Music  music/electronic music         6       14.0   \n",
       "209219   52          Hardware     technology/hardware         8       16.0   \n",
       "209220  295         Festivals  film & video/festivals         9       11.0   \n",
       "209221   13        Journalism              journalism        10        NaN   \n",
       "\n",
       "           color                                               urls  \n",
       "0       16752598  {'web': {'discover': 'http://www.kickstarter.c...  \n",
       "1          51627  {'web': {'discover': 'http://www.kickstarter.c...  \n",
       "2       10878931  {'web': {'discover': 'http://www.kickstarter.c...  \n",
       "3          51627  {'web': {'discover': 'http://www.kickstarter.c...  \n",
       "4       14867664  {'web': {'discover': 'http://www.kickstarter.c...  \n",
       "...          ...                                                ...  \n",
       "209217     51627  {'web': {'discover': 'http://www.kickstarter.c...  \n",
       "209218  10878931  {'web': {'discover': 'http://www.kickstarter.c...  \n",
       "209219   6526716  {'web': {'discover': 'http://www.kickstarter.c...  \n",
       "209220  16734574  {'web': {'discover': 'http://www.kickstarter.c...  \n",
       "209221   1228010  {'web': {'discover': 'http://www.kickstarter.c...  \n",
       "\n",
       "[209222 rows x 7 columns]"
      ],
      "text/html": "<div>\n<style scoped>\n    .dataframe tbody tr th:only-of-type {\n        vertical-align: middle;\n    }\n\n    .dataframe tbody tr th {\n        vertical-align: top;\n    }\n\n    .dataframe thead th {\n        text-align: right;\n    }\n</style>\n<table border=\"1\" class=\"dataframe\">\n  <thead>\n    <tr style=\"text-align: right;\">\n      <th></th>\n      <th>id</th>\n      <th>name</th>\n      <th>slug</th>\n      <th>position</th>\n      <th>parent_id</th>\n      <th>color</th>\n      <th>urls</th>\n    </tr>\n  </thead>\n  <tbody>\n    <tr>\n      <th>0</th>\n      <td>266</td>\n      <td>Footwear</td>\n      <td>fashion/footwear</td>\n      <td>5</td>\n      <td>9.0</td>\n      <td>16752598</td>\n      <td>{'web': {'discover': 'http://www.kickstarter.c...</td>\n    </tr>\n    <tr>\n      <th>1</th>\n      <td>273</td>\n      <td>Playing Cards</td>\n      <td>games/playing cards</td>\n      <td>4</td>\n      <td>12.0</td>\n      <td>51627</td>\n      <td>{'web': {'discover': 'http://www.kickstarter.c...</td>\n    </tr>\n    <tr>\n      <th>2</th>\n      <td>43</td>\n      <td>Rock</td>\n      <td>music/rock</td>\n      <td>17</td>\n      <td>14.0</td>\n      <td>10878931</td>\n      <td>{'web': {'discover': 'http://www.kickstarter.c...</td>\n    </tr>\n    <tr>\n      <th>3</th>\n      <td>273</td>\n      <td>Playing Cards</td>\n      <td>games/playing cards</td>\n      <td>4</td>\n      <td>12.0</td>\n      <td>51627</td>\n      <td>{'web': {'discover': 'http://www.kickstarter.c...</td>\n    </tr>\n    <tr>\n      <th>4</th>\n      <td>48</td>\n      <td>Nonfiction</td>\n      <td>publishing/nonfiction</td>\n      <td>9</td>\n      <td>18.0</td>\n      <td>14867664</td>\n      <td>{'web': {'discover': 'http://www.kickstarter.c...</td>\n    </tr>\n    <tr>\n      <th>...</th>\n      <td>...</td>\n      <td>...</td>\n      <td>...</td>\n      <td>...</td>\n      <td>...</td>\n      <td>...</td>\n      <td>...</td>\n    </tr>\n    <tr>\n      <th>209217</th>\n      <td>34</td>\n      <td>Tabletop Games</td>\n      <td>games/tabletop games</td>\n      <td>6</td>\n      <td>12.0</td>\n      <td>51627</td>\n      <td>{'web': {'discover': 'http://www.kickstarter.c...</td>\n    </tr>\n    <tr>\n      <th>209218</th>\n      <td>38</td>\n      <td>Electronic Music</td>\n      <td>music/electronic music</td>\n      <td>6</td>\n      <td>14.0</td>\n      <td>10878931</td>\n      <td>{'web': {'discover': 'http://www.kickstarter.c...</td>\n    </tr>\n    <tr>\n      <th>209219</th>\n      <td>52</td>\n      <td>Hardware</td>\n      <td>technology/hardware</td>\n      <td>8</td>\n      <td>16.0</td>\n      <td>6526716</td>\n      <td>{'web': {'discover': 'http://www.kickstarter.c...</td>\n    </tr>\n    <tr>\n      <th>209220</th>\n      <td>295</td>\n      <td>Festivals</td>\n      <td>film &amp; video/festivals</td>\n      <td>9</td>\n      <td>11.0</td>\n      <td>16734574</td>\n      <td>{'web': {'discover': 'http://www.kickstarter.c...</td>\n    </tr>\n    <tr>\n      <th>209221</th>\n      <td>13</td>\n      <td>Journalism</td>\n      <td>journalism</td>\n      <td>10</td>\n      <td>NaN</td>\n      <td>1228010</td>\n      <td>{'web': {'discover': 'http://www.kickstarter.c...</td>\n    </tr>\n  </tbody>\n</table>\n<p>209222 rows × 7 columns</p>\n</div>"
     },
     "metadata": {},
     "execution_count": 30
    }
   ],
   "source": [
    "import json\n",
    "\n",
    "stdf = frame['category'].apply(json.loads)\n",
    "stdf = pd.DataFrame(stdf.tolist())\n",
    "stdf"
   ]
  },
  {
   "cell_type": "code",
   "execution_count": 31,
   "metadata": {},
   "outputs": [],
   "source": [
    "#df_row_reindex = pd.concat([frame, stdf], ignore_index=True)\n",
    "#df_row_reindex.head()"
   ]
  },
  {
   "cell_type": "code",
   "execution_count": 32,
   "metadata": {},
   "outputs": [],
   "source": [
    "# columns which might not contain useful information\n",
    "# Assumption: 'converted pledged amount' contains final amount in US Dollars\n",
    "\n",
    "cols_del = ['currency', 'currency_symbol', 'currency_trailing_code', 'current_currency', 'photo', 'source_url', 'usd_type', 'urls', 'static_usd_rate']\n",
    "\n",
    "frame.drop(cols_del, inplace=True, axis=1)"
   ]
  },
  {
   "cell_type": "code",
   "execution_count": 33,
   "metadata": {},
   "outputs": [
    {
     "output_type": "execute_result",
     "data": {
      "text/plain": [
       "   backers_count                                              blurb  \\\n",
       "0            315                                      Babalus Shoes   \n",
       "1             47  A colorful Dia de los Muertos themed oracle de...   \n",
       "2            271  Electra's long awaited, eclectic Debut Pop/Roc...   \n",
       "3              3  The Mist of Tribunal is a turn-based card game...   \n",
       "4              3  Livng with a brain impairment, what its like t...   \n",
       "\n",
       "                                            category  \\\n",
       "0  {\"id\":266,\"name\":\"Footwear\",\"slug\":\"fashion/fo...   \n",
       "1  {\"id\":273,\"name\":\"Playing Cards\",\"slug\":\"games...   \n",
       "2  {\"id\":43,\"name\":\"Rock\",\"slug\":\"music/rock\",\"po...   \n",
       "3  {\"id\":273,\"name\":\"Playing Cards\",\"slug\":\"games...   \n",
       "4  {\"id\":48,\"name\":\"Nonfiction\",\"slug\":\"publishin...   \n",
       "\n",
       "   converted_pledged_amount country  created_at  \\\n",
       "0                     28645      US  1541459205   \n",
       "1                      1950      US  1501684093   \n",
       "2                     22404      US  1348987533   \n",
       "3                       165      GB  1483780271   \n",
       "4                      2820      US  1354817071   \n",
       "\n",
       "                                             creator    deadline  \\\n",
       "0  {\"id\":2094277840,\"name\":\"Lucy Conroy\",\"slug\":\"...  1552539775   \n",
       "1  {\"id\":723886115,\"name\":\"Lisa Vollrath\",\"slug\":...  1504976459   \n",
       "2  {\"id\":323849677,\"name\":\"Electra\",\"is_registere...  1371013395   \n",
       "3  {\"id\":196281496,\"name\":\"Artur Ordijanc (delete...  1489425776   \n",
       "4  {\"id\":1178460181,\"name\":\"Dawn Johnston\",\"is_re...  1357763527   \n",
       "\n",
       "   disable_communication   fx_rate     goal          id  is_starrable  \\\n",
       "0                  False  1.000000  28000.0  2108505034         False   \n",
       "1                  False  1.000000   1000.0   928751314         False   \n",
       "2                  False  1.000000  15000.0   928014092         False   \n",
       "3                  False  1.308394  10000.0   596091328         False   \n",
       "4                  False  1.000000   2800.0   998516049         False   \n",
       "\n",
       "   launched_at                                           location  \\\n",
       "0   1548223375  {\"id\":2462429,\"name\":\"Novato\",\"slug\":\"novato-c...   \n",
       "1   1502384459  {\"id\":2400549,\"name\":\"Euless\",\"slug\":\"euless-t...   \n",
       "2   1368421395  {\"id\":2423474,\"name\":\"Hollywood\",\"slug\":\"holly...   \n",
       "3   1484245376  {\"id\":475457,\"name\":\"Kaunas\",\"slug\":\"kaunas-ka...   \n",
       "4   1355171527  {\"id\":2507703,\"name\":\"Traverse City\",\"slug\":\"t...   \n",
       "\n",
       "                                                name  pledged  \\\n",
       "0                           Babalus Children's Shoes  28645.0   \n",
       "1                            The Ofrenda Oracle Deck   1950.0   \n",
       "2  Record Electra's Debut Album (Pop, Rock, Class...  22404.0   \n",
       "3                 The Mist of Tribunal - A Card Game    136.0   \n",
       "4           Help change the face of Brain Impairment   2820.0   \n",
       "\n",
       "                                             profile  \\\n",
       "0  {\"id\":3508024,\"project_id\":3508024,\"state\":\"in...   \n",
       "1  {\"id\":3094785,\"project_id\":3094785,\"state\":\"ac...   \n",
       "2  {\"id\":359847,\"project_id\":359847,\"state\":\"inac...   \n",
       "3  {\"id\":2825329,\"project_id\":2825329,\"state\":\"in...   \n",
       "4  {\"id\":417385,\"project_id\":417385,\"state\":\"inac...   \n",
       "\n",
       "                                             slug  spotlight  staff_pick  \\\n",
       "0                         babalus-childrens-shoes      False       False   \n",
       "1                         the-ofrenda-oracle-deck       True       False   \n",
       "2  record-electras-debut-album-pop-rock-classical       True       False   \n",
       "3                the-mist-of-tribunal-a-card-game      False       False   \n",
       "4        help-change-the-face-of-brain-impairment       True       False   \n",
       "\n",
       "        state  state_changed_at   usd_pledged  \n",
       "0        live        1548223375  28645.000000  \n",
       "1  successful        1504976459   1950.000000  \n",
       "2  successful        1371013395  22404.000000  \n",
       "3      failed        1489425776    165.384934  \n",
       "4  successful        1357763527   2820.000000  "
      ],
      "text/html": "<div>\n<style scoped>\n    .dataframe tbody tr th:only-of-type {\n        vertical-align: middle;\n    }\n\n    .dataframe tbody tr th {\n        vertical-align: top;\n    }\n\n    .dataframe thead th {\n        text-align: right;\n    }\n</style>\n<table border=\"1\" class=\"dataframe\">\n  <thead>\n    <tr style=\"text-align: right;\">\n      <th></th>\n      <th>backers_count</th>\n      <th>blurb</th>\n      <th>category</th>\n      <th>converted_pledged_amount</th>\n      <th>country</th>\n      <th>created_at</th>\n      <th>creator</th>\n      <th>deadline</th>\n      <th>disable_communication</th>\n      <th>fx_rate</th>\n      <th>goal</th>\n      <th>id</th>\n      <th>is_starrable</th>\n      <th>launched_at</th>\n      <th>location</th>\n      <th>name</th>\n      <th>pledged</th>\n      <th>profile</th>\n      <th>slug</th>\n      <th>spotlight</th>\n      <th>staff_pick</th>\n      <th>state</th>\n      <th>state_changed_at</th>\n      <th>usd_pledged</th>\n    </tr>\n  </thead>\n  <tbody>\n    <tr>\n      <th>0</th>\n      <td>315</td>\n      <td>Babalus Shoes</td>\n      <td>{\"id\":266,\"name\":\"Footwear\",\"slug\":\"fashion/fo...</td>\n      <td>28645</td>\n      <td>US</td>\n      <td>1541459205</td>\n      <td>{\"id\":2094277840,\"name\":\"Lucy Conroy\",\"slug\":\"...</td>\n      <td>1552539775</td>\n      <td>False</td>\n      <td>1.000000</td>\n      <td>28000.0</td>\n      <td>2108505034</td>\n      <td>False</td>\n      <td>1548223375</td>\n      <td>{\"id\":2462429,\"name\":\"Novato\",\"slug\":\"novato-c...</td>\n      <td>Babalus Children's Shoes</td>\n      <td>28645.0</td>\n      <td>{\"id\":3508024,\"project_id\":3508024,\"state\":\"in...</td>\n      <td>babalus-childrens-shoes</td>\n      <td>False</td>\n      <td>False</td>\n      <td>live</td>\n      <td>1548223375</td>\n      <td>28645.000000</td>\n    </tr>\n    <tr>\n      <th>1</th>\n      <td>47</td>\n      <td>A colorful Dia de los Muertos themed oracle de...</td>\n      <td>{\"id\":273,\"name\":\"Playing Cards\",\"slug\":\"games...</td>\n      <td>1950</td>\n      <td>US</td>\n      <td>1501684093</td>\n      <td>{\"id\":723886115,\"name\":\"Lisa Vollrath\",\"slug\":...</td>\n      <td>1504976459</td>\n      <td>False</td>\n      <td>1.000000</td>\n      <td>1000.0</td>\n      <td>928751314</td>\n      <td>False</td>\n      <td>1502384459</td>\n      <td>{\"id\":2400549,\"name\":\"Euless\",\"slug\":\"euless-t...</td>\n      <td>The Ofrenda Oracle Deck</td>\n      <td>1950.0</td>\n      <td>{\"id\":3094785,\"project_id\":3094785,\"state\":\"ac...</td>\n      <td>the-ofrenda-oracle-deck</td>\n      <td>True</td>\n      <td>False</td>\n      <td>successful</td>\n      <td>1504976459</td>\n      <td>1950.000000</td>\n    </tr>\n    <tr>\n      <th>2</th>\n      <td>271</td>\n      <td>Electra's long awaited, eclectic Debut Pop/Roc...</td>\n      <td>{\"id\":43,\"name\":\"Rock\",\"slug\":\"music/rock\",\"po...</td>\n      <td>22404</td>\n      <td>US</td>\n      <td>1348987533</td>\n      <td>{\"id\":323849677,\"name\":\"Electra\",\"is_registere...</td>\n      <td>1371013395</td>\n      <td>False</td>\n      <td>1.000000</td>\n      <td>15000.0</td>\n      <td>928014092</td>\n      <td>False</td>\n      <td>1368421395</td>\n      <td>{\"id\":2423474,\"name\":\"Hollywood\",\"slug\":\"holly...</td>\n      <td>Record Electra's Debut Album (Pop, Rock, Class...</td>\n      <td>22404.0</td>\n      <td>{\"id\":359847,\"project_id\":359847,\"state\":\"inac...</td>\n      <td>record-electras-debut-album-pop-rock-classical</td>\n      <td>True</td>\n      <td>False</td>\n      <td>successful</td>\n      <td>1371013395</td>\n      <td>22404.000000</td>\n    </tr>\n    <tr>\n      <th>3</th>\n      <td>3</td>\n      <td>The Mist of Tribunal is a turn-based card game...</td>\n      <td>{\"id\":273,\"name\":\"Playing Cards\",\"slug\":\"games...</td>\n      <td>165</td>\n      <td>GB</td>\n      <td>1483780271</td>\n      <td>{\"id\":196281496,\"name\":\"Artur Ordijanc (delete...</td>\n      <td>1489425776</td>\n      <td>False</td>\n      <td>1.308394</td>\n      <td>10000.0</td>\n      <td>596091328</td>\n      <td>False</td>\n      <td>1484245376</td>\n      <td>{\"id\":475457,\"name\":\"Kaunas\",\"slug\":\"kaunas-ka...</td>\n      <td>The Mist of Tribunal - A Card Game</td>\n      <td>136.0</td>\n      <td>{\"id\":2825329,\"project_id\":2825329,\"state\":\"in...</td>\n      <td>the-mist-of-tribunal-a-card-game</td>\n      <td>False</td>\n      <td>False</td>\n      <td>failed</td>\n      <td>1489425776</td>\n      <td>165.384934</td>\n    </tr>\n    <tr>\n      <th>4</th>\n      <td>3</td>\n      <td>Livng with a brain impairment, what its like t...</td>\n      <td>{\"id\":48,\"name\":\"Nonfiction\",\"slug\":\"publishin...</td>\n      <td>2820</td>\n      <td>US</td>\n      <td>1354817071</td>\n      <td>{\"id\":1178460181,\"name\":\"Dawn Johnston\",\"is_re...</td>\n      <td>1357763527</td>\n      <td>False</td>\n      <td>1.000000</td>\n      <td>2800.0</td>\n      <td>998516049</td>\n      <td>False</td>\n      <td>1355171527</td>\n      <td>{\"id\":2507703,\"name\":\"Traverse City\",\"slug\":\"t...</td>\n      <td>Help change the face of Brain Impairment</td>\n      <td>2820.0</td>\n      <td>{\"id\":417385,\"project_id\":417385,\"state\":\"inac...</td>\n      <td>help-change-the-face-of-brain-impairment</td>\n      <td>True</td>\n      <td>False</td>\n      <td>successful</td>\n      <td>1357763527</td>\n      <td>2820.000000</td>\n    </tr>\n  </tbody>\n</table>\n</div>"
     },
     "metadata": {},
     "execution_count": 33
    }
   ],
   "source": [
    "frame.head()"
   ]
  },
  {
   "cell_type": "code",
   "execution_count": 34,
   "metadata": {},
   "outputs": [
    {
     "output_type": "stream",
     "name": "stdout",
     "text": [
      "<class 'pandas.core.frame.DataFrame'>\nRangeIndex: 209222 entries, 0 to 209221\nData columns (total 24 columns):\n #   Column                    Non-Null Count   Dtype  \n---  ------                    --------------   -----  \n 0   backers_count             209222 non-null  int64  \n 1   blurb                     209214 non-null  object \n 2   category                  209222 non-null  object \n 3   converted_pledged_amount  209222 non-null  int64  \n 4   country                   209222 non-null  object \n 5   created_at                209222 non-null  int64  \n 6   creator                   209222 non-null  object \n 7   deadline                  209222 non-null  int64  \n 8   disable_communication     209222 non-null  bool   \n 9   fx_rate                   209222 non-null  float64\n 10  goal                      209222 non-null  float64\n 11  id                        209222 non-null  int64  \n 12  is_starrable              209222 non-null  bool   \n 13  launched_at               209222 non-null  int64  \n 14  location                  208996 non-null  object \n 15  name                      209222 non-null  object \n 16  pledged                   209222 non-null  float64\n 17  profile                   209222 non-null  object \n 18  slug                      209222 non-null  object \n 19  spotlight                 209222 non-null  bool   \n 20  staff_pick                209222 non-null  bool   \n 21  state                     209222 non-null  object \n 22  state_changed_at          209222 non-null  int64  \n 23  usd_pledged               209222 non-null  float64\ndtypes: bool(4), float64(4), int64(7), object(9)\nmemory usage: 32.7+ MB\n"
     ]
    }
   ],
   "source": [
    "frame.info()"
   ]
  },
  {
   "cell_type": "code",
   "execution_count": 35,
   "metadata": {},
   "outputs": [],
   "source": [
    "# target variables to think about\n",
    "# converted pledged amount (final amount in US dollars) / goal (maybe define a rate between goal and final amount?)\n",
    "#  backers counts / converted pledged amount -> identify projects with high contributions "
   ]
  },
  {
   "cell_type": "code",
   "execution_count": 36,
   "metadata": {},
   "outputs": [
    {
     "output_type": "execute_result",
     "data": {
      "text/plain": [
       "   backers_count                                              blurb  \\\n",
       "0            315                                      Babalus Shoes   \n",
       "1             47  A colorful Dia de los Muertos themed oracle de...   \n",
       "2            271  Electra's long awaited, eclectic Debut Pop/Roc...   \n",
       "3              3  The Mist of Tribunal is a turn-based card game...   \n",
       "4              3  Livng with a brain impairment, what its like t...   \n",
       "\n",
       "                                            category  \\\n",
       "0  {\"id\":266,\"name\":\"Footwear\",\"slug\":\"fashion/fo...   \n",
       "1  {\"id\":273,\"name\":\"Playing Cards\",\"slug\":\"games...   \n",
       "2  {\"id\":43,\"name\":\"Rock\",\"slug\":\"music/rock\",\"po...   \n",
       "3  {\"id\":273,\"name\":\"Playing Cards\",\"slug\":\"games...   \n",
       "4  {\"id\":48,\"name\":\"Nonfiction\",\"slug\":\"publishin...   \n",
       "\n",
       "   converted_pledged_amount country  created_at  \\\n",
       "0                     28645      US  1541459205   \n",
       "1                      1950      US  1501684093   \n",
       "2                     22404      US  1348987533   \n",
       "3                       165      GB  1483780271   \n",
       "4                      2820      US  1354817071   \n",
       "\n",
       "                                             creator    deadline  \\\n",
       "0  {\"id\":2094277840,\"name\":\"Lucy Conroy\",\"slug\":\"...  1552539775   \n",
       "1  {\"id\":723886115,\"name\":\"Lisa Vollrath\",\"slug\":...  1504976459   \n",
       "2  {\"id\":323849677,\"name\":\"Electra\",\"is_registere...  1371013395   \n",
       "3  {\"id\":196281496,\"name\":\"Artur Ordijanc (delete...  1489425776   \n",
       "4  {\"id\":1178460181,\"name\":\"Dawn Johnston\",\"is_re...  1357763527   \n",
       "\n",
       "   disable_communication   fx_rate     goal          id  is_starrable  \\\n",
       "0                  False  1.000000  28000.0  2108505034         False   \n",
       "1                  False  1.000000   1000.0   928751314         False   \n",
       "2                  False  1.000000  15000.0   928014092         False   \n",
       "3                  False  1.308394  10000.0   596091328         False   \n",
       "4                  False  1.000000   2800.0   998516049         False   \n",
       "\n",
       "   launched_at                                           location  \\\n",
       "0   1548223375  {\"id\":2462429,\"name\":\"Novato\",\"slug\":\"novato-c...   \n",
       "1   1502384459  {\"id\":2400549,\"name\":\"Euless\",\"slug\":\"euless-t...   \n",
       "2   1368421395  {\"id\":2423474,\"name\":\"Hollywood\",\"slug\":\"holly...   \n",
       "3   1484245376  {\"id\":475457,\"name\":\"Kaunas\",\"slug\":\"kaunas-ka...   \n",
       "4   1355171527  {\"id\":2507703,\"name\":\"Traverse City\",\"slug\":\"t...   \n",
       "\n",
       "                                                name  pledged  \\\n",
       "0                           Babalus Children's Shoes  28645.0   \n",
       "1                            The Ofrenda Oracle Deck   1950.0   \n",
       "2  Record Electra's Debut Album (Pop, Rock, Class...  22404.0   \n",
       "3                 The Mist of Tribunal - A Card Game    136.0   \n",
       "4           Help change the face of Brain Impairment   2820.0   \n",
       "\n",
       "                                             profile  \\\n",
       "0  {\"id\":3508024,\"project_id\":3508024,\"state\":\"in...   \n",
       "1  {\"id\":3094785,\"project_id\":3094785,\"state\":\"ac...   \n",
       "2  {\"id\":359847,\"project_id\":359847,\"state\":\"inac...   \n",
       "3  {\"id\":2825329,\"project_id\":2825329,\"state\":\"in...   \n",
       "4  {\"id\":417385,\"project_id\":417385,\"state\":\"inac...   \n",
       "\n",
       "                                             slug  spotlight  staff_pick  \\\n",
       "0                         babalus-childrens-shoes      False       False   \n",
       "1                         the-ofrenda-oracle-deck       True       False   \n",
       "2  record-electras-debut-album-pop-rock-classical       True       False   \n",
       "3                the-mist-of-tribunal-a-card-game      False       False   \n",
       "4        help-change-the-face-of-brain-impairment       True       False   \n",
       "\n",
       "        state  state_changed_at   usd_pledged  ratio_target  \n",
       "0        live        1548223375  28645.000000      1.023036  \n",
       "1  successful        1504976459   1950.000000      1.950000  \n",
       "2  successful        1371013395  22404.000000      1.493600  \n",
       "3      failed        1489425776    165.384934      0.016500  \n",
       "4  successful        1357763527   2820.000000      1.007143  "
      ],
      "text/html": "<div>\n<style scoped>\n    .dataframe tbody tr th:only-of-type {\n        vertical-align: middle;\n    }\n\n    .dataframe tbody tr th {\n        vertical-align: top;\n    }\n\n    .dataframe thead th {\n        text-align: right;\n    }\n</style>\n<table border=\"1\" class=\"dataframe\">\n  <thead>\n    <tr style=\"text-align: right;\">\n      <th></th>\n      <th>backers_count</th>\n      <th>blurb</th>\n      <th>category</th>\n      <th>converted_pledged_amount</th>\n      <th>country</th>\n      <th>created_at</th>\n      <th>creator</th>\n      <th>deadline</th>\n      <th>disable_communication</th>\n      <th>fx_rate</th>\n      <th>goal</th>\n      <th>id</th>\n      <th>is_starrable</th>\n      <th>launched_at</th>\n      <th>location</th>\n      <th>name</th>\n      <th>pledged</th>\n      <th>profile</th>\n      <th>slug</th>\n      <th>spotlight</th>\n      <th>staff_pick</th>\n      <th>state</th>\n      <th>state_changed_at</th>\n      <th>usd_pledged</th>\n      <th>ratio_target</th>\n    </tr>\n  </thead>\n  <tbody>\n    <tr>\n      <th>0</th>\n      <td>315</td>\n      <td>Babalus Shoes</td>\n      <td>{\"id\":266,\"name\":\"Footwear\",\"slug\":\"fashion/fo...</td>\n      <td>28645</td>\n      <td>US</td>\n      <td>1541459205</td>\n      <td>{\"id\":2094277840,\"name\":\"Lucy Conroy\",\"slug\":\"...</td>\n      <td>1552539775</td>\n      <td>False</td>\n      <td>1.000000</td>\n      <td>28000.0</td>\n      <td>2108505034</td>\n      <td>False</td>\n      <td>1548223375</td>\n      <td>{\"id\":2462429,\"name\":\"Novato\",\"slug\":\"novato-c...</td>\n      <td>Babalus Children's Shoes</td>\n      <td>28645.0</td>\n      <td>{\"id\":3508024,\"project_id\":3508024,\"state\":\"in...</td>\n      <td>babalus-childrens-shoes</td>\n      <td>False</td>\n      <td>False</td>\n      <td>live</td>\n      <td>1548223375</td>\n      <td>28645.000000</td>\n      <td>1.023036</td>\n    </tr>\n    <tr>\n      <th>1</th>\n      <td>47</td>\n      <td>A colorful Dia de los Muertos themed oracle de...</td>\n      <td>{\"id\":273,\"name\":\"Playing Cards\",\"slug\":\"games...</td>\n      <td>1950</td>\n      <td>US</td>\n      <td>1501684093</td>\n      <td>{\"id\":723886115,\"name\":\"Lisa Vollrath\",\"slug\":...</td>\n      <td>1504976459</td>\n      <td>False</td>\n      <td>1.000000</td>\n      <td>1000.0</td>\n      <td>928751314</td>\n      <td>False</td>\n      <td>1502384459</td>\n      <td>{\"id\":2400549,\"name\":\"Euless\",\"slug\":\"euless-t...</td>\n      <td>The Ofrenda Oracle Deck</td>\n      <td>1950.0</td>\n      <td>{\"id\":3094785,\"project_id\":3094785,\"state\":\"ac...</td>\n      <td>the-ofrenda-oracle-deck</td>\n      <td>True</td>\n      <td>False</td>\n      <td>successful</td>\n      <td>1504976459</td>\n      <td>1950.000000</td>\n      <td>1.950000</td>\n    </tr>\n    <tr>\n      <th>2</th>\n      <td>271</td>\n      <td>Electra's long awaited, eclectic Debut Pop/Roc...</td>\n      <td>{\"id\":43,\"name\":\"Rock\",\"slug\":\"music/rock\",\"po...</td>\n      <td>22404</td>\n      <td>US</td>\n      <td>1348987533</td>\n      <td>{\"id\":323849677,\"name\":\"Electra\",\"is_registere...</td>\n      <td>1371013395</td>\n      <td>False</td>\n      <td>1.000000</td>\n      <td>15000.0</td>\n      <td>928014092</td>\n      <td>False</td>\n      <td>1368421395</td>\n      <td>{\"id\":2423474,\"name\":\"Hollywood\",\"slug\":\"holly...</td>\n      <td>Record Electra's Debut Album (Pop, Rock, Class...</td>\n      <td>22404.0</td>\n      <td>{\"id\":359847,\"project_id\":359847,\"state\":\"inac...</td>\n      <td>record-electras-debut-album-pop-rock-classical</td>\n      <td>True</td>\n      <td>False</td>\n      <td>successful</td>\n      <td>1371013395</td>\n      <td>22404.000000</td>\n      <td>1.493600</td>\n    </tr>\n    <tr>\n      <th>3</th>\n      <td>3</td>\n      <td>The Mist of Tribunal is a turn-based card game...</td>\n      <td>{\"id\":273,\"name\":\"Playing Cards\",\"slug\":\"games...</td>\n      <td>165</td>\n      <td>GB</td>\n      <td>1483780271</td>\n      <td>{\"id\":196281496,\"name\":\"Artur Ordijanc (delete...</td>\n      <td>1489425776</td>\n      <td>False</td>\n      <td>1.308394</td>\n      <td>10000.0</td>\n      <td>596091328</td>\n      <td>False</td>\n      <td>1484245376</td>\n      <td>{\"id\":475457,\"name\":\"Kaunas\",\"slug\":\"kaunas-ka...</td>\n      <td>The Mist of Tribunal - A Card Game</td>\n      <td>136.0</td>\n      <td>{\"id\":2825329,\"project_id\":2825329,\"state\":\"in...</td>\n      <td>the-mist-of-tribunal-a-card-game</td>\n      <td>False</td>\n      <td>False</td>\n      <td>failed</td>\n      <td>1489425776</td>\n      <td>165.384934</td>\n      <td>0.016500</td>\n    </tr>\n    <tr>\n      <th>4</th>\n      <td>3</td>\n      <td>Livng with a brain impairment, what its like t...</td>\n      <td>{\"id\":48,\"name\":\"Nonfiction\",\"slug\":\"publishin...</td>\n      <td>2820</td>\n      <td>US</td>\n      <td>1354817071</td>\n      <td>{\"id\":1178460181,\"name\":\"Dawn Johnston\",\"is_re...</td>\n      <td>1357763527</td>\n      <td>False</td>\n      <td>1.000000</td>\n      <td>2800.0</td>\n      <td>998516049</td>\n      <td>False</td>\n      <td>1355171527</td>\n      <td>{\"id\":2507703,\"name\":\"Traverse City\",\"slug\":\"t...</td>\n      <td>Help change the face of Brain Impairment</td>\n      <td>2820.0</td>\n      <td>{\"id\":417385,\"project_id\":417385,\"state\":\"inac...</td>\n      <td>help-change-the-face-of-brain-impairment</td>\n      <td>True</td>\n      <td>False</td>\n      <td>successful</td>\n      <td>1357763527</td>\n      <td>2820.000000</td>\n      <td>1.007143</td>\n    </tr>\n  </tbody>\n</table>\n</div>"
     },
     "metadata": {},
     "execution_count": 36
    }
   ],
   "source": [
    "#define ratio between goal and pledged amount\n",
    "frame['ratio_target']= frame.eval('converted_pledged_amount / goal')\n",
    "frame.head()"
   ]
  },
  {
   "cell_type": "code",
   "execution_count": 37,
   "metadata": {},
   "outputs": [],
   "source": [
    "# conversion of dates in dataset: created_at, deadline, launched_at\n",
    "\n",
    "from datetime import datetime, date, time, timedelta"
   ]
  },
  {
   "cell_type": "code",
   "execution_count": 38,
   "metadata": {},
   "outputs": [],
   "source": [
    "to_convert = ['created_at', 'deadline', 'launched_at']\n",
    "for i in to_convert:\n",
    "    frame[i] = pd.to_datetime(frame[i], origin='unix', unit='s')"
   ]
  },
  {
   "source": [
    "- need to calculate timedelta between deadline and launched_at: how long was the project online?"
   ],
   "cell_type": "markdown",
   "metadata": {}
  },
  {
   "cell_type": "code",
   "execution_count": 39,
   "metadata": {},
   "outputs": [
    {
     "output_type": "execute_result",
     "data": {
      "text/plain": [
       "            backers_count   blurb  category  converted_pledged_amount  \\\n",
       "state                                                                   \n",
       "canceled             8624    8618      8624                      8624   \n",
       "failed              75199   75197     75199                     75199   \n",
       "live                 7311    7311      7311                      7311   \n",
       "successful         117465  117465    117465                    117465   \n",
       "suspended             623     623       623                       623   \n",
       "\n",
       "            country  created_at  creator  deadline  disable_communication  \\\n",
       "state                                                                       \n",
       "canceled       8624        8624     8624      8624                   8624   \n",
       "failed        75199       75199    75199     75199                  75199   \n",
       "live           7311        7311     7311      7311                   7311   \n",
       "successful   117465      117465   117465    117465                 117465   \n",
       "suspended       623         623      623       623                    623   \n",
       "\n",
       "            fx_rate    goal      id  is_starrable  launched_at  location  \\\n",
       "state                                                                      \n",
       "canceled       8624    8624    8624          8624         8624      8613   \n",
       "failed        75199   75199   75199         75199        75199     75151   \n",
       "live           7311    7311    7311          7311         7311      7311   \n",
       "successful   117465  117465  117465        117465       117465    117298   \n",
       "suspended       623     623     623           623          623       623   \n",
       "\n",
       "              name  pledged  profile    slug  spotlight  staff_pick  \\\n",
       "state                                                                 \n",
       "canceled      8624     8624     8624    8624       8624        8624   \n",
       "failed       75199    75199    75199   75199      75199       75199   \n",
       "live          7311     7311     7311    7311       7311        7311   \n",
       "successful  117465   117465   117465  117465     117465      117465   \n",
       "suspended      623      623      623     623        623         623   \n",
       "\n",
       "            state_changed_at  usd_pledged  ratio_target  \n",
       "state                                                    \n",
       "canceled                8624         8624          8624  \n",
       "failed                 75199        75199         75199  \n",
       "live                    7311         7311          7311  \n",
       "successful            117465       117465        117465  \n",
       "suspended                623          623           623  "
      ],
      "text/html": "<div>\n<style scoped>\n    .dataframe tbody tr th:only-of-type {\n        vertical-align: middle;\n    }\n\n    .dataframe tbody tr th {\n        vertical-align: top;\n    }\n\n    .dataframe thead th {\n        text-align: right;\n    }\n</style>\n<table border=\"1\" class=\"dataframe\">\n  <thead>\n    <tr style=\"text-align: right;\">\n      <th></th>\n      <th>backers_count</th>\n      <th>blurb</th>\n      <th>category</th>\n      <th>converted_pledged_amount</th>\n      <th>country</th>\n      <th>created_at</th>\n      <th>creator</th>\n      <th>deadline</th>\n      <th>disable_communication</th>\n      <th>fx_rate</th>\n      <th>goal</th>\n      <th>id</th>\n      <th>is_starrable</th>\n      <th>launched_at</th>\n      <th>location</th>\n      <th>name</th>\n      <th>pledged</th>\n      <th>profile</th>\n      <th>slug</th>\n      <th>spotlight</th>\n      <th>staff_pick</th>\n      <th>state_changed_at</th>\n      <th>usd_pledged</th>\n      <th>ratio_target</th>\n    </tr>\n    <tr>\n      <th>state</th>\n      <th></th>\n      <th></th>\n      <th></th>\n      <th></th>\n      <th></th>\n      <th></th>\n      <th></th>\n      <th></th>\n      <th></th>\n      <th></th>\n      <th></th>\n      <th></th>\n      <th></th>\n      <th></th>\n      <th></th>\n      <th></th>\n      <th></th>\n      <th></th>\n      <th></th>\n      <th></th>\n      <th></th>\n      <th></th>\n      <th></th>\n      <th></th>\n    </tr>\n  </thead>\n  <tbody>\n    <tr>\n      <th>canceled</th>\n      <td>8624</td>\n      <td>8618</td>\n      <td>8624</td>\n      <td>8624</td>\n      <td>8624</td>\n      <td>8624</td>\n      <td>8624</td>\n      <td>8624</td>\n      <td>8624</td>\n      <td>8624</td>\n      <td>8624</td>\n      <td>8624</td>\n      <td>8624</td>\n      <td>8624</td>\n      <td>8613</td>\n      <td>8624</td>\n      <td>8624</td>\n      <td>8624</td>\n      <td>8624</td>\n      <td>8624</td>\n      <td>8624</td>\n      <td>8624</td>\n      <td>8624</td>\n      <td>8624</td>\n    </tr>\n    <tr>\n      <th>failed</th>\n      <td>75199</td>\n      <td>75197</td>\n      <td>75199</td>\n      <td>75199</td>\n      <td>75199</td>\n      <td>75199</td>\n      <td>75199</td>\n      <td>75199</td>\n      <td>75199</td>\n      <td>75199</td>\n      <td>75199</td>\n      <td>75199</td>\n      <td>75199</td>\n      <td>75199</td>\n      <td>75151</td>\n      <td>75199</td>\n      <td>75199</td>\n      <td>75199</td>\n      <td>75199</td>\n      <td>75199</td>\n      <td>75199</td>\n      <td>75199</td>\n      <td>75199</td>\n      <td>75199</td>\n    </tr>\n    <tr>\n      <th>live</th>\n      <td>7311</td>\n      <td>7311</td>\n      <td>7311</td>\n      <td>7311</td>\n      <td>7311</td>\n      <td>7311</td>\n      <td>7311</td>\n      <td>7311</td>\n      <td>7311</td>\n      <td>7311</td>\n      <td>7311</td>\n      <td>7311</td>\n      <td>7311</td>\n      <td>7311</td>\n      <td>7311</td>\n      <td>7311</td>\n      <td>7311</td>\n      <td>7311</td>\n      <td>7311</td>\n      <td>7311</td>\n      <td>7311</td>\n      <td>7311</td>\n      <td>7311</td>\n      <td>7311</td>\n    </tr>\n    <tr>\n      <th>successful</th>\n      <td>117465</td>\n      <td>117465</td>\n      <td>117465</td>\n      <td>117465</td>\n      <td>117465</td>\n      <td>117465</td>\n      <td>117465</td>\n      <td>117465</td>\n      <td>117465</td>\n      <td>117465</td>\n      <td>117465</td>\n      <td>117465</td>\n      <td>117465</td>\n      <td>117465</td>\n      <td>117298</td>\n      <td>117465</td>\n      <td>117465</td>\n      <td>117465</td>\n      <td>117465</td>\n      <td>117465</td>\n      <td>117465</td>\n      <td>117465</td>\n      <td>117465</td>\n      <td>117465</td>\n    </tr>\n    <tr>\n      <th>suspended</th>\n      <td>623</td>\n      <td>623</td>\n      <td>623</td>\n      <td>623</td>\n      <td>623</td>\n      <td>623</td>\n      <td>623</td>\n      <td>623</td>\n      <td>623</td>\n      <td>623</td>\n      <td>623</td>\n      <td>623</td>\n      <td>623</td>\n      <td>623</td>\n      <td>623</td>\n      <td>623</td>\n      <td>623</td>\n      <td>623</td>\n      <td>623</td>\n      <td>623</td>\n      <td>623</td>\n      <td>623</td>\n      <td>623</td>\n      <td>623</td>\n    </tr>\n  </tbody>\n</table>\n</div>"
     },
     "metadata": {},
     "execution_count": 39
    }
   ],
   "source": [
    "#what is the status of the projects\n",
    "frame.groupby('state').count()"
   ]
  },
  {
   "source": [
    "- More than 50% of the projects were successful \n",
    "- 75k failed\n",
    "- take out all projects with status: canceled, live, suspended ??"
   ],
   "cell_type": "markdown",
   "metadata": {}
  },
  {
   "cell_type": "code",
   "execution_count": 40,
   "metadata": {},
   "outputs": [
    {
     "output_type": "execute_result",
     "data": {
      "text/plain": [
       "          count  percentage\n",
       "blurb         8        0.00\n",
       "location    226        0.11"
      ],
      "text/html": "<div>\n<style scoped>\n    .dataframe tbody tr th:only-of-type {\n        vertical-align: middle;\n    }\n\n    .dataframe tbody tr th {\n        vertical-align: top;\n    }\n\n    .dataframe thead th {\n        text-align: right;\n    }\n</style>\n<table border=\"1\" class=\"dataframe\">\n  <thead>\n    <tr style=\"text-align: right;\">\n      <th></th>\n      <th>count</th>\n      <th>percentage</th>\n    </tr>\n  </thead>\n  <tbody>\n    <tr>\n      <th>blurb</th>\n      <td>8</td>\n      <td>0.00</td>\n    </tr>\n    <tr>\n      <th>location</th>\n      <td>226</td>\n      <td>0.11</td>\n    </tr>\n  </tbody>\n</table>\n</div>"
     },
     "metadata": {},
     "execution_count": 40
    }
   ],
   "source": [
    "missing_values = pd.DataFrame(frame.isnull().sum(),columns=['count'])\n",
    "missing_values['percentage'] = (missing_values['count']/frame.shape[0]*100).round(2)\n",
    "missing_values.query('count != 0')"
   ]
  },
  {
   "cell_type": "code",
   "execution_count": null,
   "metadata": {},
   "outputs": [],
   "source": []
  }
 ]
}